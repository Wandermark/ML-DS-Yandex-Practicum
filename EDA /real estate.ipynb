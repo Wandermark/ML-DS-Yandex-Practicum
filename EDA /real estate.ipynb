{
 "cells": [
  {
   "cell_type": "markdown",
   "metadata": {},
   "source": [
    "# Исследование объявлений о продаже квартир\n",
    "\n",
    "В вашем распоряжении данные сервиса Яндекс.Недвижимость — архив объявлений о продаже квартир в Санкт-Петербурге и соседних населённых пунктов за несколько лет. Нужно научиться определять рыночную стоимость объектов недвижимости. Ваша задача — установить параметры. Это позволит построить автоматизированную систему: она отследит аномалии и мошенническую деятельность. \n",
    "\n",
    "По каждой квартире на продажу доступны два вида данных. Первые вписаны пользователем, вторые — получены автоматически на основе картографических данных. Например, расстояние до центра, аэропорта, ближайшего парка и водоёма. "
   ]
  },
  {
   "cell_type": "markdown",
   "metadata": {},
   "source": [
    "**План исследования**\n",
    "\n",
    "1. Изучение датафрейма с помощью методов info(), head() и гистограмм.\n",
    "На этом этапе открою файл, узнаю его размер и содержание, а затем определю ключевые проблемы, которые нужно будет решить на предобработке.\n",
    "\n",
    "\n",
    "2. Предобработка данных с помощью .isnull(), .unique(), .replace()\n",
    "Выясню, сколько в таблице пропущенных значений и определю правила по их предобработке. Затем проверю датафрейм на дубликаты и избавлюсь от них, а заодно от пропущенных знаний, которые смогут повлиять на качество анализа. Кроме того, скорректирую данные по типам там, где потребуется. \n",
    "\n",
    "\n",
    "3. Исследовательский анализ данных\n",
    "Изучу с помощью гистограмм распределения значений для ключевых факторов по объектам. Уточню природу аномальных значений. С помощью гистограмм и значений корреляции определю влияние отдельных факторов на общую стоимость квартиры. Изучу, как быстро продавались квартиры по годам, месяцам и дням недели.\n",
    "\n",
    "\n",
    "4. Подведу итоги по проекту."
   ]
  },
  {
   "cell_type": "markdown",
   "metadata": {},
   "source": [
    "### Откройте файл с данными и изучите общую информацию. "
   ]
  },
  {
   "cell_type": "code",
   "execution_count": 1,
   "metadata": {},
   "outputs": [],
   "source": [
    "import pandas as pd\n",
    "import numpy as np\n",
    "import matplotlib.pyplot as plt\n",
    "import pylab\n",
    "import seaborn as sns"
   ]
  },
  {
   "cell_type": "markdown",
   "metadata": {},
   "source": [
    "#### Изучение файла"
   ]
  },
  {
   "cell_type": "markdown",
   "metadata": {},
   "source": [
    "При первой попытке открыть файл мы видим, что у датафрейма есть разделитель \\t. Используем его в значении 'sep', чтобы корректно открыть таблицу. Вместо функции print() используем display(): подсмотрел ее в интернете, вывод данных с помощью нее мне кажется более читабельным."
   ]
  },
  {
   "cell_type": "code",
   "execution_count": 2,
   "metadata": {},
   "outputs": [
    {
     "data": {
      "text/html": [
       "<div>\n",
       "<style scoped>\n",
       "    .dataframe tbody tr th:only-of-type {\n",
       "        vertical-align: middle;\n",
       "    }\n",
       "\n",
       "    .dataframe tbody tr th {\n",
       "        vertical-align: top;\n",
       "    }\n",
       "\n",
       "    .dataframe thead th {\n",
       "        text-align: right;\n",
       "    }\n",
       "</style>\n",
       "<table border=\"1\" class=\"dataframe\">\n",
       "  <thead>\n",
       "    <tr style=\"text-align: right;\">\n",
       "      <th></th>\n",
       "      <th>total_images</th>\n",
       "      <th>last_price</th>\n",
       "      <th>total_area</th>\n",
       "      <th>first_day_exposition</th>\n",
       "      <th>rooms</th>\n",
       "      <th>ceiling_height</th>\n",
       "      <th>floors_total</th>\n",
       "      <th>living_area</th>\n",
       "      <th>floor</th>\n",
       "      <th>is_apartment</th>\n",
       "      <th>...</th>\n",
       "      <th>kitchen_area</th>\n",
       "      <th>balcony</th>\n",
       "      <th>locality_name</th>\n",
       "      <th>airports_nearest</th>\n",
       "      <th>cityCenters_nearest</th>\n",
       "      <th>parks_around3000</th>\n",
       "      <th>parks_nearest</th>\n",
       "      <th>ponds_around3000</th>\n",
       "      <th>ponds_nearest</th>\n",
       "      <th>days_exposition</th>\n",
       "    </tr>\n",
       "  </thead>\n",
       "  <tbody>\n",
       "    <tr>\n",
       "      <th>0</th>\n",
       "      <td>20</td>\n",
       "      <td>13000000.0</td>\n",
       "      <td>108.0</td>\n",
       "      <td>2019-03-07T00:00:00</td>\n",
       "      <td>3</td>\n",
       "      <td>2.70</td>\n",
       "      <td>16.0</td>\n",
       "      <td>51.0</td>\n",
       "      <td>8</td>\n",
       "      <td>NaN</td>\n",
       "      <td>...</td>\n",
       "      <td>25.0</td>\n",
       "      <td>NaN</td>\n",
       "      <td>Санкт-Петербург</td>\n",
       "      <td>18863.0</td>\n",
       "      <td>16028.0</td>\n",
       "      <td>1.0</td>\n",
       "      <td>482.0</td>\n",
       "      <td>2.0</td>\n",
       "      <td>755.0</td>\n",
       "      <td>NaN</td>\n",
       "    </tr>\n",
       "    <tr>\n",
       "      <th>1</th>\n",
       "      <td>7</td>\n",
       "      <td>3350000.0</td>\n",
       "      <td>40.4</td>\n",
       "      <td>2018-12-04T00:00:00</td>\n",
       "      <td>1</td>\n",
       "      <td>NaN</td>\n",
       "      <td>11.0</td>\n",
       "      <td>18.6</td>\n",
       "      <td>1</td>\n",
       "      <td>NaN</td>\n",
       "      <td>...</td>\n",
       "      <td>11.0</td>\n",
       "      <td>2.0</td>\n",
       "      <td>посёлок Шушары</td>\n",
       "      <td>12817.0</td>\n",
       "      <td>18603.0</td>\n",
       "      <td>0.0</td>\n",
       "      <td>NaN</td>\n",
       "      <td>0.0</td>\n",
       "      <td>NaN</td>\n",
       "      <td>81.0</td>\n",
       "    </tr>\n",
       "    <tr>\n",
       "      <th>2</th>\n",
       "      <td>10</td>\n",
       "      <td>5196000.0</td>\n",
       "      <td>56.0</td>\n",
       "      <td>2015-08-20T00:00:00</td>\n",
       "      <td>2</td>\n",
       "      <td>NaN</td>\n",
       "      <td>5.0</td>\n",
       "      <td>34.3</td>\n",
       "      <td>4</td>\n",
       "      <td>NaN</td>\n",
       "      <td>...</td>\n",
       "      <td>8.3</td>\n",
       "      <td>0.0</td>\n",
       "      <td>Санкт-Петербург</td>\n",
       "      <td>21741.0</td>\n",
       "      <td>13933.0</td>\n",
       "      <td>1.0</td>\n",
       "      <td>90.0</td>\n",
       "      <td>2.0</td>\n",
       "      <td>574.0</td>\n",
       "      <td>558.0</td>\n",
       "    </tr>\n",
       "    <tr>\n",
       "      <th>3</th>\n",
       "      <td>0</td>\n",
       "      <td>64900000.0</td>\n",
       "      <td>159.0</td>\n",
       "      <td>2015-07-24T00:00:00</td>\n",
       "      <td>3</td>\n",
       "      <td>NaN</td>\n",
       "      <td>14.0</td>\n",
       "      <td>NaN</td>\n",
       "      <td>9</td>\n",
       "      <td>NaN</td>\n",
       "      <td>...</td>\n",
       "      <td>NaN</td>\n",
       "      <td>0.0</td>\n",
       "      <td>Санкт-Петербург</td>\n",
       "      <td>28098.0</td>\n",
       "      <td>6800.0</td>\n",
       "      <td>2.0</td>\n",
       "      <td>84.0</td>\n",
       "      <td>3.0</td>\n",
       "      <td>234.0</td>\n",
       "      <td>424.0</td>\n",
       "    </tr>\n",
       "    <tr>\n",
       "      <th>4</th>\n",
       "      <td>2</td>\n",
       "      <td>10000000.0</td>\n",
       "      <td>100.0</td>\n",
       "      <td>2018-06-19T00:00:00</td>\n",
       "      <td>2</td>\n",
       "      <td>3.03</td>\n",
       "      <td>14.0</td>\n",
       "      <td>32.0</td>\n",
       "      <td>13</td>\n",
       "      <td>NaN</td>\n",
       "      <td>...</td>\n",
       "      <td>41.0</td>\n",
       "      <td>NaN</td>\n",
       "      <td>Санкт-Петербург</td>\n",
       "      <td>31856.0</td>\n",
       "      <td>8098.0</td>\n",
       "      <td>2.0</td>\n",
       "      <td>112.0</td>\n",
       "      <td>1.0</td>\n",
       "      <td>48.0</td>\n",
       "      <td>121.0</td>\n",
       "    </tr>\n",
       "  </tbody>\n",
       "</table>\n",
       "<p>5 rows × 22 columns</p>\n",
       "</div>"
      ],
      "text/plain": [
       "   total_images  last_price  total_area first_day_exposition  rooms  \\\n",
       "0            20  13000000.0       108.0  2019-03-07T00:00:00      3   \n",
       "1             7   3350000.0        40.4  2018-12-04T00:00:00      1   \n",
       "2            10   5196000.0        56.0  2015-08-20T00:00:00      2   \n",
       "3             0  64900000.0       159.0  2015-07-24T00:00:00      3   \n",
       "4             2  10000000.0       100.0  2018-06-19T00:00:00      2   \n",
       "\n",
       "   ceiling_height  floors_total  living_area  floor is_apartment  ...  \\\n",
       "0            2.70          16.0         51.0      8          NaN  ...   \n",
       "1             NaN          11.0         18.6      1          NaN  ...   \n",
       "2             NaN           5.0         34.3      4          NaN  ...   \n",
       "3             NaN          14.0          NaN      9          NaN  ...   \n",
       "4            3.03          14.0         32.0     13          NaN  ...   \n",
       "\n",
       "   kitchen_area  balcony    locality_name  airports_nearest  \\\n",
       "0          25.0      NaN  Санкт-Петербург           18863.0   \n",
       "1          11.0      2.0   посёлок Шушары           12817.0   \n",
       "2           8.3      0.0  Санкт-Петербург           21741.0   \n",
       "3           NaN      0.0  Санкт-Петербург           28098.0   \n",
       "4          41.0      NaN  Санкт-Петербург           31856.0   \n",
       "\n",
       "  cityCenters_nearest  parks_around3000  parks_nearest  ponds_around3000  \\\n",
       "0             16028.0               1.0          482.0               2.0   \n",
       "1             18603.0               0.0            NaN               0.0   \n",
       "2             13933.0               1.0           90.0               2.0   \n",
       "3              6800.0               2.0           84.0               3.0   \n",
       "4              8098.0               2.0          112.0               1.0   \n",
       "\n",
       "   ponds_nearest  days_exposition  \n",
       "0          755.0              NaN  \n",
       "1            NaN             81.0  \n",
       "2          574.0            558.0  \n",
       "3          234.0            424.0  \n",
       "4           48.0            121.0  \n",
       "\n",
       "[5 rows x 22 columns]"
      ]
     },
     "execution_count": 2,
     "metadata": {},
     "output_type": "execute_result"
    }
   ],
   "source": [
    "try:\n",
    "    data = pd.read_csv('/datasets/real_estate_data.csv', sep='\\t', decimal='.')\n",
    "except FileNotFoundError:\n",
    "    data = pd.read_csv('/Users/macbookpro/Downloads/real_estate_data.csv', sep='\\t', decimal='.')\n",
    "data.head()"
   ]
  },
  {
   "cell_type": "markdown",
   "metadata": {},
   "source": [
    "Посмотрим общую информацию о датафрейме и сразу посчитаем, по какому числу населенных пунктов у нас есть данные: это пригодится на следующем этапе обработки. Заодно построим гистограммы по каждой колонке датафрейма, чтобы оценить их более наглядно."
   ]
  },
  {
   "cell_type": "code",
   "execution_count": 3,
   "metadata": {},
   "outputs": [
    {
     "name": "stdout",
     "output_type": "stream",
     "text": [
      "<class 'pandas.core.frame.DataFrame'>\n",
      "RangeIndex: 23699 entries, 0 to 23698\n",
      "Data columns (total 22 columns):\n",
      " #   Column                Non-Null Count  Dtype  \n",
      "---  ------                --------------  -----  \n",
      " 0   total_images          23699 non-null  int64  \n",
      " 1   last_price            23699 non-null  float64\n",
      " 2   total_area            23699 non-null  float64\n",
      " 3   first_day_exposition  23699 non-null  object \n",
      " 4   rooms                 23699 non-null  int64  \n",
      " 5   ceiling_height        14504 non-null  float64\n",
      " 6   floors_total          23613 non-null  float64\n",
      " 7   living_area           21796 non-null  float64\n",
      " 8   floor                 23699 non-null  int64  \n",
      " 9   is_apartment          2775 non-null   object \n",
      " 10  studio                23699 non-null  bool   \n",
      " 11  open_plan             23699 non-null  bool   \n",
      " 12  kitchen_area          21421 non-null  float64\n",
      " 13  balcony               12180 non-null  float64\n",
      " 14  locality_name         23650 non-null  object \n",
      " 15  airports_nearest      18157 non-null  float64\n",
      " 16  cityCenters_nearest   18180 non-null  float64\n",
      " 17  parks_around3000      18181 non-null  float64\n",
      " 18  parks_nearest         8079 non-null   float64\n",
      " 19  ponds_around3000      18181 non-null  float64\n",
      " 20  ponds_nearest         9110 non-null   float64\n",
      " 21  days_exposition       20518 non-null  float64\n",
      "dtypes: bool(2), float64(14), int64(3), object(3)\n",
      "memory usage: 3.7+ MB\n",
      "None\n",
      "\n",
      "Число уникальных названий населенных пунктов: 364\n"
     ]
    },
    {
     "data": {
      "image/png": "[encoded data removed]",
      "text/plain": [
       "<Figure size 864x720 with 20 Axes>"
      ]
     },
     "metadata": {
      "needs_background": "light"
     },
     "output_type": "display_data"
    }
   ],
   "source": [
    "print(data.info())\n",
    "print()\n",
    "print(f\"Число уникальных названий населенных пунктов: {data['locality_name'].nunique()}\")\n",
    "\n",
    "data.hist(figsize=(12, 10), grid=True, edgecolor='black', bins=20)\n",
    "plt.show()"
   ]
  },
  {
   "cell_type": "markdown",
   "metadata": {},
   "source": [
    "#### Вывод перед предобработкой данных\n",
    "\n",
    "При изучении первых пяти строк датафрейма и гистограмм мы видим ряд проблем, которые нужно решить на предобработке:\n",
    "1. В 14 из 21 колонки есть пропущенные данные. Больше всего пропусков в is_apartment, parks_nearest, ponds_nearest, balcony, ceiling_height. Это не особо критично: вижу по заданию, что с is_apartment, parks_nearest, ponds_nearest работать не будем. Balcony и ceiling_height обработаю на следующем этапе.\n",
    "2. В parks_around3000, rooms, floors_total и ponds_around3000 неверные значения данных pandas: float вместо int64. Не может быть 2.5 парков в радиусе 3 км или 2.5 комнаты.\n",
    "3. Вид данных в first_day_exposition - object вместо datetime64.\n",
    "4. Очень много уникальных названий населенных пунктов: это значит, что есть вероятност названий-дубликатов.\n",
    "5. По всем гистограммам, кроме ponds_nearest, airports_nearest и total_images видно, что распределение данных во многих из них нельзя назвать нормальным. Это связано с пробелами в данных и аномалиями, которые мы попробуем устранить при предобработке."
   ]
  },
  {
   "cell_type": "markdown",
   "metadata": {},
   "source": [
    "### Предобработка данных"
   ]
  },
  {
   "cell_type": "markdown",
   "metadata": {},
   "source": [
    "#### Найдите и изучите пропущенные значения в столбцах"
   ]
  },
  {
   "cell_type": "markdown",
   "metadata": {},
   "source": [
    "Сперва посмотрим, сколько пропущенных значений в каждой колонке датафрейма."
   ]
  },
  {
   "cell_type": "code",
   "execution_count": 4,
   "metadata": {},
   "outputs": [
    {
     "data": {
      "text/plain": [
       "total_images                0\n",
       "last_price                  0\n",
       "total_area                  0\n",
       "first_day_exposition        0\n",
       "rooms                       0\n",
       "ceiling_height           9195\n",
       "floors_total               86\n",
       "living_area              1903\n",
       "floor                       0\n",
       "is_apartment            20924\n",
       "studio                      0\n",
       "open_plan                   0\n",
       "kitchen_area             2278\n",
       "balcony                 11519\n",
       "locality_name              49\n",
       "airports_nearest         5542\n",
       "cityCenters_nearest      5519\n",
       "parks_around3000         5518\n",
       "parks_nearest           15620\n",
       "ponds_around3000         5518\n",
       "ponds_nearest           14589\n",
       "days_exposition          3181\n",
       "dtype: int64"
      ]
     },
     "execution_count": 4,
     "metadata": {},
     "output_type": "execute_result"
    }
   ],
   "source": [
    "data.isnull().sum()"
   ]
  },
  {
   "cell_type": "markdown",
   "metadata": {
    "tags": []
   },
   "source": [
    "Заполним пропущенные значения там, где это возможно. Правила: \n",
    "\n",
    "1. Если продавец не указал число балконов, то, скорее всего, в его квартире их нет. Такие пропуски заменим на число 0.\n",
    "2. Скорее всего, в пропущенных значениях parks_around3000 и ponds_around3000 в радиусе 3 км попросту нет парков или водоемов. Такие пропуски также заменим на 0: нам они в рамках текущей работы не понадобятся, но глаз могут мозолить.\n",
    "3. В пропущенных значениях в airports_nearest, cityCenters_nearest, parks_nearest, ponds_nearest оставим пропуски. По существующим значениям видно, что в датафрейме есть и не самые близкие расстояния: например, в первой строке cityCenters_nearest стоит 18603 м. \n",
    "4. В ceiling_height посчитаем медианное значение, исключив из подсчета аномально высокие показатели (потолок в квартире не может достигать 10 метров). Регламента высоты потолков нет, но новые дома строятся с потолками не выше 3.2 м (источник: https://spb.101novostroyka.ru/info/standartnaya-vysota-potolkov-normativy). Это значение мы и возьмем в качестве границы нормы.\n",
    "5. В is_apartment пропуски заменим на False: скорее всего, такие данные относятся к старому жилому фонду, где нет апартаментов, или понятие \"апартаменты\" появилось уже после снятия объявления.\n",
    "6. Для пропусков по жилой площади и площадки кухни посчитаем средние значения от всей площади по всему датафрейму.\n",
    "\n",
    "Если логичную замену предложить невозможно, то оставим пропуски. "
   ]
  },
  {
   "cell_type": "code",
   "execution_count": 5,
   "metadata": {
    "tags": []
   },
   "outputs": [
    {
     "name": "stdout",
     "output_type": "stream",
     "text": [
      "total_images                0\n",
      "last_price                  0\n",
      "total_area                  0\n",
      "first_day_exposition        0\n",
      "rooms                       0\n",
      "ceiling_height              0\n",
      "floors_total               86\n",
      "living_area                 0\n",
      "floor                       0\n",
      "is_apartment                0\n",
      "studio                      0\n",
      "open_plan                   0\n",
      "kitchen_area                0\n",
      "balcony                     0\n",
      "locality_name              49\n",
      "airports_nearest         5542\n",
      "cityCenters_nearest         0\n",
      "parks_around3000            0\n",
      "parks_nearest           15620\n",
      "ponds_around3000            0\n",
      "ponds_nearest           14589\n",
      "days_exposition          3181\n",
      "dtype: int64\n"
     ]
    }
   ],
   "source": [
    "data[['balcony', \n",
    "      'parks_around3000', \n",
    "      'ponds_around3000']] = data[['balcony', \n",
    "                                   'parks_around3000', \n",
    "                                   'ponds_around3000']].fillna(0)\n",
    "\n",
    "data['cityCenters_nearest'] = data['cityCenters_nearest'].fillna(0)\n",
    "normal_ceiling = data.query('ceiling_height <= 3.2')\n",
    "data['ceiling_height'] = data['ceiling_height'].fillna(\n",
    "    normal_ceiling['ceiling_height'].median())\n",
    "\n",
    "living_ratio = data['living_area'].mean() / data['total_area'].mean()\n",
    "kitchen_ratio = data['kitchen_area'].mean() / data['total_area'].mean()\n",
    "data['living_area'].fillna(living_ratio * data['total_area'], inplace=True)\n",
    "data['kitchen_area'].fillna(kitchen_ratio * data['total_area'], inplace=True)\n",
    "data['is_apartment'] = data['is_apartment'].fillna(False)\n",
    "print(data.isnull().sum())"
   ]
  },
  {
   "cell_type": "code",
   "execution_count": 6,
   "metadata": {},
   "outputs": [
    {
     "data": {
      "text/plain": [
       "total_images                0\n",
       "last_price                  0\n",
       "total_area                  0\n",
       "first_day_exposition        0\n",
       "rooms                       0\n",
       "ceiling_height              0\n",
       "floors_total                0\n",
       "living_area                 0\n",
       "floor                       0\n",
       "is_apartment                0\n",
       "studio                      0\n",
       "open_plan                   0\n",
       "kitchen_area                0\n",
       "balcony                     0\n",
       "locality_name               0\n",
       "airports_nearest         5524\n",
       "cityCenters_nearest         0\n",
       "parks_around3000            0\n",
       "parks_nearest           15535\n",
       "ponds_around3000            0\n",
       "ponds_nearest           14529\n",
       "days_exposition          3171\n",
       "dtype: int64"
      ]
     },
     "execution_count": 6,
     "metadata": {},
     "output_type": "execute_result"
    }
   ],
   "source": [
    "data = data.dropna(subset=['floors_total', 'locality_name'])\n",
    "\n",
    "data.isnull().sum()"
   ]
  },
  {
   "cell_type": "markdown",
   "metadata": {},
   "source": [
    "#### Укажите причины, которые могли привести к пропускам в данны"
   ]
  },
  {
   "cell_type": "markdown",
   "metadata": {},
   "source": [
    "**Высота потолка:** в ceiling_height пропуски можно объяснить человеческим фактором: возможно, продавцы недвижимости забыли заполнить эту информацию. Кроме того, в столбце есть аномально высокие значения выше четырех метров. Вероятно, эти значения связаны с ошибкой форматирования при вводе: например, продавец вводил сантиметры вместо метров.\n",
    "\n",
    "**Жилая площадь и площадь кухни:** скорее всего, часть продавцов недвижимости посчитала эту информацию ненужной и указывала только общую площадь. Мы видим, что в колонке с общей площадью (total_area) пропусков нет. \n",
    "\n",
    "**Апартаменты:** это относительно новое для рынка недвижимости в России понятие, которое относится к новостройкам, а не к старому жилому фонду. Поэтому отсутствие таких значений можно объяснить или давностью объявления, или тем, что объявления относятся к старому жилому фонду.\n",
    "\n",
    "**Название населенного пункта:** мы видим, что таких пропусков относительно немного: всего 49. В первую очередь они связаны с человеческим фактором: скорее всего, продавцы просто забыли заполнить эту информацию.\n",
    "\n",
    "**Близость к аэропорту, центру города, паркам и водоемам:** вероятно, пропуски в этих колонках можно объяснить или человеческим фактором (продацы поленились или не захотели указывать эти значения), или дальностью расположения объекта недвижимости к этим сущностям.\n",
    "\n",
    "**Сколько дней было размещено объявление:** здесь я вижу две возможные причины пропусков: или объявление еще висит (значит, время от публикации до снятия еще нельзя рассчитать), или причина в технической ошибке (данные пропали при выгрузке датафрейма)."
   ]
  },
  {
   "cell_type": "markdown",
   "metadata": {},
   "source": [
    "#### Рассмотрите типы данных в каждом столбце"
   ]
  },
  {
   "cell_type": "markdown",
   "metadata": {},
   "source": [
    "Еще раз посмотрим на общую информацию по датафрейму:"
   ]
  },
  {
   "cell_type": "code",
   "execution_count": 7,
   "metadata": {},
   "outputs": [
    {
     "name": "stdout",
     "output_type": "stream",
     "text": [
      "<class 'pandas.core.frame.DataFrame'>\n",
      "Int64Index: 23565 entries, 0 to 23698\n",
      "Data columns (total 22 columns):\n",
      " #   Column                Non-Null Count  Dtype  \n",
      "---  ------                --------------  -----  \n",
      " 0   total_images          23565 non-null  int64  \n",
      " 1   last_price            23565 non-null  float64\n",
      " 2   total_area            23565 non-null  float64\n",
      " 3   first_day_exposition  23565 non-null  object \n",
      " 4   rooms                 23565 non-null  int64  \n",
      " 5   ceiling_height        23565 non-null  float64\n",
      " 6   floors_total          23565 non-null  float64\n",
      " 7   living_area           23565 non-null  float64\n",
      " 8   floor                 23565 non-null  int64  \n",
      " 9   is_apartment          23565 non-null  bool   \n",
      " 10  studio                23565 non-null  bool   \n",
      " 11  open_plan             23565 non-null  bool   \n",
      " 12  kitchen_area          23565 non-null  float64\n",
      " 13  balcony               23565 non-null  float64\n",
      " 14  locality_name         23565 non-null  object \n",
      " 15  airports_nearest      18041 non-null  float64\n",
      " 16  cityCenters_nearest   23565 non-null  float64\n",
      " 17  parks_around3000      23565 non-null  float64\n",
      " 18  parks_nearest         8030 non-null   float64\n",
      " 19  ponds_around3000      23565 non-null  float64\n",
      " 20  ponds_nearest         9036 non-null   float64\n",
      " 21  days_exposition       20394 non-null  float64\n",
      "dtypes: bool(3), float64(14), int64(3), object(2)\n",
      "memory usage: 3.7+ MB\n",
      "None\n"
     ]
    }
   ],
   "source": [
    "data.info()"
   ]
  },
  {
   "cell_type": "markdown",
   "metadata": {},
   "source": [
    "#### Найдите столбцы, в которых нужно изменить тип данных, и преобразуйте их"
   ]
  },
  {
   "cell_type": "markdown",
   "metadata": {},
   "source": [
    "Мы видим, что тип данных некорректен в следующих столбцах:\n",
    "\n",
    "1. first_day_exposition должен быть dataframe64, а не object, тк внутри столбца дата публикации объявления\n",
    "2. floors_total и balcony должен быть int64, а не float64: количество этажей и балконов не может быть дробным значением. Пока изменим только balcony, тк в floors_total есть пропущенные значения\n",
    "3. parks_around3000 и ponds_around3000 должны быть int64, а не float64: количество парков и водоемов в радиусе 3 км не может быть дробным значением\n",
    "4. days_exposition должно быть int64, а не float64: количество парков и водоемов в радиусе 3 км не может быть дробным значением\n",
    "\n",
    "Преобразуем типы данных в тех столбцах, где это необходимо:"
   ]
  },
  {
   "cell_type": "code",
   "execution_count": 8,
   "metadata": {},
   "outputs": [
    {
     "name": "stdout",
     "output_type": "stream",
     "text": [
      "<class 'pandas.core.frame.DataFrame'>\n",
      "Int64Index: 23565 entries, 0 to 23698\n",
      "Data columns (total 22 columns):\n",
      " #   Column                Non-Null Count  Dtype         \n",
      "---  ------                --------------  -----         \n",
      " 0   total_images          23565 non-null  int64         \n",
      " 1   last_price            23565 non-null  float64       \n",
      " 2   total_area            23565 non-null  float64       \n",
      " 3   first_day_exposition  23565 non-null  datetime64[ns]\n",
      " 4   rooms                 23565 non-null  int64         \n",
      " 5   ceiling_height        23565 non-null  float64       \n",
      " 6   floors_total          23565 non-null  float64       \n",
      " 7   living_area           23565 non-null  float64       \n",
      " 8   floor                 23565 non-null  int64         \n",
      " 9   is_apartment          23565 non-null  bool          \n",
      " 10  studio                23565 non-null  bool          \n",
      " 11  open_plan             23565 non-null  bool          \n",
      " 12  kitchen_area          23565 non-null  float64       \n",
      " 13  balcony               23565 non-null  int64         \n",
      " 14  locality_name         23565 non-null  object        \n",
      " 15  airports_nearest      18041 non-null  float64       \n",
      " 16  cityCenters_nearest   23565 non-null  float64       \n",
      " 17  parks_around3000      23565 non-null  int64         \n",
      " 18  parks_nearest         8030 non-null   float64       \n",
      " 19  ponds_around3000      23565 non-null  int64         \n",
      " 20  ponds_nearest         9036 non-null   float64       \n",
      " 21  days_exposition       23565 non-null  int64         \n",
      "dtypes: bool(3), datetime64[ns](1), float64(10), int64(7), object(1)\n",
      "memory usage: 3.7+ MB\n",
      "None\n"
     ]
    }
   ],
   "source": [
    "data['first_day_exposition'] = pd.to_datetime(data['first_day_exposition'], format='%Y-%m-%d')\n",
    "data['balcony'] = data['balcony'].astype('int64')\n",
    "data['days_exposition'] = data['days_exposition'].fillna(0).astype('int')\n",
    "data[['parks_around3000', 'ponds_around3000']] = data[['parks_around3000', 'ponds_around3000']].astype('int64')\n",
    "print(data.info())"
   ]
  },
  {
   "cell_type": "code",
   "execution_count": 9,
   "metadata": {},
   "outputs": [],
   "source": [
    "data['floors_total'] = data['floors_total'].astype('int64')"
   ]
  },
  {
   "cell_type": "markdown",
   "metadata": {},
   "source": [
    "#### Изучите уникальные значения в столбце с названиями и устраните неявные дубликаты"
   ]
  },
  {
   "cell_type": "markdown",
   "metadata": {},
   "source": [
    "Сперва посмотрим все уникальные значения по локациям:"
   ]
  },
  {
   "cell_type": "code",
   "execution_count": 10,
   "metadata": {},
   "outputs": [
    {
     "name": "stdout",
     "output_type": "stream",
     "text": [
      "['Санкт-Петербург' 'посёлок Шушары' 'городской посёлок Янино-1'\n",
      " 'посёлок Парголово' 'посёлок Мурино' 'Ломоносов' 'Сертолово' 'Петергоф'\n",
      " 'Пушкин' 'деревня Кудрово' 'Коммунар' 'Колпино'\n",
      " 'поселок городского типа Красный Бор' 'Гатчина' 'поселок Мурино'\n",
      " 'деревня Фёдоровское' 'Выборг' 'Кронштадт' 'Кировск'\n",
      " 'деревня Новое Девяткино' 'посёлок Металлострой'\n",
      " 'посёлок городского типа Лебяжье' 'посёлок городского типа Сиверский'\n",
      " 'поселок Молодцово' 'поселок городского типа Кузьмоловский'\n",
      " 'садовое товарищество Новая Ропша' 'Павловск' 'деревня Пикколово'\n",
      " 'Всеволожск' 'Волхов' 'Кингисепп' 'Приозерск' 'Сестрорецк'\n",
      " 'деревня Куттузи' 'посёлок Аннино' 'поселок городского типа Ефимовский'\n",
      " 'посёлок Плодовое' 'деревня Заклинье' 'поселок Торковичи'\n",
      " 'поселок Первомайское' 'Красное Село' 'посёлок Понтонный' 'Сясьстрой'\n",
      " 'деревня Старая' 'деревня Лесколово' 'посёлок Новый Свет' 'Сланцы'\n",
      " 'село Путилово' 'Ивангород' 'Мурино' 'Шлиссельбург' 'Никольское'\n",
      " 'Зеленогорск' 'Сосновый Бор' 'поселок Новый Свет' 'деревня Оржицы'\n",
      " 'деревня Кальтино' 'Кудрово' 'поселок Романовка' 'посёлок Бугры'\n",
      " 'поселок Бугры' 'поселок городского типа Рощино' 'Кириши' 'Луга'\n",
      " 'Волосово' 'Отрадное' 'село Павлово' 'поселок Оредеж' 'село Копорье'\n",
      " 'посёлок городского типа Красный Бор' 'посёлок Молодёжное' 'Тихвин'\n",
      " 'посёлок Победа' 'деревня Нурма' 'поселок городского типа Синявино'\n",
      " 'Тосно' 'посёлок городского типа Кузьмоловский' 'посёлок Стрельна'\n",
      " 'Бокситогорск' 'посёлок Александровская' 'деревня Лопухинка' 'Пикалёво'\n",
      " 'поселок Терволово' 'поселок городского типа Советский' 'Подпорожье'\n",
      " 'посёлок Петровское' 'посёлок городского типа Токсово' 'поселок Сельцо'\n",
      " 'посёлок городского типа Вырица' 'деревня Кипень' 'деревня Келози'\n",
      " 'деревня Вартемяги' 'посёлок Тельмана' 'поселок Севастьяново'\n",
      " 'городской поселок Большая Ижора' 'городской посёлок Павлово'\n",
      " 'деревня Агалатово' 'посёлок Новогорелово'\n",
      " 'городской посёлок Лесогорский' 'деревня Лаголово' 'поселок Цвелодубово'\n",
      " 'поселок городского типа Рахья' 'поселок городского типа Вырица'\n",
      " 'деревня Белогорка' 'поселок Заводской' 'городской посёлок Новоселье'\n",
      " 'деревня Большие Колпаны' 'деревня Горбунки' 'деревня Батово'\n",
      " 'деревня Заневка' 'деревня Иссад' 'Приморск'\n",
      " 'городской посёлок Фёдоровское' 'деревня Мистолово' 'Новая Ладога'\n",
      " 'поселок Зимитицы' 'поселок Барышево' 'деревня Разметелево'\n",
      " 'поселок городского типа имени Свердлова' 'деревня Пеники'\n",
      " 'поселок Рябово' 'деревня Пудомяги' 'поселок станции Корнево'\n",
      " 'деревня Низино' 'деревня Бегуницы' 'посёлок Поляны'\n",
      " 'городской посёлок Мга' 'поселок Елизаветино'\n",
      " 'посёлок городского типа Кузнечное' 'деревня Колтуши'\n",
      " 'поселок Запорожское' 'посёлок городского типа Рощино'\n",
      " 'деревня Гостилицы' 'деревня Малое Карлино' 'посёлок Мичуринское'\n",
      " 'посёлок городского типа имени Морозова' 'посёлок Песочный'\n",
      " 'посёлок Сосново' 'деревня Аро' 'поселок Ильичёво'\n",
      " 'посёлок городского типа Тайцы' 'деревня Малое Верево' 'деревня Извара'\n",
      " 'поселок станции Вещево' 'село Паша' 'деревня Калитино'\n",
      " 'посёлок городского типа Ульяновка' 'деревня Чудской Бор'\n",
      " 'поселок городского типа Дубровка' 'деревня Мины' 'поселок Войсковицы'\n",
      " 'посёлок городского типа имени Свердлова' 'деревня Коркино'\n",
      " 'посёлок Ропша' 'поселок городского типа Приладожский' 'посёлок Щеглово'\n",
      " 'посёлок Гаврилово' 'Лодейное Поле' 'деревня Рабитицы'\n",
      " 'поселок городского типа Никольский' 'деревня Кузьмолово'\n",
      " 'деревня Малые Колпаны' 'поселок Тельмана' 'посёлок Петро-Славянка'\n",
      " 'городской посёлок Назия' 'посёлок Репино' 'посёлок Ильичёво'\n",
      " 'поселок Углово' 'поселок Старая Малукса' 'садовое товарищество Рахья'\n",
      " 'поселок Аннино' 'поселок Победа' 'деревня Меньково'\n",
      " 'деревня Старые Бегуницы' 'посёлок Сапёрный' 'поселок Семрино'\n",
      " 'поселок Гаврилово' 'поселок Глажево' 'поселок Кобринское'\n",
      " 'деревня Гарболово' 'деревня Юкки' 'поселок станции Приветнинское'\n",
      " 'деревня Мануйлово' 'деревня Пчева' 'поселок Поляны' 'поселок Цвылёво'\n",
      " 'поселок Мельниково' 'посёлок Пудость' 'посёлок Усть-Луга' 'Светогорск'\n",
      " 'Любань' 'поселок Селезнёво' 'поселок городского типа Рябово'\n",
      " 'Каменногорск' 'деревня Кривко' 'поселок Глебычево' 'деревня Парицы'\n",
      " 'поселок Жилпосёлок' 'посёлок городского типа Мга'\n",
      " 'городской поселок Янино-1' 'посёлок Войскорово' 'село Никольское'\n",
      " 'посёлок Терволово' 'поселок Стеклянный' 'посёлок городского типа Важины'\n",
      " 'посёлок Мыза-Ивановка' 'село Русско-Высоцкое'\n",
      " 'поселок городского типа Лебяжье' 'поселок городского типа Форносово'\n",
      " 'село Старая Ладога' 'поселок Житково' 'городской посёлок Виллози'\n",
      " 'деревня Лампово' 'деревня Шпаньково' 'деревня Лаврики' 'посёлок Сумино'\n",
      " 'посёлок Возрождение' 'деревня Старосиверская' 'посёлок Кикерино'\n",
      " 'поселок Возрождение' 'деревня Старое Хинколово' 'посёлок Пригородный'\n",
      " 'посёлок Торфяное' 'городской посёлок Будогощь' 'поселок Суходолье'\n",
      " 'поселок Красная Долина' 'деревня Хапо-Ое'\n",
      " 'поселок городского типа Дружная Горка' 'поселок Лисий Нос'\n",
      " 'деревня Яльгелево' 'посёлок Стеклянный' 'село Рождествено'\n",
      " 'деревня Старополье' 'посёлок Левашово' 'деревня Сяськелево'\n",
      " 'деревня Камышовка'\n",
      " 'садоводческое некоммерческое товарищество Лесная Поляна'\n",
      " 'деревня Хязельки' 'поселок Жилгородок' 'посёлок городского типа Павлово'\n",
      " 'деревня Ялгино' 'поселок Новый Учхоз' 'городской посёлок Рощино'\n",
      " 'поселок Гончарово' 'поселок Почап' 'посёлок Сапёрное'\n",
      " 'посёлок Платформа 69-й километр' 'поселок Каложицы' 'деревня Фалилеево'\n",
      " 'деревня Пельгора' 'поселок городского типа Лесогорский'\n",
      " 'деревня Торошковичи' 'посёлок Белоостров' 'посёлок Алексеевка'\n",
      " 'поселок Серебрянский' 'поселок Лукаши' 'поселок Петровское'\n",
      " 'деревня Щеглово' 'поселок Мичуринское' 'деревня Тарасово'\n",
      " 'поселок Кингисеппский' 'посёлок при железнодорожной станции Вещево'\n",
      " 'поселок Ушаки' 'деревня Котлы' 'деревня Сижно' 'деревня Торосово'\n",
      " 'посёлок Форт Красная Горка' 'деревня Новолисино'\n",
      " 'посёлок станции Громово' 'деревня Глинка' 'посёлок Мельниково'\n",
      " 'поселок городского типа Назия' 'деревня Старая Пустошь'\n",
      " 'поселок Коммунары' 'поселок Починок'\n",
      " 'посёлок городского типа Вознесенье' 'деревня Разбегаево'\n",
      " 'посёлок городского типа Рябово' 'поселок Гладкое'\n",
      " 'посёлок при железнодорожной станции Приветнинское' 'поселок Тёсово-4'\n",
      " 'посёлок Жилгородок' 'деревня Бор' 'посёлок Коробицыно'\n",
      " 'деревня Большая Вруда' 'деревня Курковицы' 'посёлок Лисий Нос'\n",
      " 'городской посёлок Советский' 'посёлок Кобралово' 'деревня Суоранда'\n",
      " 'поселок Кобралово' 'поселок городского типа Кондратьево'\n",
      " 'коттеджный поселок Счастье' 'поселок Любань' 'деревня Реброво'\n",
      " 'деревня Зимитицы' 'деревня Тойворово' 'поселок Семиозерье'\n",
      " 'поселок Лесное' 'поселок Совхозный' 'поселок Усть-Луга'\n",
      " 'посёлок Ленинское' 'посёлок Суйда' 'посёлок городского типа Форносово'\n",
      " 'деревня Нижние Осельки' 'посёлок станции Свирь' 'поселок Перово'\n",
      " 'Высоцк' 'поселок Гарболово' 'село Шум' 'поселок Котельский'\n",
      " 'поселок станции Лужайка' 'деревня Большая Пустомержа'\n",
      " 'поселок Красносельское' 'деревня Вахнова Кара' 'деревня Пижма'\n",
      " 'коттеджный поселок Кивеннапа Север' 'поселок Коробицыно'\n",
      " 'поселок Ромашки' 'посёлок Перово' 'деревня Каськово' 'деревня Куровицы'\n",
      " 'посёлок Плоское' 'поселок Сумино'\n",
      " 'поселок городского типа Большая Ижора' 'поселок Кирпичное'\n",
      " 'деревня Ям-Тесово' 'деревня Раздолье' 'деревня Терпилицы'\n",
      " 'поселок городского типа Токсово' 'посёлок Шугозеро' 'деревня Ваганово'\n",
      " 'поселок Пушное' 'садовое товарищество Садко' 'посёлок Усть-Ижора'\n",
      " 'деревня Выскатка' 'городской посёлок Свирьстрой' 'поселок Громово'\n",
      " 'деревня Кисельня' 'посёлок Старая Малукса' 'деревня Трубников Бор'\n",
      " 'поселок Калитино' 'посёлок Высокоключевой'\n",
      " 'садовое товарищество Приладожский' 'посёлок Пансионат Зелёный Бор'\n",
      " 'деревня Ненимяки' 'поселок Пансионат Зелёный Бор' 'деревня Снегирёвка'\n",
      " 'деревня Рапполово' 'деревня Пустынка' 'поселок Рабитицы'\n",
      " 'деревня Большой Сабск' 'деревня Русско' 'деревня Лупполово'\n",
      " 'деревня Большое Рейзино' 'деревня Малая Романовка' 'поселок Дружноселье'\n",
      " 'поселок Пчевжа' 'поселок Володарское' 'деревня Нижняя'\n",
      " 'коттеджный посёлок Лесное' 'деревня Тихковицы' 'деревня Борисова Грива'\n",
      " 'посёлок Дзержинского']\n"
     ]
    }
   ],
   "source": [
    "print(data.locality_name.unique())"
   ]
  },
  {
   "cell_type": "markdown",
   "metadata": {},
   "source": [
    "Вижу, что есть много неявных дубликатов по типу \"поселок\" и \"садовое товарищество\". Устраню их и сведу дубликаты к одному виду с помощью replace(). Кроме того, при обработке заменю 'ё' на 'е'."
   ]
  },
  {
   "cell_type": "code",
   "execution_count": 11,
   "metadata": {},
   "outputs": [
    {
     "name": "stdout",
     "output_type": "stream",
     "text": [
      "['Санкт-Петербург' 'поселок Шушары' 'поселок Янино-1' 'поселок Парголово'\n",
      " 'поселок Мурино' 'Ломоносов' 'Сертолово' 'Петергоф' 'Пушкин'\n",
      " 'деревня Кудрово' 'Коммунар' 'Колпино' 'поселок Красный Бор' 'Гатчина'\n",
      " 'деревня Федоровское' 'Выборг' 'Кронштадт' 'Кировск'\n",
      " 'деревня Новое Девяткино' 'поселок Металлострой' 'поселок Лебяжье'\n",
      " 'поселок Сиверский' 'поселок Молодцово' 'поселок Кузьмоловский'\n",
      " 'садовое товарищество Новая Ропша' 'Павловск' 'деревня Пикколово'\n",
      " 'Всеволожск' 'Волхов' 'Кингисепп' 'Приозерск' 'Сестрорецк'\n",
      " 'деревня Куттузи' 'поселок Аннино' 'поселок Ефимовский'\n",
      " 'поселок Плодовое' 'деревня Заклинье' 'поселок Торковичи'\n",
      " 'поселок Первомайское' 'Красное Село' 'поселок Понтонный' 'Сясьстрой'\n",
      " 'деревня Старая' 'деревня Лесколово' 'поселок Новый Свет' 'Сланцы'\n",
      " 'село Путилово' 'Ивангород' 'Мурино' 'Шлиссельбург' 'Никольское'\n",
      " 'Зеленогорск' 'Сосновый Бор' 'деревня Оржицы' 'деревня Кальтино'\n",
      " 'Кудрово' 'поселок Романовка' 'поселок Бугры' 'поселок Рощино' 'Кириши'\n",
      " 'Луга' 'Волосово' 'Отрадное' 'село Павлово' 'поселок Оредеж'\n",
      " 'село Копорье' 'поселок Молодежное' 'Тихвин' 'поселок Победа'\n",
      " 'деревня Нурма' 'поселок Синявино' 'Тосно' 'поселок Стрельна'\n",
      " 'Бокситогорск' 'поселок Александровская' 'деревня Лопухинка' 'Пикалево'\n",
      " 'поселок Терволово' 'поселок Советский' 'Подпорожье' 'поселок Петровское'\n",
      " 'поселок Токсово' 'поселок Сельцо' 'поселок Вырица' 'деревня Кипень'\n",
      " 'деревня Келози' 'деревня Вартемяги' 'поселок Тельмана'\n",
      " 'поселок Севастьяново' 'поселок Большая Ижора' 'поселок Павлово'\n",
      " 'деревня Агалатово' 'поселок Новогорелово' 'поселок Лесогорский'\n",
      " 'деревня Лаголово' 'поселок Цвелодубово' 'поселок Рахья'\n",
      " 'деревня Белогорка' 'поселок Заводской' 'поселок Новоселье'\n",
      " 'деревня Большие Колпаны' 'деревня Горбунки' 'деревня Батово'\n",
      " 'деревня Заневка' 'деревня Иссад' 'Приморск' 'поселок Федоровское'\n",
      " 'деревня Мистолово' 'Новая Ладога' 'поселок Зимитицы' 'поселок Барышево'\n",
      " 'деревня Разметелево' 'поселок имени Свердлова' 'деревня Пеники'\n",
      " 'поселок Рябово' 'деревня Пудомяги' 'поселок Корнево' 'деревня Низино'\n",
      " 'деревня Бегуницы' 'поселок Поляны' 'поселок Мга' 'поселок Елизаветино'\n",
      " 'поселок Кузнечное' 'деревня Колтуши' 'поселок Запорожское'\n",
      " 'деревня Гостилицы' 'деревня Малое Карлино' 'поселок Мичуринское'\n",
      " 'поселок имени Морозова' 'поселок Песочный' 'поселок Сосново'\n",
      " 'деревня Аро' 'поселок Ильичево' 'поселок Тайцы' 'деревня Малое Верево'\n",
      " 'деревня Извара' 'поселок Вещево' 'село Паша' 'деревня Калитино'\n",
      " 'поселок Ульяновка' 'деревня Чудской Бор' 'поселок Дубровка'\n",
      " 'деревня Мины' 'поселок Войсковицы' 'деревня Коркино' 'поселок Ропша'\n",
      " 'поселок Приладожский' 'поселок Щеглово' 'поселок Гаврилово'\n",
      " 'Лодейное Поле' 'деревня Рабитицы' 'поселок Никольский'\n",
      " 'деревня Кузьмолово' 'деревня Малые Колпаны' 'поселок Петро-Славянка'\n",
      " 'поселок Назия' 'поселок Репино' 'поселок Углово'\n",
      " 'поселок Старая Малукса' 'садовое товарищество Рахья' 'деревня Меньково'\n",
      " 'деревня Старые Бегуницы' 'поселок Саперный' 'поселок Семрино'\n",
      " 'поселок Глажево' 'поселок Кобринское' 'деревня Гарболово' 'деревня Юкки'\n",
      " 'поселок Приветнинское' 'деревня Мануйлово' 'деревня Пчева'\n",
      " 'поселок Цвылево' 'поселок Мельниково' 'поселок Пудость'\n",
      " 'поселок Усть-Луга' 'Светогорск' 'Любань' 'поселок Селезнево'\n",
      " 'Каменногорск' 'деревня Кривко' 'поселок Глебычево' 'деревня Парицы'\n",
      " 'поселок Жилпоселок' 'поселок Войскорово' 'село Никольское'\n",
      " 'поселок Стеклянный' 'поселок Важины' 'поселок Мыза-Ивановка'\n",
      " 'село Русско-Высоцкое' 'поселок Форносово' 'село Старая Ладога'\n",
      " 'поселок Житково' 'поселок Виллози' 'деревня Лампово' 'деревня Шпаньково'\n",
      " 'деревня Лаврики' 'поселок Сумино' 'поселок Возрождение'\n",
      " 'деревня Старосиверская' 'поселок Кикерино' 'деревня Старое Хинколово'\n",
      " 'поселок Пригородный' 'поселок Торфяное' 'поселок Будогощь'\n",
      " 'поселок Суходолье' 'поселок Красная Долина' 'деревня Хапо-Ое'\n",
      " 'поселок Дружная Горка' 'поселок Лисий Нос' 'деревня Яльгелево'\n",
      " 'село Рождествено' 'деревня Старополье' 'поселок Левашово'\n",
      " 'деревня Сяськелево' 'деревня Камышовка'\n",
      " 'садовое товарищество Лесная Поляна' 'деревня Хязельки'\n",
      " 'поселок Жилгородок' 'деревня Ялгино' 'поселок Новый Учхоз'\n",
      " 'поселок Гончарово' 'поселок Почап' 'поселок Саперное'\n",
      " 'поселок Платформа 69-й километр' 'поселок Каложицы' 'деревня Фалилеево'\n",
      " 'деревня Пельгора' 'деревня Торошковичи' 'поселок Белоостров'\n",
      " 'поселок Алексеевка' 'поселок Серебрянский' 'поселок Лукаши'\n",
      " 'деревня Щеглово' 'деревня Тарасово' 'поселок Кингисеппский'\n",
      " 'поселок Ушаки' 'деревня Котлы' 'деревня Сижно' 'деревня Торосово'\n",
      " 'поселок Форт Красная Горка' 'деревня Новолисино' 'поселок Громово'\n",
      " 'деревня Глинка' 'деревня Старая Пустошь' 'поселок Коммунары'\n",
      " 'поселок Починок' 'поселок Вознесенье' 'деревня Разбегаево'\n",
      " 'поселок Гладкое' 'поселок Тесово-4' 'деревня Бор' 'поселок Коробицыно'\n",
      " 'деревня Большая Вруда' 'деревня Курковицы' 'поселок Кобралово'\n",
      " 'деревня Суоранда' 'поселок Кондратьево' 'поселок Счастье'\n",
      " 'поселок Любань' 'деревня Реброво' 'деревня Зимитицы' 'деревня Тойворово'\n",
      " 'поселок Семиозерье' 'поселок Лесное' 'поселок Совхозный'\n",
      " 'поселок Ленинское' 'поселок Суйда' 'деревня Нижние Осельки'\n",
      " 'поселок Свирь' 'поселок Перово' 'Высоцк' 'поселок Гарболово' 'село Шум'\n",
      " 'поселок Котельский' 'поселок Лужайка' 'деревня Большая Пустомержа'\n",
      " 'поселок Красносельское' 'деревня Вахнова Кара' 'деревня Пижма'\n",
      " 'поселок Кивеннапа Север' 'поселок Ромашки' 'деревня Каськово'\n",
      " 'деревня Куровицы' 'поселок Плоское' 'поселок Кирпичное'\n",
      " 'деревня Ям-Тесово' 'деревня Раздолье' 'деревня Терпилицы'\n",
      " 'поселок Шугозеро' 'деревня Ваганово' 'поселок Пушное'\n",
      " 'садовое товарищество Садко' 'поселок Усть-Ижора' 'деревня Выскатка'\n",
      " 'поселок Свирьстрой' 'деревня Кисельня' 'деревня Трубников Бор'\n",
      " 'поселок Калитино' 'поселок Высокоключевой'\n",
      " 'садовое товарищество Приладожский' 'поселок Пансионат Зеленый Бор'\n",
      " 'деревня Ненимяки' 'деревня Снегиревка' 'деревня Рапполово'\n",
      " 'деревня Пустынка' 'поселок Рабитицы' 'деревня Большой Сабск'\n",
      " 'деревня Русско' 'деревня Лупполово' 'деревня Большое Рейзино'\n",
      " 'деревня Малая Романовка' 'поселок Дружноселье' 'поселок Пчевжа'\n",
      " 'поселок Володарское' 'деревня Нижняя' 'деревня Тихковицы'\n",
      " 'деревня Борисова Грива' 'поселок Дзержинского']\n"
     ]
    }
   ],
   "source": [
    "data.locality_name = (\n",
    "    data.locality_name\n",
    "    .str.replace('ё', 'е')\n",
    "    .replace(['поселок городского типа', 'городской поселок', 'коттеджный поселок', \n",
    "              'поселок станции', 'поселок при железнодорожной станции'], 'поселок', regex=True)\n",
    "    .replace('садоводческое некоммерческое товарищество', 'садовое товарищество', regex=True)\n",
    ") \n",
    "\n",
    "print(data.locality_name.unique())"
   ]
  },
  {
   "cell_type": "markdown",
   "metadata": {},
   "source": [
    "<div class=\"alert-success\" style=\"border-radius: 10px; padding: 20px\">\n",
    "<b>Комментарий ревьюера V2 ✔️</b>\n",
    "\n",
    "Отлично! 👍"
   ]
  },
  {
   "cell_type": "markdown",
   "metadata": {},
   "source": [
    "****Промежуточный вывод по предобработке****\n",
    "\n",
    "1. Мы обработали пропущенные значения по числу балконов, значениям в parks_around3000, ponds_around3000, airports_nearest, cityCenters_nearest, parks_nearest, ponds_nearest. В ceiling_height посчитали медианное значение и заменили пропуски на него, исключив из подсчета аномально высокие показатели. Еще привели is_apartment к булеву типу в пропусках, посчитали средние значения для пропусков по жилой площади и площади кухни.\n",
    "\n",
    "\n",
    "2. Подготовили гипотезы по возможным причинам пропусков в данных. Например, в случае с высотой потолка пропуски можно объяснить человеческим фактором: возможно, продавцы недвижимости забыли заполнить эту информацию. Кроме того, в столбце есть аномально высокие значения выше четырех метров. Вероятно, эти значения связаны с ошибкой форматирования при вводе: например, продавец вводил сантиметры вместо метров.\n",
    "\n",
    "\n",
    "3. Привели к корректному типу данные по датафрейму: например, first_day_exposition заменили на dataframe64 вместо object, тк внутри столбца дата публикации объявления.\n",
    "\n",
    "\n",
    "4. Выявили, что внутри столбца с локациями много неявных дубликатов (\"поселок\" и коттеджный поселок\"), обработали их."
   ]
  },
  {
   "cell_type": "markdown",
   "metadata": {},
   "source": [
    "### Шаг 3. Добавьте в таблицу новые столбцы "
   ]
  },
  {
   "cell_type": "markdown",
   "metadata": {},
   "source": [
    "Посчитаю среднюю цену одного кв м и округлю ее до двух знаком после запятой. Добавлю новые столбцы с dataframe по дню, году и месяцу публикации объявления: данные возьму из first_day_exposition. Посчитаю расстояние до центра Петербурга в км вместо м, округлю и сразу приведу к типу целых чисел.\n",
    "\n",
    "Создам функцию, которая будет определять категорию недвижимости по ее этажу: есть категории \"первый\", \"последний\" и \"другой. Данные про этаж возьму из совпадения/несовпадения с floors_total."
   ]
  },
  {
   "cell_type": "code",
   "execution_count": 12,
   "metadata": {},
   "outputs": [
    {
     "data": {
      "text/html": [
       "<div>\n",
       "<style scoped>\n",
       "    .dataframe tbody tr th:only-of-type {\n",
       "        vertical-align: middle;\n",
       "    }\n",
       "\n",
       "    .dataframe tbody tr th {\n",
       "        vertical-align: top;\n",
       "    }\n",
       "\n",
       "    .dataframe thead th {\n",
       "        text-align: right;\n",
       "    }\n",
       "</style>\n",
       "<table border=\"1\" class=\"dataframe\">\n",
       "  <thead>\n",
       "    <tr style=\"text-align: right;\">\n",
       "      <th></th>\n",
       "      <th>total_images</th>\n",
       "      <th>last_price</th>\n",
       "      <th>total_area</th>\n",
       "      <th>first_day_exposition</th>\n",
       "      <th>rooms</th>\n",
       "      <th>ceiling_height</th>\n",
       "      <th>floors_total</th>\n",
       "      <th>living_area</th>\n",
       "      <th>floor</th>\n",
       "      <th>is_apartment</th>\n",
       "      <th>...</th>\n",
       "      <th>parks_nearest</th>\n",
       "      <th>ponds_around3000</th>\n",
       "      <th>ponds_nearest</th>\n",
       "      <th>days_exposition</th>\n",
       "      <th>meter_price</th>\n",
       "      <th>day</th>\n",
       "      <th>year</th>\n",
       "      <th>month</th>\n",
       "      <th>centre_distance</th>\n",
       "      <th>floor_category</th>\n",
       "    </tr>\n",
       "  </thead>\n",
       "  <tbody>\n",
       "    <tr>\n",
       "      <th>0</th>\n",
       "      <td>20</td>\n",
       "      <td>13000000</td>\n",
       "      <td>108.0</td>\n",
       "      <td>2019-03-07</td>\n",
       "      <td>3</td>\n",
       "      <td>2.70</td>\n",
       "      <td>16</td>\n",
       "      <td>51.000000</td>\n",
       "      <td>8</td>\n",
       "      <td>False</td>\n",
       "      <td>...</td>\n",
       "      <td>482.0</td>\n",
       "      <td>2</td>\n",
       "      <td>755.0</td>\n",
       "      <td>0</td>\n",
       "      <td>120370.37</td>\n",
       "      <td>3</td>\n",
       "      <td>2019</td>\n",
       "      <td>3</td>\n",
       "      <td>16</td>\n",
       "      <td>другой</td>\n",
       "    </tr>\n",
       "    <tr>\n",
       "      <th>1</th>\n",
       "      <td>7</td>\n",
       "      <td>3350000</td>\n",
       "      <td>40.4</td>\n",
       "      <td>2018-12-04</td>\n",
       "      <td>1</td>\n",
       "      <td>2.64</td>\n",
       "      <td>11</td>\n",
       "      <td>18.600000</td>\n",
       "      <td>1</td>\n",
       "      <td>False</td>\n",
       "      <td>...</td>\n",
       "      <td>NaN</td>\n",
       "      <td>0</td>\n",
       "      <td>NaN</td>\n",
       "      <td>81</td>\n",
       "      <td>82920.79</td>\n",
       "      <td>1</td>\n",
       "      <td>2018</td>\n",
       "      <td>12</td>\n",
       "      <td>19</td>\n",
       "      <td>первый</td>\n",
       "    </tr>\n",
       "    <tr>\n",
       "      <th>2</th>\n",
       "      <td>10</td>\n",
       "      <td>5196000</td>\n",
       "      <td>56.0</td>\n",
       "      <td>2015-08-20</td>\n",
       "      <td>2</td>\n",
       "      <td>2.64</td>\n",
       "      <td>5</td>\n",
       "      <td>34.300000</td>\n",
       "      <td>4</td>\n",
       "      <td>False</td>\n",
       "      <td>...</td>\n",
       "      <td>90.0</td>\n",
       "      <td>2</td>\n",
       "      <td>574.0</td>\n",
       "      <td>558</td>\n",
       "      <td>92785.71</td>\n",
       "      <td>3</td>\n",
       "      <td>2015</td>\n",
       "      <td>8</td>\n",
       "      <td>14</td>\n",
       "      <td>другой</td>\n",
       "    </tr>\n",
       "    <tr>\n",
       "      <th>3</th>\n",
       "      <td>0</td>\n",
       "      <td>64900000</td>\n",
       "      <td>159.0</td>\n",
       "      <td>2015-07-24</td>\n",
       "      <td>3</td>\n",
       "      <td>2.64</td>\n",
       "      <td>14</td>\n",
       "      <td>90.785766</td>\n",
       "      <td>9</td>\n",
       "      <td>False</td>\n",
       "      <td>...</td>\n",
       "      <td>84.0</td>\n",
       "      <td>3</td>\n",
       "      <td>234.0</td>\n",
       "      <td>424</td>\n",
       "      <td>408176.10</td>\n",
       "      <td>4</td>\n",
       "      <td>2015</td>\n",
       "      <td>7</td>\n",
       "      <td>7</td>\n",
       "      <td>другой</td>\n",
       "    </tr>\n",
       "    <tr>\n",
       "      <th>4</th>\n",
       "      <td>2</td>\n",
       "      <td>10000000</td>\n",
       "      <td>100.0</td>\n",
       "      <td>2018-06-19</td>\n",
       "      <td>2</td>\n",
       "      <td>3.03</td>\n",
       "      <td>14</td>\n",
       "      <td>32.000000</td>\n",
       "      <td>13</td>\n",
       "      <td>False</td>\n",
       "      <td>...</td>\n",
       "      <td>112.0</td>\n",
       "      <td>1</td>\n",
       "      <td>48.0</td>\n",
       "      <td>121</td>\n",
       "      <td>100000.00</td>\n",
       "      <td>1</td>\n",
       "      <td>2018</td>\n",
       "      <td>6</td>\n",
       "      <td>8</td>\n",
       "      <td>другой</td>\n",
       "    </tr>\n",
       "  </tbody>\n",
       "</table>\n",
       "<p>5 rows × 28 columns</p>\n",
       "</div>"
      ],
      "text/plain": [
       "   total_images  last_price  total_area first_day_exposition  rooms  \\\n",
       "0            20    13000000       108.0           2019-03-07      3   \n",
       "1             7     3350000        40.4           2018-12-04      1   \n",
       "2            10     5196000        56.0           2015-08-20      2   \n",
       "3             0    64900000       159.0           2015-07-24      3   \n",
       "4             2    10000000       100.0           2018-06-19      2   \n",
       "\n",
       "   ceiling_height  floors_total  living_area  floor  is_apartment  ...  \\\n",
       "0            2.70            16    51.000000      8         False  ...   \n",
       "1            2.64            11    18.600000      1         False  ...   \n",
       "2            2.64             5    34.300000      4         False  ...   \n",
       "3            2.64            14    90.785766      9         False  ...   \n",
       "4            3.03            14    32.000000     13         False  ...   \n",
       "\n",
       "   parks_nearest  ponds_around3000  ponds_nearest  days_exposition  \\\n",
       "0          482.0                 2          755.0                0   \n",
       "1            NaN                 0            NaN               81   \n",
       "2           90.0                 2          574.0              558   \n",
       "3           84.0                 3          234.0              424   \n",
       "4          112.0                 1           48.0              121   \n",
       "\n",
       "  meter_price  day  year  month  centre_distance  floor_category  \n",
       "0   120370.37    3  2019      3               16          другой  \n",
       "1    82920.79    1  2018     12               19          первый  \n",
       "2    92785.71    3  2015      8               14          другой  \n",
       "3   408176.10    4  2015      7                7          другой  \n",
       "4   100000.00    1  2018      6                8          другой  \n",
       "\n",
       "[5 rows x 28 columns]"
      ]
     },
     "metadata": {},
     "output_type": "display_data"
    }
   ],
   "source": [
    "meter_price_info = data['last_price'] / data['total_area']\n",
    "data['meter_price'] = round(meter_price_info, 2)\n",
    "data['day'] = data['first_day_exposition'].dt.weekday\n",
    "data['year'] = data['first_day_exposition'].dt.year\n",
    "data['month'] = data['first_day_exposition'].dt.month\n",
    "data['centre_distance'] = (data['cityCenters_nearest'] / 1000).round().astype('int')\n",
    "data['last_price'] = data['last_price'].astype('int')\n",
    "\n",
    "def floor_category(row):\n",
    "    floors_total = row['floors_total']\n",
    "    floor = row['floor']\n",
    "    if floor == 1:\n",
    "        return 'первый'\n",
    "    elif floor == floors_total:\n",
    "        return 'последний'\n",
    "    elif 1 < floor < floors_total:\n",
    "        return 'другой'\n",
    "data['floor_category'] = data.apply(floor_category, axis = 1)\n",
    "\n",
    "display(data.head())"
   ]
  },
  {
   "cell_type": "code",
   "execution_count": 13,
   "metadata": {},
   "outputs": [
    {
     "data": {
      "text/html": [
       "<div>\n",
       "<style scoped>\n",
       "    .dataframe tbody tr th:only-of-type {\n",
       "        vertical-align: middle;\n",
       "    }\n",
       "\n",
       "    .dataframe tbody tr th {\n",
       "        vertical-align: top;\n",
       "    }\n",
       "\n",
       "    .dataframe thead th {\n",
       "        text-align: right;\n",
       "    }\n",
       "</style>\n",
       "<table border=\"1\" class=\"dataframe\">\n",
       "  <thead>\n",
       "    <tr style=\"text-align: right;\">\n",
       "      <th></th>\n",
       "      <th>floor</th>\n",
       "      <th>floors_total</th>\n",
       "      <th>floor_category</th>\n",
       "    </tr>\n",
       "  </thead>\n",
       "  <tbody>\n",
       "    <tr>\n",
       "      <th>4072</th>\n",
       "      <td>2</td>\n",
       "      <td>5</td>\n",
       "      <td>другой</td>\n",
       "    </tr>\n",
       "    <tr>\n",
       "      <th>19373</th>\n",
       "      <td>4</td>\n",
       "      <td>9</td>\n",
       "      <td>другой</td>\n",
       "    </tr>\n",
       "    <tr>\n",
       "      <th>14808</th>\n",
       "      <td>4</td>\n",
       "      <td>9</td>\n",
       "      <td>другой</td>\n",
       "    </tr>\n",
       "    <tr>\n",
       "      <th>11337</th>\n",
       "      <td>10</td>\n",
       "      <td>11</td>\n",
       "      <td>другой</td>\n",
       "    </tr>\n",
       "    <tr>\n",
       "      <th>13430</th>\n",
       "      <td>1</td>\n",
       "      <td>5</td>\n",
       "      <td>первый</td>\n",
       "    </tr>\n",
       "    <tr>\n",
       "      <th>11238</th>\n",
       "      <td>2</td>\n",
       "      <td>3</td>\n",
       "      <td>другой</td>\n",
       "    </tr>\n",
       "    <tr>\n",
       "      <th>22196</th>\n",
       "      <td>1</td>\n",
       "      <td>5</td>\n",
       "      <td>первый</td>\n",
       "    </tr>\n",
       "    <tr>\n",
       "      <th>7361</th>\n",
       "      <td>10</td>\n",
       "      <td>25</td>\n",
       "      <td>другой</td>\n",
       "    </tr>\n",
       "    <tr>\n",
       "      <th>14186</th>\n",
       "      <td>23</td>\n",
       "      <td>28</td>\n",
       "      <td>другой</td>\n",
       "    </tr>\n",
       "    <tr>\n",
       "      <th>11896</th>\n",
       "      <td>18</td>\n",
       "      <td>23</td>\n",
       "      <td>другой</td>\n",
       "    </tr>\n",
       "  </tbody>\n",
       "</table>\n",
       "</div>"
      ],
      "text/plain": [
       "       floor  floors_total floor_category\n",
       "4072       2             5         другой\n",
       "19373      4             9         другой\n",
       "14808      4             9         другой\n",
       "11337     10            11         другой\n",
       "13430      1             5         первый\n",
       "11238      2             3         другой\n",
       "22196      1             5         первый\n",
       "7361      10            25         другой\n",
       "14186     23            28         другой\n",
       "11896     18            23         другой"
      ]
     },
     "execution_count": 13,
     "metadata": {},
     "output_type": "execute_result"
    }
   ],
   "source": [
    "data[['floor', 'floors_total', 'floor_category']].sample(10)"
   ]
  },
  {
   "cell_type": "markdown",
   "metadata": {},
   "source": [
    "****Промежуточный вывод по работе с новыми столбцами****\n",
    "\n",
    "В результате этого этапа добавили в датафрейм несколько новых столбцов. Они позволят удобнее и эффективнее работать с данными при исследовательском анализе. Среди таких столбцов – данные по году, месяцу и дате публикации объявления, расстояние до центра Петербурга в километрах и тип недвижимости по этажу."
   ]
  },
  {
   "cell_type": "markdown",
   "metadata": {},
   "source": [
    "### Проведите исследовательский анализ данных"
   ]
  },
  {
   "cell_type": "markdown",
   "metadata": {},
   "source": [
    "Сперва изучим показатели площади (общая, жилая, кухни) с помощью гистограмм и метода describe(). Строить буду в субплотах, чтобы вывести три графика на одной строке для удобства и визуальной составляющей. Изучу показатели методом describe()."
   ]
  },
  {
   "cell_type": "code",
   "execution_count": 14,
   "metadata": {},
   "outputs": [
    {
     "data": {
      "image/png": "[encoded data removed]",
      "text/plain": [
       "<Figure size 1584x360 with 3 Axes>"
      ]
     },
     "metadata": {
      "needs_background": "light"
     },
     "output_type": "display_data"
    },
    {
     "name": "stdout",
     "output_type": "stream",
     "text": [
      "count    23565.000000\n",
      "mean        60.322824\n",
      "std         35.657060\n",
      "min         12.000000\n",
      "25%         40.000000\n",
      "50%         52.000000\n",
      "75%         69.700000\n",
      "max        900.000000\n",
      "Name: total_area, dtype: float64\n",
      "\n",
      "count    23565.000000\n",
      "mean        34.591303\n",
      "std         22.372806\n",
      "min          2.000000\n",
      "25%         19.000000\n",
      "50%         30.000000\n",
      "75%         42.100000\n",
      "max        409.700000\n",
      "Name: living_area, dtype: float64\n",
      "\n",
      "count    23565.000000\n",
      "mean        10.500277\n",
      "std          6.038042\n",
      "min          1.300000\n",
      "25%          7.000000\n",
      "50%          9.000000\n",
      "75%         12.000000\n",
      "max        112.000000\n",
      "Name: kitchen_area, dtype: float64\n"
     ]
    }
   ],
   "source": [
    "_, ax = plt.subplots(1, 3, figsize=(22, 5))\n",
    "\n",
    "ax[0].hist(data['total_area'], bins=100, range=(0,250))\n",
    "ax[0].set_title('Гистограмма для \\nобщей площади')\n",
    "ax[1].hist(data['living_area'], bins = 80, range=(0,150))\n",
    "ax[1].set_title('Гистограмма для \\nжилой площади')\n",
    "ax[2].hist(data['kitchen_area'], bins = 80, range=(0,80))\n",
    "ax[2].set_title('Гистограмма для \\nплощади кухни')\n",
    "   \n",
    "plt.show()\n",
    "print(data.total_area.describe())\n",
    "print()\n",
    "print(data.living_area.describe())\n",
    "print()\n",
    "print(data.kitchen_area.describe())"
   ]
  },
  {
   "cell_type": "markdown",
   "metadata": {},
   "source": [
    "По гистограмме мы видим, что распределение общей площади близко к нормальному: есть небольшой выбивающийся из нормального распределения показатель на 25 метрах, который похож на второй пик. Однако в целом он не превышает общий пик по значению. В случае с жилой площадью распределение по гистограмме выбивается из нормального сильнее: есть несколько ярко выраженных пиков.\n",
    "\n",
    "Метод describe() показал, что в общей площади есть аномальные значения: максимальная площадь, например, в 900 кв м, а стандартное отклонение, конечно, из-за этого значительно превышает 1. Среднее значение при этом адекватное, 60 кв м, как и показатели по квартилям (40, 52 и 69.7 кв м). Похожая картина по жилой площади и площади кухни: максимальная жилая площадь в 409 кв м, кухни - в 112. \n",
    "\n",
    "Предполагаю, что аномальные значения вызваны человеческим фактором: ошибкой при внесении данных (должно быть 90 м вместо 900 м). Тем не менее, анализ недвижимости Петербурга показал, что на рынке есть квартиры с соотносимой площадью, например, в 631 метр (https://mir24.tv/news/16343727/nazvany-razmery-samoi-bolshoi-i-samoi-malenkoi-kvartir-v-peterburge). Поэтому самостоятельно исправлять эти значения до обсуждения с аналитиками не стал бы, а просто буду работать со строками, где значения общей площади будут меньше или равны 250 метров."
   ]
  },
  {
   "cell_type": "code",
   "execution_count": 15,
   "metadata": {},
   "outputs": [
    {
     "data": {
      "image/png": "[encoded data removed]",
      "text/plain": [
       "<Figure size 1584x360 with 3 Axes>"
      ]
     },
     "metadata": {
      "needs_background": "light"
     },
     "output_type": "display_data"
    },
    {
     "name": "stdout",
     "output_type": "stream",
     "text": [
      "count    2.356500e+04\n",
      "mean     6.540058e+06\n",
      "std      1.091093e+07\n",
      "min      1.219000e+04\n",
      "25%      3.400000e+06\n",
      "50%      4.646000e+06\n",
      "75%      6.790000e+06\n",
      "max      7.630000e+08\n",
      "Name: last_price, dtype: float64\n",
      "\n",
      "count    23565.000000\n",
      "mean         2.070656\n",
      "std          1.078591\n",
      "min          0.000000\n",
      "25%          1.000000\n",
      "50%          2.000000\n",
      "75%          3.000000\n",
      "max         19.000000\n",
      "Name: rooms, dtype: float64\n",
      "\n",
      "count    23565.000000\n",
      "mean         2.720675\n",
      "std          0.991328\n",
      "min          1.000000\n",
      "25%          2.600000\n",
      "50%          2.640000\n",
      "75%          2.700000\n",
      "max        100.000000\n",
      "Name: ceiling_height, dtype: float64\n"
     ]
    }
   ],
   "source": [
    "_, ax = plt.subplots(1, 3, figsize=(22, 5))\n",
    "\n",
    "#в гистограмме цены выводятся в экспоненциальной записи, видимо, из-за их размера\n",
    "ax[0].hist(data['last_price'], bins=80, range=(0,50000000))\n",
    "ax[0].set_title('Гистограмма для последней цены')\n",
    "ax[0].set_xlabel('Значение цены')\n",
    "ax[0].set_ylabel('Количество значений')\n",
    "\n",
    "ax[1].hist(data['rooms'], bins = 30)\n",
    "ax[1].set_title('Гистограмма для \\nколичества комнат')\n",
    "ax[1].set_xlabel('Количество комнат')\n",
    "ax[1].set_ylabel('Количество значений')\n",
    "\n",
    "#ограничим размер потолков нормальными значениями\n",
    "ax[2].hist(data['ceiling_height'], bins = 30, range=(2,4.5))\n",
    "ax[2].set_title('Гистограмма для \\nвысоты потолков')\n",
    "ax[2].set_xlabel('Высота потолков')\n",
    "ax[2].set_ylabel('Количество значений')\n",
    "\n",
    "plt.show()\n",
    "print(data.last_price.describe())\n",
    "print()\n",
    "print(data.rooms.describe())\n",
    "print()\n",
    "print(data.ceiling_height.describe())"
   ]
  },
  {
   "cell_type": "markdown",
   "metadata": {},
   "source": [
    "Мы видим, что по гистограмме распределение цены соответствует нормальным значениям. Тем не менее, describe() показал, что есть аномальные показатели: минимальная цена в 12.2 тысячи рублей и максимальная в 763 млн. При дальнейшей работе с этими данными буду ограничиваться выборкой от 1 млн до 30 млн рублей, тк значения ниже и выше могут быть аномальными. По гистограмме видно, что за пределами этой суммы недвижимости почти нет.\n",
    "\n",
    "С данными по комнатам и по высоте потолков поступлю аналогичным образом: при анализе буду брать квартиры с максимумом комнат в 5 и высотой потолков в 4 м, тк есть аномальные значения с 19 комнатами и 100 м высоты потолка. Даже если учесть, что при вводе высоты потолков мог сыграть человеческий фактор и 100 м на самом деле 10 м, это все равно нереалистичные показатели.  "
   ]
  },
  {
   "cell_type": "code",
   "execution_count": 16,
   "metadata": {},
   "outputs": [
    {
     "data": {
      "image/png": "[encoded data removed]",
      "text/plain": [
       "<Figure size 432x288 with 1 Axes>"
      ]
     },
     "metadata": {
      "needs_background": "light"
     },
     "output_type": "display_data"
    }
   ],
   "source": [
    "#добавляем условие: если высота потолка больше или равна 25, делим ее на 10:\n",
    "data['ceiling_height'] = data['ceiling_height'].apply(lambda x: x/10 if x>=25 else x)\n",
    "\n",
    "plt.hist(data['ceiling_height'], bins=30, range =(1,5))\n",
    "plt.title('Гистограмма для высоты потолков', fontsize=15)\n",
    "plt.xlabel('высота потолка, м', fontsize=12)\n",
    "plt.ylabel('количество значений', fontsize=12)\n",
    "plt.show()"
   ]
  },
  {
   "cell_type": "code",
   "execution_count": 17,
   "metadata": {},
   "outputs": [
    {
     "data": {
      "image/png": "[encoded data removed]",
      "text/plain": [
       "<Figure size 432x288 with 1 Axes>"
      ]
     },
     "metadata": {
      "needs_background": "light"
     },
     "output_type": "display_data"
    }
   ],
   "source": [
    "#посчитаем количество строк по колонке без пробелов total_area,\n",
    "#передадим его вместо параметра height\n",
    "\n",
    "plt.bar(['другой', 'первый', 'последний'],\n",
    "        data.groupby('floor_category')['total_area'].count())\n",
    "plt.title('Гистограмма для типа этажа объекта')\n",
    "plt.xlabel('Тип этажа')\n",
    "plt.ylabel('Количество значений')\n",
    "plt.show()"
   ]
  },
  {
   "cell_type": "markdown",
   "metadata": {},
   "source": [
    "Мы видим, что большая часть квартир приходится на показатель другой (более 17,5 тысяч значений)."
   ]
  },
  {
   "cell_type": "code",
   "execution_count": 18,
   "metadata": {},
   "outputs": [
    {
     "data": {
      "image/png": "[encoded data removed]",
      "text/plain": [
       "<Figure size 1080x360 with 3 Axes>"
      ]
     },
     "metadata": {
      "needs_background": "light"
     },
     "output_type": "display_data"
    },
    {
     "name": "stdout",
     "output_type": "stream",
     "text": [
      "count    23565.000000\n",
      "mean        10.675875\n",
      "std          6.594823\n",
      "min          1.000000\n",
      "25%          5.000000\n",
      "50%          9.000000\n",
      "75%         16.000000\n",
      "max         60.000000\n",
      "Name: floors_total, dtype: float64\n",
      "\n",
      "count    23565.000000\n",
      "mean     10879.530617\n",
      "std       9639.346166\n",
      "min          0.000000\n",
      "25%       2186.000000\n",
      "50%      11246.000000\n",
      "75%      15237.000000\n",
      "max      65968.000000\n",
      "Name: cityCenters_nearest, dtype: float64\n",
      "\n",
      "count    8030.000000\n",
      "mean      490.580448\n",
      "std       341.572956\n",
      "min         1.000000\n",
      "25%       288.000000\n",
      "50%       455.000000\n",
      "75%       612.000000\n",
      "max      3190.000000\n",
      "Name: parks_nearest, dtype: float64\n"
     ]
    }
   ],
   "source": [
    "_, ax = plt.subplots(1, 3, figsize=(15, 5))\n",
    "\n",
    "ax[0].hist(data['floors_total'], bins=30, range=(0,50))\n",
    "ax[0].set_title('Гистограмма для \\nчисла этажей')\n",
    "ax[0].set_xlabel('Число этажей в доме')\n",
    "ax[0].set_ylabel('Количество значений')\n",
    "\n",
    "ax[1].hist(data['cityCenters_nearest'], bins = 30, range=(1,60000))\n",
    "ax[1].set_title('Гистограмма для \\nрасстояния до \\nцентра города')\n",
    "ax[1].set_xlabel('Расстояние, м')\n",
    "ax[1].set_ylabel('Количество значений')\n",
    "\n",
    "ax[2].hist(data['parks_nearest'], bins = 30, range=(0,3000))\n",
    "ax[2].set_title('Гистограмма для \\nрасстояния до парка')\n",
    "ax[2].set_xlabel('Расстояние, м')\n",
    "ax[2].set_ylabel('Количество значений')\n",
    "           \n",
    "plt.show()\n",
    "print(data.floors_total.describe())\n",
    "print()\n",
    "print(data.cityCenters_nearest.describe())\n",
    "print()\n",
    "print(data.parks_nearest.describe())"
   ]
  },
  {
   "cell_type": "markdown",
   "metadata": {},
   "source": [
    " Создадим массив good_data с данными, которые будут меньше выбиваться в аномалию. Правила:\n",
    " 1. Максимум комнат = 5\n",
    " 2. Максимум высоты потолков = 4 м\n",
    " 3. Максимум общей площади = 250 м\n",
    " 4. Максимум цены = 30000000 \n",
    " \n",
    " Заодно не будем брать строки из датафрейма, где нет значения по локации, количеству комнат и значения по количеству этажей в доме. \n",
    " \n",
    "Затем проверим, какой процент строк попадет под наши правила."
   ]
  },
  {
   "cell_type": "code",
   "execution_count": 19,
   "metadata": {},
   "outputs": [
    {
     "name": "stdout",
     "output_type": "stream",
     "text": [
      "В выборку хороших данных попали 97% строк из общего массива data\n"
     ]
    }
   ],
   "source": [
    "max_area = 250\n",
    "max_price = 30000000\n",
    "max_room = 5\n",
    "good_data = (\n",
    "    data.query('total_area <= @max_area and last_price <= @max_price and rooms <= @max_room and rooms != 0 and locality_name != 0 and floors_total != 0')       \n",
    ")\n",
    "\n",
    "data_check =  (len(good_data) / len(data))\n",
    "print(f'В выборку хороших данных попали {\"{:.0%}\".format(data_check)} строк из общего массива data')"
   ]
  },
  {
   "cell_type": "markdown",
   "metadata": {},
   "source": [
    "#### Изучите, как быстро продавались квартиры (столбец days_exposition). "
   ]
  },
  {
   "cell_type": "code",
   "execution_count": 20,
   "metadata": {},
   "outputs": [
    {
     "data": {
      "text/plain": [
       "count    20394.000000\n",
       "mean       180.741395\n",
       "std        219.732782\n",
       "min          1.000000\n",
       "25%         45.000000\n",
       "50%         95.000000\n",
       "75%        231.000000\n",
       "max       1580.000000\n",
       "Name: days_exposition, dtype: float64"
      ]
     },
     "execution_count": 20,
     "metadata": {},
     "output_type": "execute_result"
    },
    {
     "data": {
      "image/png": "[encoded data removed]",
      "text/plain": [
       "<Figure size 1800x720 with 3 Axes>"
      ]
     },
     "metadata": {
      "needs_background": "light"
     },
     "output_type": "display_data"
    }
   ],
   "source": [
    "_, ax = plt.subplots(1, 3, figsize=(25, 10))\n",
    "\n",
    "ax[0].boxplot(good_data['days_exposition'])\n",
    "ax[0].set_title('Ящик с усами для \\nдней от публикации до снятия', fontsize=20)\n",
    "ax[0].set_xlabel('Число этажей в доме')\n",
    "ax[0].set_ylabel('Количество значений')\n",
    "\n",
    "ax[1].hist(good_data['days_exposition'], bins = 30, range = (1,1600))\n",
    "ax[1].set_title('Гистограмма для дней \\nдо снятия объявления', fontsize=20)\n",
    "ax[2].hist(good_data['days_exposition'], bins = 100, range = (1,100))\n",
    "ax[2].set_title('Подробная истограмма для дней \\nдо снятия объявления', fontsize=20)\n",
    "data[data['days_exposition']!=0]['days_exposition'].describe()"
   ]
  },
  {
   "cell_type": "markdown",
   "metadata": {},
   "source": [
    "Распределение значений на гистограмме является распределением Пуассона, которое характеризует число событий на единицу времени. Медианное время от публикации до снятия объявления - 90 дней: это мы видим по диаграмме ящика с усами, а среднее при отброшенных нулевых значениях - 180. Судя по графику ящика с усами, необычайно долгими можно считать объявления, которые висят более 450 дней, а быстрыми - продажи за срок менее 90 дней. Нормальными при этом являются значения по продаже от 91 до 450 дней.\n",
    "\n",
    "При этом мы можем только предположить, что эти показатели отображают срок продажи квартиры: владельцы могут снять объявление в том числе из-за отсутствия спроса на их недвижимость или из-за изменения планов.\n",
    "\n",
    "Отдельно посмотрим более подробно на дни по снятиям публикации: видим, что аномальные значения с пиками приходятся на 45, 60 и 90 дней. Предположу, что в эти дни публикации улетают в автоматически снятые по правилам сервиса или владельцы решают создать новое объявление и закрыть старое. Второй способ позволит им скрыть для новых покупателей, сколько дней предложение висит на сервисе, а значит, снизить сомнения по покупке из-за долго висящего объекта"
   ]
  },
  {
   "cell_type": "markdown",
   "metadata": {},
   "source": [
    "#### Какие факторы больше всего влияют на общую (полную) стоимость объекта?"
   ]
  },
  {
   "cell_type": "markdown",
   "metadata": {},
   "source": [
    "Построю графики и гистограммы для очищенных данных, а там, где возможно, узнаю коэффициент корреляции и для очищенных, и для сырых данных, чтобы сверять их друг с другом."
   ]
  },
  {
   "cell_type": "markdown",
   "metadata": {},
   "source": [
    "**Зависимость общей цены от общей площади квартиры**"
   ]
  },
  {
   "cell_type": "code",
   "execution_count": 21,
   "metadata": {},
   "outputs": [
    {
     "data": {
      "image/png": "[encoded data removed]",
      "text/plain": [
       "<Figure size 432x288 with 1 Axes>"
      ]
     },
     "metadata": {
      "needs_background": "light"
     },
     "output_type": "display_data"
    },
    {
     "name": "stdout",
     "output_type": "stream",
     "text": [
      "В очищенных данных корреляция общей площади и ценой квартиры равна 0.7827378213219394\n"
     ]
    }
   ],
   "source": [
    "total_area_price = good_data.pivot_table(index = 'total_area', values = 'last_price')\n",
    "total_area_price.plot(grid=True, style = 'o', alpha=0.7)\n",
    "plt.title('Зависимость цены квартиры \\nот общей площади')\n",
    "plt.xlabel('Общая площадь')\n",
    "plt.ylabel('Цена за квартиру')\n",
    "plt.ticklabel_format(style='plain')\n",
    "plt.show()\n",
    "\n",
    "total_area_price_corr = good_data['total_area'].corr(good_data['last_price'])\n",
    "print(f'В очищенных данных корреляция общей площади и ценой квартиры равна {total_area_price_corr}')"
   ]
  },
  {
   "cell_type": "markdown",
   "metadata": {},
   "source": [
    "Мы видим по значению корреляции, что показатель меньше 1. Тем не менее, можно сказать, что чем выше общая площадь,тем выше и цена за квартиру, но это влияние слабое."
   ]
  },
  {
   "cell_type": "markdown",
   "metadata": {},
   "source": [
    "Мы видим по значению корреляции, что она выше между общей площадью и общей ценой квартиры, но показатель все равно меньше 1. Тем не менее, можно сказать, что чем выше общая площадь,тем выше и цена за квартиру."
   ]
  },
  {
   "cell_type": "markdown",
   "metadata": {},
   "source": [
    "**Зависимость цены за 1 кв м от площади кухни**"
   ]
  },
  {
   "cell_type": "code",
   "execution_count": 22,
   "metadata": {},
   "outputs": [
    {
     "name": "stdout",
     "output_type": "stream",
     "text": [
      "В очищенных данных корреляция площади кухни и цены за 1 кв м равна 0.311304860557697\n",
      "В данных до обработки корреляция площади кухни и цены за 1 кв м равна 0.38340261940428505\n"
     ]
    },
    {
     "data": {
      "image/png": "[encoded data removed]",
      "text/plain": [
       "<Figure size 432x288 with 1 Axes>"
      ]
     },
     "metadata": {
      "needs_background": "light"
     },
     "output_type": "display_data"
    }
   ],
   "source": [
    "kitchen_area_price = good_data.pivot_table(index = 'kitchen_area', values = 'meter_price', aggfunc = ['median', 'mean'])\n",
    "kitchen_area_price.columns = ['median', 'mean']\n",
    "kitchen_area_price.sort_values('median', ascending = False)\n",
    "kitchen_area_price.plot(y = 'median', style = 'o', alpha=0.7)\n",
    "plt.title('Зависимость цены за кв м от площади кухни квартиры')\n",
    "\n",
    "good_kitchen_area_price_corr = good_data['kitchen_area'].corr(good_data['meter_price'])\n",
    "kitchen_area_price_corr = data['kitchen_area'].corr(data['meter_price'])\n",
    "\n",
    "print(f'В очищенных данных корреляция площади кухни и цены за 1 кв м равна {good_kitchen_area_price_corr}')\n",
    "print(f'В данных до обработки корреляция площади кухни и цены за 1 кв м равна {kitchen_area_price_corr}')"
   ]
  },
  {
   "cell_type": "markdown",
   "metadata": {},
   "source": [
    "Мы видим, что корреляция между площадью кухни и стоимостью 1 кв м чуть выше, чем в случае с общей и жилой площадями. Тем не менее, линейная связь все равно слабая и меньше 1."
   ]
  },
  {
   "cell_type": "markdown",
   "metadata": {},
   "source": [
    "**Зависимость общей цены от площади кухни квартиры**"
   ]
  },
  {
   "cell_type": "code",
   "execution_count": 23,
   "metadata": {},
   "outputs": [
    {
     "data": {
      "image/png": "[encoded data removed]",
      "text/plain": [
       "<Figure size 432x288 with 1 Axes>"
      ]
     },
     "metadata": {
      "needs_background": "light"
     },
     "output_type": "display_data"
    },
    {
     "name": "stdout",
     "output_type": "stream",
     "text": [
      "В очищенных данных корреляция между площадью кухни и ценой квартиры равна 0.6165668725623331\n"
     ]
    }
   ],
   "source": [
    "kitchen_area_price = good_data.pivot_table(index = 'kitchen_area', values = 'last_price')\n",
    "kitchen_area_price.plot(grid=True, style = 'o', alpha=0.7)\n",
    "plt.title('Зависимость цены квартиры \\nот площади кухни')\n",
    "plt.xlabel('Площадь кухни')\n",
    "plt.ylabel('Цена за квартиру')\n",
    "plt.ticklabel_format(style='plain')\n",
    "plt.show()\n",
    "\n",
    "kitchen_area_price_corr = good_data['kitchen_area'].corr(good_data['last_price'])\n",
    "print(f'В очищенных данных корреляция между площадью кухни и ценой квартиры равна {kitchen_area_price_corr}')"
   ]
  },
  {
   "cell_type": "markdown",
   "metadata": {},
   "source": [
    "Согласно обновленным подсчетам, корреляция между площадью кухни и общей стоимостью квартиры чуть ниже, чем в случае с общей. При этом линейная связь все равно остается слабой и меньше 1. Можно сказать, что увеличение площади кухни незначительно влияет и на рост общей стоимости недвижимости."
   ]
  },
  {
   "cell_type": "markdown",
   "metadata": {},
   "source": [
    "**Зависимость общей цены от жилой площади квартиры**"
   ]
  },
  {
   "cell_type": "code",
   "execution_count": 24,
   "metadata": {},
   "outputs": [
    {
     "data": {
      "image/png": "[encoded data removed]",
      "text/plain": [
       "<Figure size 432x288 with 1 Axes>"
      ]
     },
     "metadata": {
      "needs_background": "light"
     },
     "output_type": "display_data"
    },
    {
     "name": "stdout",
     "output_type": "stream",
     "text": [
      "В очищенных данных корреляция между жилой площадью и ценой квартиры равна 0.6755365193506672\n"
     ]
    }
   ],
   "source": [
    "living_area_price = good_data.pivot_table(index = 'living_area', values = 'last_price')\n",
    "living_area_price.plot(grid=True, style = 'o', alpha=0.7)\n",
    "plt.title('Зависимость цены квартиры \\nот жилой площади квартиры')\n",
    "plt.xlabel('Жилая площадь квартиры')\n",
    "plt.ylabel('Цена за квартиру')\n",
    "plt.ticklabel_format(style='plain')\n",
    "plt.show()\n",
    "\n",
    "living_area_price_corr = good_data['living_area'].corr(good_data['last_price'])\n",
    "print(f'В очищенных данных корреляция между жилой площадью и ценой квартиры равна {living_area_price_corr}')"
   ]
  },
  {
   "cell_type": "markdown",
   "metadata": {},
   "source": [
    "Корреляция между жилой площадью и ценой квартиры меньше 1, но больше, чем в случае с площадью кухни. Поэтому можно сказать, что увеличение жилой площади влияет на рост стоимости квартиры чуть больше, чем увеличение площади кухни. Тем не менее, это влияние все равно слабое."
   ]
  },
  {
   "cell_type": "markdown",
   "metadata": {},
   "source": [
    "**Зависимость цены за квартиру от количества комнат**"
   ]
  },
  {
   "cell_type": "code",
   "execution_count": 25,
   "metadata": {},
   "outputs": [
    {
     "data": {
      "image/png": "[encoded data removed]",
      "text/plain": [
       "<Figure size 432x288 with 1 Axes>"
      ]
     },
     "metadata": {
      "needs_background": "light"
     },
     "output_type": "display_data"
    },
    {
     "name": "stdout",
     "output_type": "stream",
     "text": [
      "В очищенных данных корреляция количества комнат и цены за 1 кв м равна 0.482177949532043\n"
     ]
    }
   ],
   "source": [
    "rooms_price = good_data.pivot_table(index = 'rooms', values = 'last_price')\n",
    "rooms_price.plot(grid=True, style = 'o-')\n",
    "plt.title('Зависимость цены квартиры \\nот количества комнат')\n",
    "plt.xlabel('Количество комнат')\n",
    "plt.ylabel('Цена за квартиру')\n",
    "plt.ticklabel_format(style='plain')\n",
    "plt.show()\n",
    "\n",
    "rooms_price_corr = good_data['rooms'].corr(good_data['last_price'])\n",
    "\n",
    "print(f'В очищенных данных корреляция количества комнат и цены за 1 кв м равна {rooms_price_corr}')"
   ]
  },
  {
   "cell_type": "markdown",
   "metadata": {},
   "source": [
    "Корреляция между количеством комнат и ценой за квартиру слабая. Тем не менее, можно сказать, что с ростом числа комнат растет и стоимость квартиры."
   ]
  },
  {
   "cell_type": "markdown",
   "metadata": {},
   "source": [
    "**Зависимость цены квартиры от этажа**"
   ]
  },
  {
   "cell_type": "code",
   "execution_count": 26,
   "metadata": {
    "scrolled": true
   },
   "outputs": [
    {
     "data": {
      "image/png": "[encoded data removed]",
      "text/plain": [
       "<Figure size 432x288 with 1 Axes>"
      ]
     },
     "metadata": {
      "needs_background": "light"
     },
     "output_type": "display_data"
    },
    {
     "name": "stdout",
     "output_type": "stream",
     "text": [
      "В очищенных данных корреляция количества комнат и цены за 1 кв м равна 0.08913420346538006\n"
     ]
    }
   ],
   "source": [
    "floor_category_price = good_data.pivot_table(index = 'floor_category', values = 'last_price')\n",
    "\n",
    "floor_category_price.plot(grid=True, marker='o')\n",
    "plt.title('Зависимость цены от этажа квартиры')\n",
    "plt.xlabel('Тип этажа квартиры')\n",
    "plt.ylabel('Цена за квартиру')\n",
    "plt.show()\n",
    "\n",
    "floor_price_corr = good_data['floor'].corr(good_data['last_price'])\n",
    "print(f'В очищенных данных корреляция количества комнат и цены за 1 кв м равна {floor_price_corr}')"
   ]
  },
  {
   "cell_type": "markdown",
   "metadata": {},
   "source": [
    "Мы видим, что цены за квартиры на первом этаже ниже, чем у квартир на других этажах. При этом цена за квартиры на последнем этаже тоже дешевле, но поменьше. В целом корреляция между типом этажа и стоимостью квартиры гораздо меньше, чем у других показателей, рассмотренных выше."
   ]
  },
  {
   "cell_type": "markdown",
   "metadata": {},
   "source": [
    "**Зависимость цены квартиры от расстояния до центра**"
   ]
  },
  {
   "cell_type": "code",
   "execution_count": 27,
   "metadata": {},
   "outputs": [
    {
     "data": {
      "image/png": "[encoded data removed]",
      "text/plain": [
       "<Figure size 432x288 with 1 Axes>"
      ]
     },
     "metadata": {
      "needs_background": "light"
     },
     "output_type": "display_data"
    },
    {
     "name": "stdout",
     "output_type": "stream",
     "text": [
      "В очищенных данных корреляция между расстоянием до центра и ценой квартиры равна -0.0021851216002390034\n"
     ]
    }
   ],
   "source": [
    "centre_price = good_data.pivot_table(index='centre_distance', values='last_price', aggfunc='median').reset_index()\n",
    "centre_price.plot(kind = 'scatter', y = 'last_price', x = 'centre_distance', grid=True)\n",
    "plt.title('Зависимость цены квартиры от расстояния до центра')\n",
    "plt.xlabel('Расстояние до центра, км')\n",
    "plt.ylabel('Цена за квартиру')\n",
    "plt.ticklabel_format(style='plain')\n",
    "plt.show()\n",
    "\n",
    "\n",
    "centre_price_corr = good_data['cityCenters_nearest'].corr(good_data['last_price'])\n",
    "print(f'В очищенных данных корреляция между расстоянием до центра и ценой квартиры равна {centre_price_corr}')"
   ]
  },
  {
   "cell_type": "markdown",
   "metadata": {
    "tags": []
   },
   "source": [
    "Мы видим, что между стоимостью квартиры и близостью к центру есть связь. Чем дальше квартира расположена к центру, тем дешевле она стоит: этим объясняется отрицательный показатель корреляции."
   ]
  },
  {
   "cell_type": "markdown",
   "metadata": {},
   "source": [
    "**Зависимость цены квартиры от даты размещения**"
   ]
  },
  {
   "cell_type": "code",
   "execution_count": 28,
   "metadata": {
    "scrolled": false
   },
   "outputs": [
    {
     "data": {
      "image/png": "[encoded data removed]",
      "text/plain": [
       "<Figure size 432x288 with 1 Axes>"
      ]
     },
     "metadata": {
      "needs_background": "light"
     },
     "output_type": "display_data"
    },
    {
     "name": "stdout",
     "output_type": "stream",
     "text": [
      "В очищенных данных корреляция дня размещения и цены квартиры равна -0.020558427805142748\n"
     ]
    }
   ],
   "source": [
    "day_price = good_data.pivot_table(index = 'day', values = 'last_price')\n",
    "day_price.plot(grid=True, marker='o')\n",
    "plt.title('Зависимость цены от дня размещения')\n",
    "plt.ticklabel_format(style='plain')\n",
    "plt.xlabel('День размещения')\n",
    "plt.ylabel('Цена за квартиру')\n",
    "plt.show()\n",
    "\n",
    "day_price_corr = good_data['day'].corr(good_data['last_price'])\n",
    "print(f'В очищенных данных корреляция дня размещения и цены квартиры равна {day_price_corr}')"
   ]
  },
  {
   "cell_type": "markdown",
   "metadata": {},
   "source": [
    "По графику видно, что самая низкая стоимость у объявлений, которые выставили в воскресенье, а самая высокая - у выставленных в четверг объявлений. Это можно объяснить снижением покупательской активности в выходные: мы видим, что в будние дни стоимость выставленных квартир выше. При этом нельзя сказать, что корреляция сильная: она не достигает -1 и не больше 1."
   ]
  },
  {
   "cell_type": "code",
   "execution_count": 29,
   "metadata": {},
   "outputs": [
    {
     "data": {
      "image/png": "[encoded data removed]",
      "text/plain": [
       "<Figure size 432x288 with 1 Axes>"
      ]
     },
     "metadata": {
      "needs_background": "light"
     },
     "output_type": "display_data"
    },
    {
     "name": "stdout",
     "output_type": "stream",
     "text": [
      "В очищенных данных корреляция месяца размещения и цены квартиры равна 0.006838739296569416\n"
     ]
    }
   ],
   "source": [
    "month_price = good_data.pivot_table(index = 'month', values = 'last_price')\n",
    "month_price.plot(grid=True, marker='o')\n",
    "plt.title('Зависимость цены квартиры от месяца размещения')\n",
    "plt.ticklabel_format(style='plain')\n",
    "plt.xlabel('Месяц размещения')\n",
    "plt.ylabel('Цена за квартиру')\n",
    "plt.show()\n",
    "\n",
    "month_price_corr = good_data['month'].corr(good_data['last_price'])\n",
    "print(f'В очищенных данных корреляция месяца размещения и цены квартиры равна {month_price_corr}')"
   ]
  },
  {
   "cell_type": "markdown",
   "metadata": {},
   "source": [
    "Мы видим, что худший месяц с точки зрения стоимости квартиры - август. Это можно объяснить низким сезоном, подготовкой к учебному году (как следствие, расходы на него) и отпусками. Пик активности приходится на начало делового сезона, сентябрь."
   ]
  },
  {
   "cell_type": "code",
   "execution_count": 30,
   "metadata": {},
   "outputs": [
    {
     "data": {
      "image/png": "[encoded data removed]",
      "text/plain": [
       "<Figure size 432x288 with 1 Axes>"
      ]
     },
     "metadata": {
      "needs_background": "light"
     },
     "output_type": "display_data"
    },
    {
     "name": "stdout",
     "output_type": "stream",
     "text": [
      "В очищенных данных корреляция месяца размещения и цены квартиры равна -0.03805561298843704\n"
     ]
    }
   ],
   "source": [
    "year_price = good_data.pivot_table(index = 'year', values = 'last_price')\n",
    "year_price.plot(grid=True, marker='o')\n",
    "plt.title('Зависимость цены за квартиру от года размещения')\n",
    "plt.ticklabel_format(style='plain')\n",
    "plt.xlabel('Год размещения')\n",
    "plt.ylabel('Цена за квартиру')\n",
    "plt.show()\n",
    "\n",
    "year_price_corr = good_data['year'].corr(good_data['last_price'])\n",
    "print(f'В очищенных данных корреляция месяца размещения и цены квартиры равна {year_price_corr}')"
   ]
  },
  {
   "cell_type": "markdown",
   "metadata": {},
   "source": [
    "2014 год был пиковым с точки зрения стоимости за 1 кв м. Основная причина - резкий скачок курса рубля из-за мирового финансового кризиса. Начиная с 2015 года покупка жилья, по данным Ipsos Comcon (https://adindex.ru/adindex-market/4/realty/153773.phtml), перестала быть приоритетной целью для покупателей с деньгами в силу сокращения платежеспособности. Рынок откликнулся на это понижением стоимости, которое продлилось, судя по графику, вплоть до 2018 года. \n",
    "\n",
    "В 2018 году рынок снова стал расти (https://realty.rbc.ru/news/5c418df79a79472e03164cd1). В первую очередь это связано с ростом спроса на ипотечное кредитование и снижением стоимости кредита."
   ]
  },
  {
   "cell_type": "markdown",
   "metadata": {},
   "source": [
    "#### Выберите 10 населённых пунктов с наибольшим числом объявлений. Посчитайте среднюю цену квадратного метра в этих населённых пунктах. Выделите населённые пункты с самой высокой и низкой стоимостью жилья. Эти данные можно найти по имени в столбце 'locality_name'.\n"
   ]
  },
  {
   "cell_type": "markdown",
   "metadata": {},
   "source": [
    "Сперва отберем 10 населенных пунктов из good data с наибольшим числом объявлений с помощью pivot table. \n",
    "В новом датафрейме сразу посчитаем среднюю цену за 1 кв м и сразу избавимся от мультииндекса с помощью reset_index (сделаем index locality_name отдельной колонкой)."
   ]
  },
  {
   "cell_type": "code",
   "execution_count": 31,
   "metadata": {},
   "outputs": [
    {
     "data": {
      "text/html": [
       "<div>\n",
       "<style scoped>\n",
       "    .dataframe tbody tr th:only-of-type {\n",
       "        vertical-align: middle;\n",
       "    }\n",
       "\n",
       "    .dataframe tbody tr th {\n",
       "        vertical-align: top;\n",
       "    }\n",
       "\n",
       "    .dataframe thead th {\n",
       "        text-align: right;\n",
       "    }\n",
       "</style>\n",
       "<table border=\"1\" class=\"dataframe\">\n",
       "  <thead>\n",
       "    <tr style=\"text-align: right;\">\n",
       "      <th></th>\n",
       "      <th>locality_name</th>\n",
       "      <th>count</th>\n",
       "      <th>mean_meter_price</th>\n",
       "    </tr>\n",
       "  </thead>\n",
       "  <tbody>\n",
       "    <tr>\n",
       "      <th>33</th>\n",
       "      <td>Санкт-Петербург</td>\n",
       "      <td>15090</td>\n",
       "      <td>110591.325645</td>\n",
       "    </tr>\n",
       "    <tr>\n",
       "      <th>219</th>\n",
       "      <td>поселок Мурино</td>\n",
       "      <td>526</td>\n",
       "      <td>85029.524221</td>\n",
       "    </tr>\n",
       "    <tr>\n",
       "      <th>297</th>\n",
       "      <td>поселок Шушары</td>\n",
       "      <td>435</td>\n",
       "      <td>78277.935632</td>\n",
       "    </tr>\n",
       "    <tr>\n",
       "      <th>3</th>\n",
       "      <td>Всеволожск</td>\n",
       "      <td>392</td>\n",
       "      <td>68618.013724</td>\n",
       "    </tr>\n",
       "    <tr>\n",
       "      <th>32</th>\n",
       "      <td>Пушкин</td>\n",
       "      <td>366</td>\n",
       "      <td>103221.059235</td>\n",
       "    </tr>\n",
       "    <tr>\n",
       "      <th>13</th>\n",
       "      <td>Колпино</td>\n",
       "      <td>337</td>\n",
       "      <td>75333.295816</td>\n",
       "    </tr>\n",
       "    <tr>\n",
       "      <th>230</th>\n",
       "      <td>поселок Парголово</td>\n",
       "      <td>322</td>\n",
       "      <td>90448.423416</td>\n",
       "    </tr>\n",
       "    <tr>\n",
       "      <th>6</th>\n",
       "      <td>Гатчина</td>\n",
       "      <td>307</td>\n",
       "      <td>68746.146515</td>\n",
       "    </tr>\n",
       "    <tr>\n",
       "      <th>79</th>\n",
       "      <td>деревня Кудрово</td>\n",
       "      <td>283</td>\n",
       "      <td>92297.218834</td>\n",
       "    </tr>\n",
       "    <tr>\n",
       "      <th>4</th>\n",
       "      <td>Выборг</td>\n",
       "      <td>237</td>\n",
       "      <td>58141.909325</td>\n",
       "    </tr>\n",
       "  </tbody>\n",
       "</table>\n",
       "</div>"
      ],
      "text/plain": [
       "         locality_name  count  mean_meter_price\n",
       "33     Санкт-Петербург  15090     110591.325645\n",
       "219     поселок Мурино    526      85029.524221\n",
       "297     поселок Шушары    435      78277.935632\n",
       "3           Всеволожск    392      68618.013724\n",
       "32              Пушкин    366     103221.059235\n",
       "13             Колпино    337      75333.295816\n",
       "230  поселок Парголово    322      90448.423416\n",
       "6              Гатчина    307      68746.146515\n",
       "79     деревня Кудрово    283      92297.218834\n",
       "4               Выборг    237      58141.909325"
      ]
     },
     "metadata": {},
     "output_type": "display_data"
    }
   ],
   "source": [
    "location = good_data.pivot_table(index = 'locality_name', \n",
    "                                 values = 'meter_price', aggfunc = ['count', 'mean']).reset_index()\n",
    "location.columns = ['locality_name', 'count', 'mean_meter_price']\n",
    "location = location.sort_values('count', ascending = False)\n",
    "display(location.head(10))"
   ]
  },
  {
   "cell_type": "markdown",
   "metadata": {},
   "source": [
    "Больше всего объявлений в Петербурге (15,1 тысячи), Мурине (526), Шушарах (435), Всеволожске (392), Пушкине (366), Колпино (337), Парголово (322), Гатчине (307), Кудрове (283), Выборге (237). Средняя цена за 1 кв м в этих регионах колеблется от 58,1 тысячи в Выборге до 110,6 тысяч в Петербурге.\n",
    "\n",
    "Кроме того, по таблице видим населенные пункты с самой высокой и низкой стоимостью за кв м в топ-10. Это Петербург и Выборг соответственно."
   ]
  },
  {
   "cell_type": "markdown",
   "metadata": {},
   "source": [
    "#### 6. Изучите предложения квартир: для каждой квартиры есть информация о расстоянии до центра. Выделите квартиры в Санкт-Петербурге ('locality_name'). Ваша задача — выяснить, какая область входит в центр. Создайте столбец с расстоянием до центра в километрах: округлите до целых значений. После этого посчитайте среднюю цену для каждого километра. Постройте график: он должен показывать, как цена зависит от удалённости от центра. Определите границу, где график сильно меняется — это и будет центральная зона.\n"
   ]
  },
  {
   "cell_type": "markdown",
   "metadata": {},
   "source": [
    "Сперва создадим с помощью query() срез данных о недвижимости именно в Петербурге и соберем сводную таблицу по показателям дистанции до центра и цены за кв м."
   ]
  },
  {
   "cell_type": "code",
   "execution_count": 32,
   "metadata": {},
   "outputs": [
    {
     "data": {
      "image/png": "[encoded data removed]",
      "text/plain": [
       "<Figure size 720x288 with 1 Axes>"
      ]
     },
     "metadata": {
      "needs_background": "light"
     },
     "output_type": "display_data"
    }
   ],
   "source": [
    "good_data_spb = good_data.query('locality_name == \"Санкт-Петербург\"')\n",
    "centre_distance_data = good_data_spb.pivot_table(index = 'centre_distance', values = 'meter_price')\n",
    "centre_distance_data.plot(grid=True, marker='o', figsize=(10,4))\n",
    "plt.xlabel('Расстояние до центра, км')\n",
    "plt.ylabel('Цена за кв м')\n",
    "plt.title('Зависимость цены за кв м от расстояния до центра')\n",
    "plt.show()"
   ]
  },
  {
   "cell_type": "markdown",
   "metadata": {},
   "source": [
    "Определим по графику радиус центра: мы видим, что основной тренд на снижение цены за кв м начинается после 10 км от центра. Возьмем его за границу центральной зоны. Мы видим, что после этой границы цена за кв м начинает падать вплоть до расстояния в 26 км от центра: со 112 тыс. за кв м до 87 тыс. за кв м. Затем в графике есть резкий пик на 27 км от центра: цена за кв м превышает 130 тыс. Эти данные можно связать или с наличием элитной недвижимости, которая стоит дороже обычной, за пределами города, или с аномальным значением цены в этом сегменте. \n",
    "\n",
    "Дальше цена резко падает: на 29 км цена за кв м снижается до 73 тыс. за кв м."
   ]
  },
  {
   "cell_type": "code",
   "execution_count": 33,
   "metadata": {},
   "outputs": [
    {
     "data": {
      "text/html": [
       "<div>\n",
       "<style scoped>\n",
       "    .dataframe tbody tr th:only-of-type {\n",
       "        vertical-align: middle;\n",
       "    }\n",
       "\n",
       "    .dataframe tbody tr th {\n",
       "        vertical-align: top;\n",
       "    }\n",
       "\n",
       "    .dataframe thead th {\n",
       "        text-align: right;\n",
       "    }\n",
       "</style>\n",
       "<table border=\"1\" class=\"dataframe\">\n",
       "  <thead>\n",
       "    <tr style=\"text-align: right;\">\n",
       "      <th></th>\n",
       "      <th>total_images</th>\n",
       "      <th>last_price</th>\n",
       "      <th>total_area</th>\n",
       "      <th>first_day_exposition</th>\n",
       "      <th>rooms</th>\n",
       "      <th>ceiling_height</th>\n",
       "      <th>floors_total</th>\n",
       "      <th>living_area</th>\n",
       "      <th>floor</th>\n",
       "      <th>is_apartment</th>\n",
       "      <th>...</th>\n",
       "      <th>parks_nearest</th>\n",
       "      <th>ponds_around3000</th>\n",
       "      <th>ponds_nearest</th>\n",
       "      <th>days_exposition</th>\n",
       "      <th>meter_price</th>\n",
       "      <th>day</th>\n",
       "      <th>year</th>\n",
       "      <th>month</th>\n",
       "      <th>centre_distance</th>\n",
       "      <th>floor_category</th>\n",
       "    </tr>\n",
       "  </thead>\n",
       "  <tbody>\n",
       "    <tr>\n",
       "      <th>748</th>\n",
       "      <td>13</td>\n",
       "      <td>14350000</td>\n",
       "      <td>74.0</td>\n",
       "      <td>2017-11-28</td>\n",
       "      <td>2</td>\n",
       "      <td>3.13</td>\n",
       "      <td>5</td>\n",
       "      <td>30.0</td>\n",
       "      <td>3</td>\n",
       "      <td>False</td>\n",
       "      <td>...</td>\n",
       "      <td>1496.0</td>\n",
       "      <td>0</td>\n",
       "      <td>NaN</td>\n",
       "      <td>128</td>\n",
       "      <td>193918.92</td>\n",
       "      <td>1</td>\n",
       "      <td>2017</td>\n",
       "      <td>11</td>\n",
       "      <td>27</td>\n",
       "      <td>другой</td>\n",
       "    </tr>\n",
       "    <tr>\n",
       "      <th>5961</th>\n",
       "      <td>6</td>\n",
       "      <td>2250000</td>\n",
       "      <td>32.0</td>\n",
       "      <td>2018-02-27</td>\n",
       "      <td>1</td>\n",
       "      <td>2.64</td>\n",
       "      <td>2</td>\n",
       "      <td>16.5</td>\n",
       "      <td>2</td>\n",
       "      <td>False</td>\n",
       "      <td>...</td>\n",
       "      <td>NaN</td>\n",
       "      <td>0</td>\n",
       "      <td>NaN</td>\n",
       "      <td>178</td>\n",
       "      <td>70312.50</td>\n",
       "      <td>1</td>\n",
       "      <td>2018</td>\n",
       "      <td>2</td>\n",
       "      <td>27</td>\n",
       "      <td>последний</td>\n",
       "    </tr>\n",
       "  </tbody>\n",
       "</table>\n",
       "<p>2 rows × 28 columns</p>\n",
       "</div>"
      ],
      "text/plain": [
       "      total_images  last_price  total_area first_day_exposition  rooms  \\\n",
       "748             13    14350000        74.0           2017-11-28      2   \n",
       "5961             6     2250000        32.0           2018-02-27      1   \n",
       "\n",
       "      ceiling_height  floors_total  living_area  floor  is_apartment  ...  \\\n",
       "748             3.13             5         30.0      3         False  ...   \n",
       "5961            2.64             2         16.5      2         False  ...   \n",
       "\n",
       "      parks_nearest  ponds_around3000  ponds_nearest  days_exposition  \\\n",
       "748          1496.0                 0            NaN              128   \n",
       "5961            NaN                 0            NaN              178   \n",
       "\n",
       "     meter_price  day  year  month  centre_distance  floor_category  \n",
       "748    193918.92    1  2017     11               27          другой  \n",
       "5961    70312.50    1  2018      2               27       последний  \n",
       "\n",
       "[2 rows x 28 columns]"
      ]
     },
     "execution_count": 33,
     "metadata": {},
     "output_type": "execute_result"
    }
   ],
   "source": [
    "weird_objects_27 = good_data_spb.query('centre_distance == 27')\n",
    "weird_objects_27"
   ]
  },
  {
   "cell_type": "markdown",
   "metadata": {},
   "source": [
    "<div class=\"alert-info\" style=\"padding: 20px; border-radius: 10px\">\n",
    "<b>Комментарий студента 💎</b>\n",
    "    \n",
    "Скорее всего, на 27 км цену выбивает в аномалию квартира со стоимостью за 1 кв м в 194 тысячи рублей. Отбросим значение и обновим график.\n",
    "</div>"
   ]
  },
  {
   "cell_type": "code",
   "execution_count": 34,
   "metadata": {
    "scrolled": true
   },
   "outputs": [
    {
     "data": {
      "image/png": "[encoded data removed]",
      "text/plain": [
       "<Figure size 720x288 with 1 Axes>"
      ]
     },
     "metadata": {
      "needs_background": "light"
     },
     "output_type": "display_data"
    }
   ],
   "source": [
    "good_data_spb = good_data_spb.drop(labels=[748], axis=0)\n",
    "centre_distance_data = good_data_spb.pivot_table(index = 'centre_distance', values = 'meter_price')\n",
    "centre_distance_data.plot(grid=True, marker='o', figsize=(10,4))\n",
    "plt.xlabel('Расстояние до центра, км')\n",
    "plt.ylabel('Цена за кв м')\n",
    "plt.title('Зависимость цены за кв м от расстояния до центра')\n",
    "plt.show()"
   ]
  },
  {
   "cell_type": "markdown",
   "metadata": {},
   "source": [
    "Без аномального значения мы видим, что на 27 км цена за кв м следует общему тренду снижения при удалении от центра. "
   ]
  },
  {
   "cell_type": "markdown",
   "metadata": {},
   "source": [
    "### Общий вывод"
   ]
  },
  {
   "cell_type": "markdown",
   "metadata": {},
   "source": [
    "В результате мы обработали представленный датафрейм с недвижимостью. Для этого обработали пропущенные значения и неявные дубликаты, а заодно изменили типы данных для удобства и корректности дальнейшей работы. Вот что сделали потом: \n",
    "\n",
    "1. Добавили в таблицу новые значения: цену за кв м жилья, ддни недели, месяцы и года размещения объявлений, добавили категории по этажам квартир. Изучили следующие параметры на наличие выбивающихся значений - площадь, цена, число комнат, высота потолков - и определили аномалии в данных параметрах. \n",
    "\n",
    "\n",
    "2. Выявили средние сроки по продажам квартир на сервисе: медианное время от публикации до снятия объявления - 90 дней, а среднее при отброшенных нулевых значениях - 180. Нормальные значения по продаже подпадают под показатель от 90 до 450 дней. Долгими можно считать объявления, которые висят более 450 дней, а быстрыми - продажи за срок менее 90 дней.\n",
    "\n",
    "\n",
    "3. Определили возможную уловку продавцов: пики по снятиям публикаций приходятся на 45, 60 и 90 дней. Это может позволить им скрыть для новых покупателей, сколько дней предложение висит на сервисе, а значит, снизить сомнения по покупке из-за долго висящего объекта.\n",
    "\n",
    "\n",
    "4. Узнали показатели, которые больше всего влияют на стоимость квартиры. Это расстояние до центра и этаж квартиры. Средняя цена за квартиры на первом или последнем этажах ниже, чем у квартир на других этажах. Самая дорогая недвижимость - в центре Петербурга (это радиус в 5 км). После этой границы цена за кв м начинает падать вплоть до расстояния в 28 км от центра: со 112 тыс. за кв м до 70 тыс. за кв м.\n",
    "\n",
    "5. На стоимость квартиры влияет и ее площадь: в первую очередь общая, затем жилая площадь и площадь кухни. Корреляция тут небольшая, но связь есть: чем больше площадь, тем больше цена. Кроме того, аналогично влияет и количество комнат: с их увеличением растет и стоимость недвижимости.\n",
    "\n",
    "\n",
    "6. Есть небольшая связь между ценой за кв м и временем публикации (день, месяц и год). Худший месяц для продавца по продажам недвижимости - август. Это можно объяснить низким сезоном, подготовкой к учебному году (как следствие, расходы на него) и отпусками. Пик активности приходится на начало делового сезона, сентябрь. По году: наибольшую цену за 1 кв м продавец мог получить в 2014 году. Это связано предположительно с ростом курса из-за кризиса.\n",
    "\n",
    "\n",
    "**Рекомендации заказчику по сбору данных**\n",
    "\n",
    "1. Унифицировать ввод информации по высоте потолков.\n",
    "Как видно из датафрейма, часть продавцов по ошибке вместо значения в метрах вводила значение в сантиметрах. Возможно, это можно было поправить приемом только значения в метрах.\n",
    "\n",
    "2. Создать правила для объектов с аномальными значениями и указывать причины аномалий.\n",
    "Это, например, квартиры с площадью в 400 м или квартиры в 27 км от СПб с ценой за кв м в 200 тысяч рублей. Сейчас причины таких аномалий неизвестны: это может быть как человеческий фактор, так и какие-то уникальные для рынка лоты. Хотелось бы при анализе видеть ее возможную причину от менеджеров продукта.\n",
    "\n",
    "3. Унифицировать ввод в колонках с целыми числами.\n",
    "Количество этажей в доме и балконов не может быть дробным значением, а сейчас продавцы как будто могут указывать такие значения."
   ]
  },
  {
   "cell_type": "markdown",
   "metadata": {},
   "source": [
    "**Чек-лист готовности проекта**\n",
    "\n",
    "Поставьте 'x' в выполненных пунктах. Далее нажмите Shift+Enter."
   ]
  },
  {
   "cell_type": "markdown",
   "metadata": {},
   "source": [
    "- [x]  открыт файл\n",
    "- [x]  файлы изучены (выведены первые строки, метод `info()`, гистограммы и т.д.)\n",
    "- [x]  определены пропущенные значения\n",
    "- [x]  заполнены пропущенные значения там, где это возможно\n",
    "- [x]  есть пояснение, какие пропущенные значения обнаружены\n",
    "- [x]  изменены типы данных\n",
    "- [x]  есть пояснение, в каких столбцах изменены типы и почему\n",
    "- [x]  устранены неявные дубликаты в названиях населённых пунктов\n",
    "- [x]  устранены редкие и выбивающиеся значения (аномалии) во всех столбцах\n",
    "- [x]  посчитано и добавлено в таблицу: цена одного квадратного метра\n",
    "- [x]  посчитано и добавлено в таблицу: день публикации объявления (0 - понедельник, 1 - вторник и т.д.)\n",
    "- [x]  посчитано и добавлено в таблицу: месяц публикации объявления\n",
    "- [x]  посчитано и добавлено в таблицу: год публикации объявления\n",
    "- [x]  посчитано и добавлено в таблицу: тип этажа квартиры (значения — «первый», «последний», «другой»)\n",
    "- [x]  посчитано и добавлено в таблицу: расстояние в км до центра города\n",
    "- [x]  изучены и описаны следующие параметры:\n",
    "        - общая площадь;\n",
    "        - жилая площадь;\n",
    "        - площадь кухни;\n",
    "        - цена объекта;\n",
    "        - количество комнат;\n",
    "        - высота потолков;\n",
    "        - этаж квартиры;\n",
    "        - тип этажа квартиры («первый», «последний», «другой»);\n",
    "        - общее количество этажей в доме;\n",
    "        - расстояние до центра города в метрах;\n",
    "        - расстояние до ближайшего аэропорта;\n",
    "        - расстояние до ближайшего парка;\n",
    "        - день и месяц публикации объявления\n",
    "- [x]  построены гистограммы для каждого параметра\n",
    "- [x]  выполнено задание: \"Изучите, как быстро продавались квартиры (столбец days_exposition). Этот параметр показывает, сколько дней «висело» каждое объявление.\n",
    "    - Постройте гистограмму.\n",
    "    - Посчитайте среднее и медиану.\n",
    "    - В ячейке типа markdown опишите, сколько обычно занимает продажа. Какие продажи можно считать быстрыми, а какие — необычно долгими?\"\n",
    "- [x]  выполнено задание: \"Какие факторы больше всего влияют на общую (полную) стоимость объекта? Постройте графики, которые покажут зависимость цены от указанных ниже параметров. Для подготовки данных перед визуализацией вы можете использовать сводные таблицы.\"\n",
    "        - общей площади;\n",
    "        - жилой площади;\n",
    "        - площади кухни;\n",
    "        - количество комнат;\n",
    "        - типа этажа, на котором расположена квартира (первый, последний, другой);\n",
    "        - даты размещения (день недели, месяц, год);\n",
    "- [x]  выполнено задание: \"Посчитайте среднюю цену одного квадратного метра в 10 населённых пунктах с наибольшим числом объявлений. Выделите населённые пункты с самой высокой и низкой стоимостью квадратного метра. Эти данные можно найти по имени в столбце `locality_name`.\"\n",
    "- [x]  выполнено задание: \"Ранее вы посчитали расстояние до центра в километрах. Теперь выделите квартиры в Санкт-Петербурге с помощью столбца `locality_name` и вычислите среднюю цену каждого километра. Опишите, как стоимость объектов зависит от расстояния до центра города.\"\n",
    "- [x]  в каждом этапе есть промежуточные выводы\n",
    "- [x]  есть общий вывод"
   ]
  }
 ],
 "metadata": {
  "ExecuteTimeLog": [
   {
    "duration": 1532,
    "start_time": "2023-10-17T18:19:33.834Z"
   },
   {
    "duration": 336,
    "start_time": "2023-10-17T18:19:35.368Z"
   },
   {
    "duration": 1867,
    "start_time": "2023-10-17T18:19:35.706Z"
   },
   {
    "duration": 0,
    "start_time": "2023-10-17T18:19:37.576Z"
   },
   {
    "duration": 0,
    "start_time": "2023-10-17T18:19:37.578Z"
   },
   {
    "duration": 0,
    "start_time": "2023-10-17T18:19:37.579Z"
   },
   {
    "duration": 0,
    "start_time": "2023-10-17T18:19:37.579Z"
   },
   {
    "duration": 0,
    "start_time": "2023-10-17T18:19:37.580Z"
   },
   {
    "duration": 0,
    "start_time": "2023-10-17T18:19:37.582Z"
   },
   {
    "duration": 0,
    "start_time": "2023-10-17T18:19:37.583Z"
   },
   {
    "duration": 0,
    "start_time": "2023-10-17T18:19:37.584Z"
   },
   {
    "duration": 0,
    "start_time": "2023-10-17T18:19:37.585Z"
   },
   {
    "duration": 0,
    "start_time": "2023-10-17T18:19:37.586Z"
   },
   {
    "duration": 0,
    "start_time": "2023-10-17T18:19:37.586Z"
   },
   {
    "duration": 1,
    "start_time": "2023-10-17T18:19:37.587Z"
   },
   {
    "duration": 0,
    "start_time": "2023-10-17T18:19:37.589Z"
   },
   {
    "duration": 0,
    "start_time": "2023-10-17T18:19:37.590Z"
   },
   {
    "duration": 0,
    "start_time": "2023-10-17T18:19:37.591Z"
   },
   {
    "duration": 0,
    "start_time": "2023-10-17T18:19:37.592Z"
   },
   {
    "duration": 0,
    "start_time": "2023-10-17T18:19:37.593Z"
   },
   {
    "duration": 0,
    "start_time": "2023-10-17T18:19:37.594Z"
   },
   {
    "duration": 0,
    "start_time": "2023-10-17T18:19:37.596Z"
   },
   {
    "duration": 0,
    "start_time": "2023-10-17T18:19:37.597Z"
   },
   {
    "duration": 0,
    "start_time": "2023-10-17T18:19:37.598Z"
   },
   {
    "duration": 0,
    "start_time": "2023-10-17T18:19:37.599Z"
   },
   {
    "duration": 0,
    "start_time": "2023-10-17T18:19:37.600Z"
   },
   {
    "duration": 0,
    "start_time": "2023-10-17T18:19:37.601Z"
   },
   {
    "duration": 49,
    "start_time": "2023-10-17T18:25:07.540Z"
   },
   {
    "duration": 1442,
    "start_time": "2023-10-17T18:25:13.943Z"
   },
   {
    "duration": 342,
    "start_time": "2023-10-17T18:25:17.950Z"
   },
   {
    "duration": 357,
    "start_time": "2023-10-17T18:28:29.634Z"
   },
   {
    "duration": 1915,
    "start_time": "2023-10-17T18:28:33.635Z"
   },
   {
    "duration": 78,
    "start_time": "2023-10-17T18:29:11.139Z"
   },
   {
    "duration": 2068,
    "start_time": "2023-10-17T18:30:53.234Z"
   },
   {
    "duration": 10,
    "start_time": "2023-10-17T18:31:04.545Z"
   },
   {
    "duration": 24,
    "start_time": "2023-10-17T18:31:19.695Z"
   },
   {
    "duration": 28,
    "start_time": "2023-10-17T18:31:35.751Z"
   },
   {
    "duration": 22,
    "start_time": "2023-10-17T18:31:42.313Z"
   },
   {
    "duration": 29,
    "start_time": "2023-10-17T18:31:45.666Z"
   },
   {
    "duration": 6,
    "start_time": "2023-10-17T18:31:49.967Z"
   },
   {
    "duration": 141,
    "start_time": "2023-10-17T18:31:55.142Z"
   },
   {
    "duration": 348,
    "start_time": "2023-10-17T18:32:32.235Z"
   },
   {
    "duration": 704,
    "start_time": "2023-10-17T18:32:36.689Z"
   },
   {
    "duration": 666,
    "start_time": "2023-10-17T18:33:19.332Z"
   },
   {
    "duration": 703,
    "start_time": "2023-10-17T18:33:41.388Z"
   },
   {
    "duration": 577,
    "start_time": "2023-10-17T18:33:55.835Z"
   },
   {
    "duration": 109,
    "start_time": "2023-10-17T18:34:28.694Z"
   },
   {
    "duration": 561,
    "start_time": "2023-10-17T18:34:33.146Z"
   },
   {
    "duration": 428,
    "start_time": "2023-10-17T18:34:42.158Z"
   },
   {
    "duration": 480,
    "start_time": "2023-10-17T18:34:49.575Z"
   },
   {
    "duration": 17,
    "start_time": "2023-10-17T18:34:55.291Z"
   },
   {
    "duration": 530,
    "start_time": "2023-10-17T18:34:59.135Z"
   },
   {
    "duration": 645,
    "start_time": "2023-10-17T18:35:02.634Z"
   },
   {
    "duration": 522,
    "start_time": "2023-10-17T18:35:16.149Z"
   },
   {
    "duration": 538,
    "start_time": "2023-10-17T18:35:21.738Z"
   },
   {
    "duration": 588,
    "start_time": "2023-10-17T18:35:30.158Z"
   },
   {
    "duration": 714,
    "start_time": "2023-10-17T18:35:38.057Z"
   },
   {
    "duration": 633,
    "start_time": "2023-10-17T18:35:43.062Z"
   },
   {
    "duration": 433,
    "start_time": "2023-10-17T18:35:49.148Z"
   },
   {
    "duration": 867,
    "start_time": "2023-10-17T18:35:55.258Z"
   },
   {
    "duration": 700,
    "start_time": "2023-10-17T18:36:05.722Z"
   },
   {
    "duration": 583,
    "start_time": "2023-10-17T18:37:09.884Z"
   },
   {
    "duration": 577,
    "start_time": "2023-10-17T18:37:26.042Z"
   },
   {
    "duration": 743,
    "start_time": "2023-10-17T18:37:34.514Z"
   },
   {
    "duration": 561,
    "start_time": "2023-10-17T18:37:41.847Z"
   },
   {
    "duration": 609,
    "start_time": "2023-10-17T18:38:00.700Z"
   },
   {
    "duration": 168,
    "start_time": "2023-10-17T18:38:08.300Z"
   },
   {
    "duration": 190,
    "start_time": "2023-10-17T18:38:13.680Z"
   },
   {
    "duration": 197,
    "start_time": "2023-10-17T18:38:17.790Z"
   },
   {
    "duration": 305,
    "start_time": "2023-10-17T18:38:22.956Z"
   },
   {
    "duration": 169,
    "start_time": "2023-10-17T18:38:29.252Z"
   },
   {
    "duration": 866,
    "start_time": "2023-10-17T18:38:37.776Z"
   },
   {
    "duration": 162,
    "start_time": "2023-10-17T18:38:56.437Z"
   },
   {
    "duration": 194,
    "start_time": "2023-10-17T18:39:03.342Z"
   },
   {
    "duration": 174,
    "start_time": "2023-10-17T18:39:07.670Z"
   },
   {
    "duration": 51,
    "start_time": "2023-10-17T18:39:18.064Z"
   },
   {
    "duration": 181,
    "start_time": "2023-10-17T18:39:22.035Z"
   },
   {
    "duration": 1143,
    "start_time": "2023-10-18T06:29:14.505Z"
   },
   {
    "duration": 325,
    "start_time": "2023-10-18T06:29:15.649Z"
   },
   {
    "duration": 1762,
    "start_time": "2023-10-18T06:29:15.976Z"
   },
   {
    "duration": 10,
    "start_time": "2023-10-18T06:29:17.740Z"
   },
   {
    "duration": 22,
    "start_time": "2023-10-18T06:29:17.752Z"
   },
   {
    "duration": 12,
    "start_time": "2023-10-18T06:29:17.776Z"
   },
   {
    "duration": 31,
    "start_time": "2023-10-18T06:29:17.789Z"
   },
   {
    "duration": 5,
    "start_time": "2023-10-18T06:29:17.843Z"
   },
   {
    "duration": 138,
    "start_time": "2023-10-18T06:29:17.850Z"
   },
   {
    "duration": 306,
    "start_time": "2023-10-18T06:29:17.992Z"
   },
   {
    "duration": 651,
    "start_time": "2023-10-18T06:29:18.300Z"
   },
   {
    "duration": 637,
    "start_time": "2023-10-18T06:29:18.953Z"
   },
   {
    "duration": 107,
    "start_time": "2023-10-18T06:29:19.592Z"
   },
   {
    "duration": 448,
    "start_time": "2023-10-18T06:29:19.700Z"
   },
   {
    "duration": 14,
    "start_time": "2023-10-18T06:29:20.149Z"
   },
   {
    "duration": 560,
    "start_time": "2023-10-18T06:29:20.165Z"
   },
   {
    "duration": 155,
    "start_time": "2023-10-18T06:29:20.726Z"
   },
   {
    "duration": 188,
    "start_time": "2023-10-18T06:29:20.882Z"
   },
   {
    "duration": 271,
    "start_time": "2023-10-18T06:29:21.073Z"
   },
   {
    "duration": 168,
    "start_time": "2023-10-18T06:29:21.346Z"
   },
   {
    "duration": 155,
    "start_time": "2023-10-18T06:29:21.516Z"
   },
   {
    "duration": 757,
    "start_time": "2023-10-18T06:29:21.673Z"
   },
   {
    "duration": 156,
    "start_time": "2023-10-18T06:29:22.432Z"
   },
   {
    "duration": 156,
    "start_time": "2023-10-18T06:29:22.590Z"
   },
   {
    "duration": 153,
    "start_time": "2023-10-18T06:29:22.748Z"
   },
   {
    "duration": 48,
    "start_time": "2023-10-18T06:29:22.903Z"
   },
   {
    "duration": 173,
    "start_time": "2023-10-18T06:29:22.953Z"
   },
   {
    "duration": 216,
    "start_time": "2023-10-18T06:34:01.905Z"
   },
   {
    "duration": 125,
    "start_time": "2023-10-18T06:37:08.516Z"
   },
   {
    "duration": 109,
    "start_time": "2023-10-18T06:41:10.704Z"
   },
   {
    "duration": 10,
    "start_time": "2023-10-18T06:41:26.890Z"
   },
   {
    "duration": 106,
    "start_time": "2023-10-20T05:44:04.813Z"
   },
   {
    "duration": 90,
    "start_time": "2023-10-20T05:44:08.910Z"
   },
   {
    "duration": 49,
    "start_time": "2023-10-20T05:54:01.506Z"
   },
   {
    "duration": 6,
    "start_time": "2023-10-20T05:54:12.769Z"
   },
   {
    "duration": 1265,
    "start_time": "2023-10-20T05:54:14.408Z"
   },
   {
    "duration": 357,
    "start_time": "2023-10-20T05:54:16.591Z"
   },
   {
    "duration": 1618,
    "start_time": "2023-10-20T05:54:19.510Z"
   },
   {
    "duration": 10,
    "start_time": "2023-10-20T05:54:24.951Z"
   },
   {
    "duration": 22,
    "start_time": "2023-10-20T05:54:27.752Z"
   },
   {
    "duration": 9,
    "start_time": "2023-10-20T05:54:32.002Z"
   },
   {
    "duration": 58,
    "start_time": "2023-10-20T05:54:50.150Z"
   },
   {
    "duration": 118,
    "start_time": "2023-10-20T05:55:19.991Z"
   },
   {
    "duration": 141,
    "start_time": "2023-10-20T05:55:28.500Z"
   },
   {
    "duration": 102,
    "start_time": "2023-10-20T05:55:50.555Z"
   },
   {
    "duration": 19,
    "start_time": "2023-10-20T05:56:17.103Z"
   },
   {
    "duration": 33,
    "start_time": "2023-10-20T05:57:07.323Z"
   },
   {
    "duration": 16,
    "start_time": "2023-10-20T05:57:19.291Z"
   },
   {
    "duration": 10,
    "start_time": "2023-10-20T05:57:27.590Z"
   },
   {
    "duration": 105,
    "start_time": "2023-10-20T05:58:12.590Z"
   },
   {
    "duration": 14,
    "start_time": "2023-10-20T05:58:25.116Z"
   },
   {
    "duration": 107,
    "start_time": "2023-10-20T05:59:09.751Z"
   },
   {
    "duration": 6,
    "start_time": "2023-10-20T05:59:36.531Z"
   },
   {
    "duration": 4,
    "start_time": "2023-10-20T05:59:50.759Z"
   },
   {
    "duration": 33,
    "start_time": "2023-10-20T05:59:59.229Z"
   },
   {
    "duration": 15,
    "start_time": "2023-10-20T06:00:03.776Z"
   },
   {
    "duration": 15,
    "start_time": "2023-10-20T06:00:07.257Z"
   },
   {
    "duration": 3,
    "start_time": "2023-10-20T06:00:13.116Z"
   },
   {
    "duration": 118,
    "start_time": "2023-10-20T06:00:15.438Z"
   },
   {
    "duration": 1855,
    "start_time": "2023-10-20T06:00:17.532Z"
   },
   {
    "duration": 10,
    "start_time": "2023-10-20T06:00:22.875Z"
   },
   {
    "duration": 24,
    "start_time": "2023-10-20T06:00:25.570Z"
   },
   {
    "duration": 19,
    "start_time": "2023-10-20T06:00:28.558Z"
   },
   {
    "duration": 22,
    "start_time": "2023-10-20T06:00:32.796Z"
   },
   {
    "duration": 4,
    "start_time": "2023-10-20T06:00:36.562Z"
   },
   {
    "duration": 7,
    "start_time": "2023-10-20T06:00:46.342Z"
   },
   {
    "duration": 142,
    "start_time": "2023-10-20T06:00:50.565Z"
   },
   {
    "duration": 99,
    "start_time": "2023-10-20T06:10:34.981Z"
   },
   {
    "duration": 7,
    "start_time": "2023-10-20T06:15:32.322Z"
   },
   {
    "duration": 53,
    "start_time": "2023-10-20T06:16:07.571Z"
   },
   {
    "duration": 51,
    "start_time": "2023-10-20T06:16:24.928Z"
   },
   {
    "duration": 48,
    "start_time": "2023-10-20T06:16:45.050Z"
   },
   {
    "duration": 24,
    "start_time": "2023-10-20T06:17:23.662Z"
   },
   {
    "duration": 7,
    "start_time": "2023-10-20T06:19:08.399Z"
   },
   {
    "duration": 45,
    "start_time": "2023-10-20T06:19:19.482Z"
   },
   {
    "duration": 20,
    "start_time": "2023-10-20T06:19:41.099Z"
   },
   {
    "duration": 34,
    "start_time": "2023-10-20T06:19:44.629Z"
   },
   {
    "duration": 55,
    "start_time": "2023-10-20T06:20:11.609Z"
   },
   {
    "duration": 52,
    "start_time": "2023-10-20T06:20:17.049Z"
   },
   {
    "duration": 34,
    "start_time": "2023-10-20T06:20:25.651Z"
   },
   {
    "duration": 54,
    "start_time": "2023-10-20T06:20:38.534Z"
   },
   {
    "duration": 37,
    "start_time": "2023-10-20T06:20:46.686Z"
   },
   {
    "duration": 72,
    "start_time": "2023-10-20T06:20:52.302Z"
   },
   {
    "duration": 59,
    "start_time": "2023-10-20T06:21:05.330Z"
   },
   {
    "duration": 12,
    "start_time": "2023-10-20T06:21:26.795Z"
   },
   {
    "duration": 52,
    "start_time": "2023-10-20T06:21:34.476Z"
   },
   {
    "duration": 44,
    "start_time": "2023-10-20T06:21:40.744Z"
   },
   {
    "duration": 41,
    "start_time": "2023-10-20T06:21:50.885Z"
   },
   {
    "duration": 51,
    "start_time": "2023-10-20T06:22:04.234Z"
   },
   {
    "duration": 39,
    "start_time": "2023-10-20T06:22:17.856Z"
   },
   {
    "duration": 40,
    "start_time": "2023-10-20T06:22:29.454Z"
   },
   {
    "duration": 105,
    "start_time": "2023-10-20T06:22:41.855Z"
   },
   {
    "duration": 1538,
    "start_time": "2023-10-20T06:22:44.170Z"
   },
   {
    "duration": 8,
    "start_time": "2023-10-20T06:22:49.905Z"
   },
   {
    "duration": 176,
    "start_time": "2023-10-20T06:22:52.535Z"
   },
   {
    "duration": 14,
    "start_time": "2023-10-20T06:22:55.301Z"
   },
   {
    "duration": 21,
    "start_time": "2023-10-20T06:22:59.505Z"
   },
   {
    "duration": 6,
    "start_time": "2023-10-20T06:23:03.657Z"
   },
   {
    "duration": 139,
    "start_time": "2023-10-20T06:23:07.462Z"
   },
   {
    "duration": 303,
    "start_time": "2023-10-20T06:23:12.992Z"
   },
   {
    "duration": 605,
    "start_time": "2023-10-20T06:23:20.350Z"
   },
   {
    "duration": 34,
    "start_time": "2023-10-20T06:23:35.254Z"
   },
   {
    "duration": 35,
    "start_time": "2023-10-20T06:23:45.254Z"
   },
   {
    "duration": 106,
    "start_time": "2023-10-20T06:23:58.777Z"
   },
   {
    "duration": 1674,
    "start_time": "2023-10-20T06:24:01.296Z"
   },
   {
    "duration": 8,
    "start_time": "2023-10-20T06:24:06.400Z"
   },
   {
    "duration": 24,
    "start_time": "2023-10-20T06:24:09.345Z"
   },
   {
    "duration": 22,
    "start_time": "2023-10-20T06:24:11.932Z"
   },
   {
    "duration": 33,
    "start_time": "2023-10-20T06:24:15.988Z"
   },
   {
    "duration": 3,
    "start_time": "2023-10-20T06:24:18.860Z"
   },
   {
    "duration": 135,
    "start_time": "2023-10-20T06:24:21.193Z"
   },
   {
    "duration": 313,
    "start_time": "2023-10-20T06:24:26.577Z"
   },
   {
    "duration": 678,
    "start_time": "2023-10-20T06:24:32.622Z"
   },
   {
    "duration": 32,
    "start_time": "2023-10-20T06:24:39.187Z"
   },
   {
    "duration": 27,
    "start_time": "2023-10-20T06:26:00.348Z"
   },
   {
    "duration": 14,
    "start_time": "2023-10-20T06:26:25.063Z"
   },
   {
    "duration": 162,
    "start_time": "2023-10-20T06:26:35.471Z"
   },
   {
    "duration": 144,
    "start_time": "2023-10-20T06:26:51.377Z"
   },
   {
    "duration": 144,
    "start_time": "2023-10-20T06:28:15.279Z"
   },
   {
    "duration": 212,
    "start_time": "2023-10-20T06:28:20.796Z"
   },
   {
    "duration": 230,
    "start_time": "2023-10-20T06:28:32.829Z"
   },
   {
    "duration": 148,
    "start_time": "2023-10-20T06:28:47.826Z"
   },
   {
    "duration": 225,
    "start_time": "2023-10-20T06:28:53.166Z"
   },
   {
    "duration": 169,
    "start_time": "2023-10-20T06:29:05.952Z"
   },
   {
    "duration": 144,
    "start_time": "2023-10-20T06:29:10.058Z"
   },
   {
    "duration": 162,
    "start_time": "2023-10-20T06:29:16.268Z"
   },
   {
    "duration": 154,
    "start_time": "2023-10-20T06:29:23.923Z"
   },
   {
    "duration": 151,
    "start_time": "2023-10-20T06:29:59.912Z"
   },
   {
    "duration": 100,
    "start_time": "2023-10-20T06:30:44.331Z"
   },
   {
    "duration": 160,
    "start_time": "2023-10-20T06:32:09.393Z"
   },
   {
    "duration": 144,
    "start_time": "2023-10-20T06:32:17.456Z"
   },
   {
    "duration": 150,
    "start_time": "2023-10-20T06:32:21.688Z"
   },
   {
    "duration": 156,
    "start_time": "2023-10-20T06:32:27.434Z"
   },
   {
    "duration": 247,
    "start_time": "2023-10-20T06:32:43.371Z"
   },
   {
    "duration": 384,
    "start_time": "2023-10-20T06:33:31.591Z"
   },
   {
    "duration": 495,
    "start_time": "2023-10-20T06:34:46.361Z"
   },
   {
    "duration": 367,
    "start_time": "2023-10-20T06:35:16.985Z"
   },
   {
    "duration": 481,
    "start_time": "2023-10-20T06:35:26.435Z"
   },
   {
    "duration": 457,
    "start_time": "2023-10-20T06:36:42.909Z"
   },
   {
    "duration": 488,
    "start_time": "2023-10-20T06:36:55.431Z"
   },
   {
    "duration": 465,
    "start_time": "2023-10-20T06:38:44.515Z"
   },
   {
    "duration": 482,
    "start_time": "2023-10-20T06:38:47.120Z"
   },
   {
    "duration": 612,
    "start_time": "2023-10-20T06:38:52.767Z"
   },
   {
    "duration": 490,
    "start_time": "2023-10-20T06:39:17.487Z"
   },
   {
    "duration": 480,
    "start_time": "2023-10-20T06:39:38.198Z"
   },
   {
    "duration": 609,
    "start_time": "2023-10-20T06:39:46.459Z"
   },
   {
    "duration": 495,
    "start_time": "2023-10-20T06:39:59.494Z"
   },
   {
    "duration": 530,
    "start_time": "2023-10-20T06:40:16.151Z"
   },
   {
    "duration": 123,
    "start_time": "2023-10-20T06:40:45.164Z"
   },
   {
    "duration": 104,
    "start_time": "2023-10-20T06:40:50.580Z"
   },
   {
    "duration": 120,
    "start_time": "2023-10-20T06:40:54.660Z"
   },
   {
    "duration": 543,
    "start_time": "2023-10-20T06:41:46.365Z"
   },
   {
    "duration": 434,
    "start_time": "2023-10-20T06:41:57.220Z"
   },
   {
    "duration": 12,
    "start_time": "2023-10-20T06:42:11.661Z"
   },
   {
    "duration": 95,
    "start_time": "2023-10-21T18:26:13.929Z"
   },
   {
    "duration": 49,
    "start_time": "2023-10-21T18:26:31.010Z"
   },
   {
    "duration": 1395,
    "start_time": "2023-10-21T18:26:47.511Z"
   },
   {
    "duration": 357,
    "start_time": "2023-10-21T18:26:54.989Z"
   },
   {
    "duration": 121,
    "start_time": "2023-10-21T18:27:04.126Z"
   },
   {
    "duration": 1984,
    "start_time": "2023-10-21T18:27:10.507Z"
   },
   {
    "duration": 11,
    "start_time": "2023-10-21T18:27:15.958Z"
   },
   {
    "duration": 29,
    "start_time": "2023-10-21T18:27:19.110Z"
   },
   {
    "duration": 20,
    "start_time": "2023-10-21T18:27:21.753Z"
   },
   {
    "duration": 19,
    "start_time": "2023-10-21T18:27:25.204Z"
   },
   {
    "duration": 30,
    "start_time": "2023-10-21T18:27:27.965Z"
   },
   {
    "duration": 5,
    "start_time": "2023-10-21T18:27:31.846Z"
   },
   {
    "duration": 143,
    "start_time": "2023-10-21T18:27:34.243Z"
   },
   {
    "duration": 340,
    "start_time": "2023-10-21T18:27:38.443Z"
   },
   {
    "duration": 10,
    "start_time": "2023-10-21T18:27:43.902Z"
   },
   {
    "duration": 720,
    "start_time": "2023-10-21T18:27:47.211Z"
   },
   {
    "duration": 749,
    "start_time": "2023-10-21T18:27:50.845Z"
   },
   {
    "duration": 191,
    "start_time": "2023-10-21T18:27:59.267Z"
   },
   {
    "duration": 122,
    "start_time": "2023-10-21T18:28:01.792Z"
   },
   {
    "duration": 534,
    "start_time": "2023-10-21T18:28:04.713Z"
   },
   {
    "duration": 15,
    "start_time": "2023-10-21T18:28:08.559Z"
   },
   {
    "duration": 623,
    "start_time": "2023-10-21T18:28:11.632Z"
   },
   {
    "duration": 163,
    "start_time": "2023-10-21T18:28:16.940Z"
   },
   {
    "duration": 17,
    "start_time": "2023-10-21T18:29:51.034Z"
   },
   {
    "duration": 15,
    "start_time": "2023-10-21T18:30:00.725Z"
   },
   {
    "duration": 16,
    "start_time": "2023-10-21T18:30:10.180Z"
   },
   {
    "duration": 20,
    "start_time": "2023-10-21T18:30:20.353Z"
   },
   {
    "duration": 172,
    "start_time": "2023-10-21T18:30:35.723Z"
   },
   {
    "duration": 264,
    "start_time": "2023-10-21T18:30:54.077Z"
   },
   {
    "duration": 161,
    "start_time": "2023-10-21T18:31:12.672Z"
   },
   {
    "duration": 164,
    "start_time": "2023-10-21T18:31:52.589Z"
   },
   {
    "duration": 249,
    "start_time": "2023-10-21T18:32:04.055Z"
   },
   {
    "duration": 160,
    "start_time": "2023-10-21T18:32:16.926Z"
   },
   {
    "duration": 163,
    "start_time": "2023-10-21T18:35:51.614Z"
   },
   {
    "duration": 164,
    "start_time": "2023-10-21T18:35:58.609Z"
   },
   {
    "duration": 174,
    "start_time": "2023-10-21T18:37:06.070Z"
   },
   {
    "duration": 171,
    "start_time": "2023-10-21T18:37:45.706Z"
   },
   {
    "duration": 175,
    "start_time": "2023-10-21T18:38:09.915Z"
   },
   {
    "duration": 198,
    "start_time": "2023-10-21T18:38:25.282Z"
   },
   {
    "duration": 427,
    "start_time": "2023-10-21T18:41:18.869Z"
   },
   {
    "duration": 173,
    "start_time": "2023-10-21T18:41:31.177Z"
   },
   {
    "duration": 175,
    "start_time": "2023-10-21T18:41:34.555Z"
   },
   {
    "duration": 16,
    "start_time": "2023-10-21T18:41:49.237Z"
   },
   {
    "duration": 171,
    "start_time": "2023-10-21T18:41:54.785Z"
   },
   {
    "duration": 232,
    "start_time": "2023-10-21T18:47:52.006Z"
   },
   {
    "duration": 171,
    "start_time": "2023-10-21T18:49:27.507Z"
   },
   {
    "duration": 85,
    "start_time": "2023-10-21T18:50:30.786Z"
   },
   {
    "duration": 85,
    "start_time": "2023-10-21T18:51:28.449Z"
   },
   {
    "duration": 173,
    "start_time": "2023-10-21T18:52:38.463Z"
   },
   {
    "duration": 185,
    "start_time": "2023-10-21T18:53:25.506Z"
   },
   {
    "duration": 194,
    "start_time": "2023-10-21T18:53:38.876Z"
   },
   {
    "duration": 191,
    "start_time": "2023-10-21T18:54:59.006Z"
   },
   {
    "duration": 276,
    "start_time": "2023-10-21T18:57:09.525Z"
   },
   {
    "duration": 176,
    "start_time": "2023-10-21T18:57:27.432Z"
   },
   {
    "duration": 1244,
    "start_time": "2023-10-21T18:59:56.367Z"
   },
   {
    "duration": 171,
    "start_time": "2023-10-21T19:00:07.951Z"
   },
   {
    "duration": 95,
    "start_time": "2023-10-21T19:00:22.024Z"
   },
   {
    "duration": 162,
    "start_time": "2023-10-21T19:00:29.756Z"
   },
   {
    "duration": 162,
    "start_time": "2023-10-21T19:00:55.936Z"
   },
   {
    "duration": 181,
    "start_time": "2023-10-21T19:03:39.357Z"
   },
   {
    "duration": 187,
    "start_time": "2023-10-21T19:03:50.869Z"
   },
   {
    "duration": 286,
    "start_time": "2023-10-21T19:04:00.115Z"
   },
   {
    "duration": 269,
    "start_time": "2023-10-21T19:04:08.128Z"
   },
   {
    "duration": 193,
    "start_time": "2023-10-21T19:04:16.206Z"
   },
   {
    "duration": 160,
    "start_time": "2023-10-21T19:04:34.932Z"
   },
   {
    "duration": 157,
    "start_time": "2023-10-21T19:04:39.380Z"
   },
   {
    "duration": 251,
    "start_time": "2023-10-21T19:04:52.699Z"
   },
   {
    "duration": 172,
    "start_time": "2023-10-21T19:05:06.001Z"
   },
   {
    "duration": 260,
    "start_time": "2023-10-21T19:05:15.328Z"
   },
   {
    "duration": 163,
    "start_time": "2023-10-21T19:05:24.804Z"
   },
   {
    "duration": 110,
    "start_time": "2023-10-21T19:05:52.072Z"
   },
   {
    "duration": 157,
    "start_time": "2023-10-21T19:05:54.560Z"
   },
   {
    "duration": 170,
    "start_time": "2023-10-21T19:05:59.007Z"
   },
   {
    "duration": 197,
    "start_time": "2023-10-21T19:06:32.202Z"
   },
   {
    "duration": 177,
    "start_time": "2023-10-21T19:07:02.831Z"
   },
   {
    "duration": 169,
    "start_time": "2023-10-21T19:07:16.917Z"
   },
   {
    "duration": 181,
    "start_time": "2023-10-21T19:08:02.571Z"
   },
   {
    "duration": 22,
    "start_time": "2023-10-21T19:11:12.406Z"
   },
   {
    "duration": 19,
    "start_time": "2023-10-21T19:11:33.841Z"
   },
   {
    "duration": 17,
    "start_time": "2023-10-21T19:11:52.268Z"
   },
   {
    "duration": 188,
    "start_time": "2023-10-21T19:12:07.812Z"
   },
   {
    "duration": 176,
    "start_time": "2023-10-21T19:12:25.838Z"
   },
   {
    "duration": 287,
    "start_time": "2023-10-21T19:14:08.596Z"
   },
   {
    "duration": 20,
    "start_time": "2023-10-21T19:14:16.352Z"
   },
   {
    "duration": 158,
    "start_time": "2023-10-21T19:14:20.769Z"
   },
   {
    "duration": 183,
    "start_time": "2023-10-21T19:14:48.598Z"
   },
   {
    "duration": 163,
    "start_time": "2023-10-21T19:14:55.831Z"
   },
   {
    "duration": 18,
    "start_time": "2023-10-21T19:15:32.155Z"
   },
   {
    "duration": 15,
    "start_time": "2023-10-21T19:16:14.238Z"
   },
   {
    "duration": 21,
    "start_time": "2023-10-21T19:17:08.789Z"
   },
   {
    "duration": 182,
    "start_time": "2023-10-21T19:17:18.528Z"
   },
   {
    "duration": 196,
    "start_time": "2023-10-21T19:19:15.206Z"
   },
   {
    "duration": 75,
    "start_time": "2023-10-21T19:22:20.751Z"
   },
   {
    "duration": 184,
    "start_time": "2023-10-21T19:22:26.882Z"
   },
   {
    "duration": 178,
    "start_time": "2023-10-21T19:22:52.877Z"
   },
   {
    "duration": 190,
    "start_time": "2023-10-21T19:23:12.293Z"
   },
   {
    "duration": 213,
    "start_time": "2023-10-21T19:23:35.258Z"
   },
   {
    "duration": 190,
    "start_time": "2023-10-21T19:24:02.994Z"
   },
   {
    "duration": 184,
    "start_time": "2023-10-21T19:24:18.716Z"
   },
   {
    "duration": 68,
    "start_time": "2023-10-21T19:25:26.911Z"
   },
   {
    "duration": 80,
    "start_time": "2023-10-21T19:25:46.227Z"
   },
   {
    "duration": 76,
    "start_time": "2023-10-21T19:25:53.968Z"
   },
   {
    "duration": 193,
    "start_time": "2023-10-21T19:25:59.223Z"
   },
   {
    "duration": 309,
    "start_time": "2023-10-21T19:26:45.963Z"
   },
   {
    "duration": 195,
    "start_time": "2023-10-21T19:27:23.952Z"
   },
   {
    "duration": 19,
    "start_time": "2023-10-21T19:27:51.409Z"
   },
   {
    "duration": 177,
    "start_time": "2023-10-21T19:28:02.475Z"
   },
   {
    "duration": 166,
    "start_time": "2023-10-21T19:28:11.263Z"
   },
   {
    "duration": 182,
    "start_time": "2023-10-21T19:28:20.172Z"
   },
   {
    "duration": 159,
    "start_time": "2023-10-21T19:28:28.805Z"
   },
   {
    "duration": 162,
    "start_time": "2023-10-21T19:28:53.052Z"
   },
   {
    "duration": 176,
    "start_time": "2023-10-21T19:29:29.529Z"
   },
   {
    "duration": 179,
    "start_time": "2023-10-21T19:31:18.752Z"
   },
   {
    "duration": 192,
    "start_time": "2023-10-21T19:32:01.170Z"
   },
   {
    "duration": 168,
    "start_time": "2023-10-21T19:32:29.326Z"
   },
   {
    "duration": 192,
    "start_time": "2023-10-21T19:32:40.027Z"
   },
   {
    "duration": 171,
    "start_time": "2023-10-21T19:32:50.980Z"
   },
   {
    "duration": 310,
    "start_time": "2023-10-21T19:33:35.554Z"
   },
   {
    "duration": 170,
    "start_time": "2023-10-21T19:33:49.453Z"
   },
   {
    "duration": 207,
    "start_time": "2023-10-21T19:33:55.158Z"
   },
   {
    "duration": 179,
    "start_time": "2023-10-21T19:33:59.836Z"
   },
   {
    "duration": 185,
    "start_time": "2023-10-21T19:34:23.993Z"
   },
   {
    "duration": 171,
    "start_time": "2023-10-21T19:34:31.768Z"
   },
   {
    "duration": 168,
    "start_time": "2023-10-21T19:34:52.541Z"
   },
   {
    "duration": 171,
    "start_time": "2023-10-21T19:35:05.575Z"
   },
   {
    "duration": 203,
    "start_time": "2023-10-21T19:37:58.045Z"
   },
   {
    "duration": 212,
    "start_time": "2023-10-21T19:38:29.006Z"
   },
   {
    "duration": 216,
    "start_time": "2023-10-21T19:39:01.860Z"
   },
   {
    "duration": 172,
    "start_time": "2023-10-21T19:42:01.497Z"
   },
   {
    "duration": 171,
    "start_time": "2023-10-21T19:42:09.641Z"
   },
   {
    "duration": 277,
    "start_time": "2023-10-21T19:42:23.320Z"
   },
   {
    "duration": 185,
    "start_time": "2023-10-21T19:42:30.621Z"
   },
   {
    "duration": 197,
    "start_time": "2023-10-21T19:42:52.875Z"
   },
   {
    "duration": 207,
    "start_time": "2023-10-21T19:42:59.418Z"
   },
   {
    "duration": 174,
    "start_time": "2023-10-21T19:45:20.812Z"
   },
   {
    "duration": 175,
    "start_time": "2023-10-21T19:45:50.114Z"
   },
   {
    "duration": 176,
    "start_time": "2023-10-21T19:46:43.989Z"
   },
   {
    "duration": 181,
    "start_time": "2023-10-21T19:47:41.808Z"
   },
   {
    "duration": 185,
    "start_time": "2023-10-21T19:49:57.441Z"
   },
   {
    "duration": 173,
    "start_time": "2023-10-21T19:50:16.664Z"
   },
   {
    "duration": 186,
    "start_time": "2023-10-21T19:50:23.861Z"
   },
   {
    "duration": 176,
    "start_time": "2023-10-21T19:50:27.613Z"
   },
   {
    "duration": 179,
    "start_time": "2023-10-21T19:51:53.073Z"
   },
   {
    "duration": 291,
    "start_time": "2023-10-21T19:52:04.186Z"
   },
   {
    "duration": 68,
    "start_time": "2023-10-21T19:53:04.203Z"
   },
   {
    "duration": 4,
    "start_time": "2023-10-21T19:53:58.761Z"
   },
   {
    "duration": 12,
    "start_time": "2023-10-21T19:54:15.327Z"
   },
   {
    "duration": 27,
    "start_time": "2023-10-21T19:54:31.090Z"
   },
   {
    "duration": 26,
    "start_time": "2023-10-21T19:55:02.834Z"
   },
   {
    "duration": 76,
    "start_time": "2023-10-21T19:56:15.555Z"
   },
   {
    "duration": 182,
    "start_time": "2023-10-21T19:56:27.706Z"
   },
   {
    "duration": 194,
    "start_time": "2023-10-21T19:56:42.599Z"
   },
   {
    "duration": 204,
    "start_time": "2023-10-21T19:56:47.910Z"
   },
   {
    "duration": 19,
    "start_time": "2023-10-21T19:57:41.152Z"
   },
   {
    "duration": 25,
    "start_time": "2023-10-21T19:57:51.739Z"
   },
   {
    "duration": 25,
    "start_time": "2023-10-21T19:58:37.996Z"
   },
   {
    "duration": 190,
    "start_time": "2023-10-21T20:02:08.887Z"
   },
   {
    "duration": 186,
    "start_time": "2023-10-21T20:02:40.592Z"
   },
   {
    "duration": 195,
    "start_time": "2023-10-21T20:26:44.423Z"
   },
   {
    "duration": 173,
    "start_time": "2023-10-21T20:26:52.250Z"
   },
   {
    "duration": 212,
    "start_time": "2023-10-21T20:26:59.990Z"
   },
   {
    "duration": 186,
    "start_time": "2023-10-21T20:27:04.630Z"
   },
   {
    "duration": 180,
    "start_time": "2023-10-21T20:27:08.732Z"
   },
   {
    "duration": 8,
    "start_time": "2023-10-21T20:28:21.333Z"
   },
   {
    "duration": 7,
    "start_time": "2023-10-21T20:28:26.554Z"
   },
   {
    "duration": 6,
    "start_time": "2023-10-21T20:28:31.545Z"
   },
   {
    "duration": 171,
    "start_time": "2023-10-21T20:29:39.520Z"
   },
   {
    "duration": 282,
    "start_time": "2023-10-21T20:29:50.719Z"
   },
   {
    "duration": 167,
    "start_time": "2023-10-21T20:30:13.589Z"
   },
   {
    "duration": 190,
    "start_time": "2023-10-21T20:30:28.896Z"
   },
   {
    "duration": 171,
    "start_time": "2023-10-21T20:30:40.725Z"
   },
   {
    "duration": 90,
    "start_time": "2023-10-21T20:32:47.889Z"
   },
   {
    "duration": 67,
    "start_time": "2023-10-21T20:32:56.627Z"
   },
   {
    "duration": 140,
    "start_time": "2023-10-21T20:33:01.515Z"
   },
   {
    "duration": 1255,
    "start_time": "2023-10-22T06:41:56.713Z"
   },
   {
    "duration": 333,
    "start_time": "2023-10-22T06:41:57.970Z"
   },
   {
    "duration": 1956,
    "start_time": "2023-10-22T06:41:58.305Z"
   },
   {
    "duration": 10,
    "start_time": "2023-10-22T06:42:00.263Z"
   },
   {
    "duration": 61,
    "start_time": "2023-10-22T06:42:00.274Z"
   },
   {
    "duration": 38,
    "start_time": "2023-10-22T06:42:00.336Z"
   },
   {
    "duration": 32,
    "start_time": "2023-10-22T06:42:00.376Z"
   },
   {
    "duration": 40,
    "start_time": "2023-10-22T06:42:00.409Z"
   },
   {
    "duration": 5,
    "start_time": "2023-10-22T06:42:00.451Z"
   },
   {
    "duration": 29,
    "start_time": "2023-10-22T06:42:00.459Z"
   },
   {
    "duration": 169,
    "start_time": "2023-10-22T06:42:00.489Z"
   },
   {
    "duration": 357,
    "start_time": "2023-10-22T06:42:00.659Z"
   },
   {
    "duration": 11,
    "start_time": "2023-10-22T06:42:01.018Z"
   },
   {
    "duration": 744,
    "start_time": "2023-10-22T06:42:01.031Z"
   },
   {
    "duration": 735,
    "start_time": "2023-10-22T06:42:01.777Z"
   },
   {
    "duration": 199,
    "start_time": "2023-10-22T06:42:02.514Z"
   },
   {
    "duration": 131,
    "start_time": "2023-10-22T06:42:02.716Z"
   },
   {
    "duration": 514,
    "start_time": "2023-10-22T06:42:02.848Z"
   },
   {
    "duration": 16,
    "start_time": "2023-10-22T06:42:03.364Z"
   },
   {
    "duration": 619,
    "start_time": "2023-10-22T06:42:03.381Z"
   },
   {
    "duration": 188,
    "start_time": "2023-10-22T06:42:04.002Z"
   },
   {
    "duration": 408,
    "start_time": "2023-10-22T06:42:04.191Z"
   },
   {
    "duration": 0,
    "start_time": "2023-10-22T06:42:04.601Z"
   },
   {
    "duration": 0,
    "start_time": "2023-10-22T06:42:04.602Z"
   },
   {
    "duration": 0,
    "start_time": "2023-10-22T06:42:04.603Z"
   },
   {
    "duration": 0,
    "start_time": "2023-10-22T06:42:04.604Z"
   },
   {
    "duration": 0,
    "start_time": "2023-10-22T06:42:04.605Z"
   },
   {
    "duration": 0,
    "start_time": "2023-10-22T06:42:04.606Z"
   },
   {
    "duration": 0,
    "start_time": "2023-10-22T06:42:04.607Z"
   },
   {
    "duration": 0,
    "start_time": "2023-10-22T06:42:04.608Z"
   },
   {
    "duration": 0,
    "start_time": "2023-10-22T06:42:04.609Z"
   },
   {
    "duration": 0,
    "start_time": "2023-10-22T06:42:04.610Z"
   },
   {
    "duration": 0,
    "start_time": "2023-10-22T06:42:04.611Z"
   },
   {
    "duration": 0,
    "start_time": "2023-10-22T06:42:04.612Z"
   },
   {
    "duration": 198,
    "start_time": "2023-10-22T06:43:23.554Z"
   },
   {
    "duration": 204,
    "start_time": "2023-10-22T06:43:23.754Z"
   },
   {
    "duration": 224,
    "start_time": "2023-10-22T06:43:23.960Z"
   },
   {
    "duration": 189,
    "start_time": "2023-10-22T06:43:24.187Z"
   },
   {
    "duration": 220,
    "start_time": "2023-10-22T06:43:24.378Z"
   },
   {
    "duration": 170,
    "start_time": "2023-10-22T06:43:24.599Z"
   },
   {
    "duration": 0,
    "start_time": "2023-10-22T06:43:24.772Z"
   },
   {
    "duration": 0,
    "start_time": "2023-10-22T06:43:24.774Z"
   },
   {
    "duration": 0,
    "start_time": "2023-10-22T06:43:24.775Z"
   },
   {
    "duration": 0,
    "start_time": "2023-10-22T06:43:24.776Z"
   },
   {
    "duration": 0,
    "start_time": "2023-10-22T06:43:24.778Z"
   },
   {
    "duration": 0,
    "start_time": "2023-10-22T06:43:24.779Z"
   },
   {
    "duration": 186,
    "start_time": "2023-10-22T06:44:38.868Z"
   },
   {
    "duration": 199,
    "start_time": "2023-10-22T06:44:39.057Z"
   },
   {
    "duration": 28,
    "start_time": "2023-10-22T06:44:39.258Z"
   },
   {
    "duration": 216,
    "start_time": "2023-10-22T06:44:39.288Z"
   },
   {
    "duration": 26,
    "start_time": "2023-10-22T06:44:39.506Z"
   },
   {
    "duration": 192,
    "start_time": "2023-10-22T06:44:39.547Z"
   },
   {
    "duration": 93,
    "start_time": "2023-10-22T06:53:08.895Z"
   },
   {
    "duration": 84,
    "start_time": "2023-10-22T06:56:26.731Z"
   },
   {
    "duration": 1462,
    "start_time": "2023-10-22T11:03:47.626Z"
   },
   {
    "duration": 331,
    "start_time": "2023-10-22T11:03:49.465Z"
   },
   {
    "duration": 2018,
    "start_time": "2023-10-22T11:03:52.172Z"
   },
   {
    "duration": 13,
    "start_time": "2023-10-22T11:03:58.049Z"
   },
   {
    "duration": 37,
    "start_time": "2023-10-22T11:04:01.059Z"
   },
   {
    "duration": 25,
    "start_time": "2023-10-22T11:04:04.006Z"
   },
   {
    "duration": 21,
    "start_time": "2023-10-22T11:04:08.210Z"
   },
   {
    "duration": 32,
    "start_time": "2023-10-22T11:04:10.714Z"
   },
   {
    "duration": 5,
    "start_time": "2023-10-22T11:04:16.891Z"
   },
   {
    "duration": 7,
    "start_time": "2023-10-22T11:04:21.166Z"
   },
   {
    "duration": 148,
    "start_time": "2023-10-22T11:04:24.281Z"
   },
   {
    "duration": 363,
    "start_time": "2023-10-22T11:04:29.480Z"
   },
   {
    "duration": 1010,
    "start_time": "2023-10-22T11:04:37.805Z"
   },
   {
    "duration": 730,
    "start_time": "2023-10-22T11:04:47.050Z"
   },
   {
    "duration": 252,
    "start_time": "2023-10-22T11:04:52.398Z"
   },
   {
    "duration": 177,
    "start_time": "2023-10-22T11:04:56.429Z"
   },
   {
    "duration": 535,
    "start_time": "2023-10-22T11:05:04.930Z"
   },
   {
    "duration": 23,
    "start_time": "2023-10-22T11:05:24.408Z"
   },
   {
    "duration": 626,
    "start_time": "2023-10-22T11:05:27.362Z"
   },
   {
    "duration": 260,
    "start_time": "2023-10-22T11:05:36.553Z"
   },
   {
    "duration": 283,
    "start_time": "2023-10-22T11:06:03.806Z"
   },
   {
    "duration": 195,
    "start_time": "2023-10-22T11:07:24.270Z"
   },
   {
    "duration": 197,
    "start_time": "2023-10-22T11:07:40.645Z"
   },
   {
    "duration": 207,
    "start_time": "2023-10-22T11:07:44.107Z"
   },
   {
    "duration": 206,
    "start_time": "2023-10-22T11:07:49.323Z"
   },
   {
    "duration": 201,
    "start_time": "2023-10-22T11:08:12.620Z"
   },
   {
    "duration": 203,
    "start_time": "2023-10-22T11:08:27.019Z"
   },
   {
    "duration": 20,
    "start_time": "2023-10-22T11:09:06.091Z"
   },
   {
    "duration": 18,
    "start_time": "2023-10-22T11:09:12.405Z"
   },
   {
    "duration": 225,
    "start_time": "2023-10-22T11:09:53.190Z"
   },
   {
    "duration": 123,
    "start_time": "2023-10-22T11:10:10.988Z"
   },
   {
    "duration": 30,
    "start_time": "2023-10-22T11:10:18.512Z"
   },
   {
    "duration": 1959,
    "start_time": "2023-10-22T11:10:40.181Z"
   },
   {
    "duration": 2385,
    "start_time": "2023-10-22T11:10:55.864Z"
   },
   {
    "duration": 282,
    "start_time": "2023-10-22T11:11:05.121Z"
   },
   {
    "duration": 298,
    "start_time": "2023-10-22T11:11:16.489Z"
   },
   {
    "duration": 136,
    "start_time": "2023-10-22T11:11:51.388Z"
   },
   {
    "duration": 373,
    "start_time": "2023-10-22T11:11:59.899Z"
   },
   {
    "duration": 223,
    "start_time": "2023-10-22T11:12:28.187Z"
   },
   {
    "duration": 248,
    "start_time": "2023-10-22T11:12:32.139Z"
   },
   {
    "duration": 228,
    "start_time": "2023-10-22T11:12:38.281Z"
   },
   {
    "duration": 242,
    "start_time": "2023-10-22T11:12:45.063Z"
   },
   {
    "duration": 232,
    "start_time": "2023-10-22T11:12:50.276Z"
   },
   {
    "duration": 240,
    "start_time": "2023-10-22T11:13:13.974Z"
   },
   {
    "duration": 233,
    "start_time": "2023-10-22T11:13:33.747Z"
   },
   {
    "duration": 317,
    "start_time": "2023-10-22T11:13:44.498Z"
   },
   {
    "duration": 220,
    "start_time": "2023-10-22T11:14:29.427Z"
   },
   {
    "duration": 191,
    "start_time": "2023-10-22T11:16:07.438Z"
   },
   {
    "duration": 300,
    "start_time": "2023-10-22T11:17:03.851Z"
   },
   {
    "duration": 164,
    "start_time": "2023-10-22T11:18:04.331Z"
   },
   {
    "duration": 168,
    "start_time": "2023-10-22T11:18:10.542Z"
   },
   {
    "duration": 78,
    "start_time": "2023-10-22T11:20:29.869Z"
   },
   {
    "duration": 25,
    "start_time": "2023-10-22T11:20:34.920Z"
   },
   {
    "duration": 23,
    "start_time": "2023-10-22T11:20:42.521Z"
   },
   {
    "duration": 20,
    "start_time": "2023-10-22T11:21:01.068Z"
   },
   {
    "duration": 15,
    "start_time": "2023-10-22T11:21:11.426Z"
   },
   {
    "duration": 191,
    "start_time": "2023-10-22T11:21:38.823Z"
   },
   {
    "duration": 185,
    "start_time": "2023-10-22T11:22:16.580Z"
   },
   {
    "duration": 136,
    "start_time": "2023-10-22T11:22:27.622Z"
   },
   {
    "duration": 119,
    "start_time": "2023-10-22T11:22:47.379Z"
   },
   {
    "duration": 101,
    "start_time": "2023-10-22T11:22:55.277Z"
   },
   {
    "duration": 102,
    "start_time": "2023-10-22T11:23:29.599Z"
   },
   {
    "duration": 103,
    "start_time": "2023-10-22T11:23:45.307Z"
   },
   {
    "duration": 24,
    "start_time": "2023-10-22T11:23:53.024Z"
   },
   {
    "duration": 23,
    "start_time": "2023-10-22T11:23:57.045Z"
   },
   {
    "duration": 21,
    "start_time": "2023-10-22T11:24:08.119Z"
   },
   {
    "duration": 114,
    "start_time": "2023-10-22T11:24:31.261Z"
   },
   {
    "duration": 219,
    "start_time": "2023-10-22T11:25:23.330Z"
   },
   {
    "duration": 229,
    "start_time": "2023-10-22T11:25:40.902Z"
   },
   {
    "duration": 240,
    "start_time": "2023-10-22T11:25:59.763Z"
   },
   {
    "duration": 321,
    "start_time": "2023-10-22T11:26:12.415Z"
   },
   {
    "duration": 173,
    "start_time": "2023-10-22T11:26:23.928Z"
   },
   {
    "duration": 183,
    "start_time": "2023-10-22T11:26:36.852Z"
   },
   {
    "duration": 223,
    "start_time": "2023-10-22T11:27:01.541Z"
   },
   {
    "duration": 142,
    "start_time": "2023-10-22T11:27:17.503Z"
   },
   {
    "duration": 235,
    "start_time": "2023-10-22T11:27:20.971Z"
   },
   {
    "duration": 1336,
    "start_time": "2023-10-22T11:29:16.029Z"
   },
   {
    "duration": 1499,
    "start_time": "2023-10-22T11:29:26.578Z"
   },
   {
    "duration": 196,
    "start_time": "2023-10-22T11:29:50.061Z"
   },
   {
    "duration": 223,
    "start_time": "2023-10-22T11:30:01.613Z"
   },
   {
    "duration": 221,
    "start_time": "2023-10-22T11:30:18.196Z"
   },
   {
    "duration": 160,
    "start_time": "2023-10-22T11:32:44.003Z"
   },
   {
    "duration": 471,
    "start_time": "2023-10-22T11:36:29.169Z"
   },
   {
    "duration": 332,
    "start_time": "2023-10-22T11:36:40.483Z"
   },
   {
    "duration": 206,
    "start_time": "2023-10-22T11:36:54.424Z"
   },
   {
    "duration": 174,
    "start_time": "2023-10-22T11:37:06.772Z"
   },
   {
    "duration": 181,
    "start_time": "2023-10-22T11:37:16.106Z"
   },
   {
    "duration": 286,
    "start_time": "2023-10-22T11:37:25.598Z"
   },
   {
    "duration": 293,
    "start_time": "2023-10-22T11:37:30.412Z"
   },
   {
    "duration": 258,
    "start_time": "2023-10-22T11:37:37.593Z"
   },
   {
    "duration": 390,
    "start_time": "2023-10-22T11:38:41.783Z"
   },
   {
    "duration": 36,
    "start_time": "2023-10-22T11:38:49.970Z"
   },
   {
    "duration": 272,
    "start_time": "2023-10-22T11:38:58.906Z"
   },
   {
    "duration": 318,
    "start_time": "2023-10-22T11:40:05.219Z"
   },
   {
    "duration": 276,
    "start_time": "2023-10-22T11:40:20.076Z"
   },
   {
    "duration": 276,
    "start_time": "2023-10-22T11:40:43.036Z"
   },
   {
    "duration": 273,
    "start_time": "2023-10-22T11:40:49.483Z"
   },
   {
    "duration": 359,
    "start_time": "2023-10-22T11:41:07.856Z"
   },
   {
    "duration": 247,
    "start_time": "2023-10-22T11:41:35.342Z"
   },
   {
    "duration": 309,
    "start_time": "2023-10-22T11:41:56.636Z"
   },
   {
    "duration": 219,
    "start_time": "2023-10-22T11:42:02.633Z"
   },
   {
    "duration": 177,
    "start_time": "2023-10-22T11:42:12.095Z"
   },
   {
    "duration": 141,
    "start_time": "2023-10-22T11:42:24.390Z"
   },
   {
    "duration": 150,
    "start_time": "2023-10-22T11:42:28.059Z"
   },
   {
    "duration": 313,
    "start_time": "2023-10-22T11:42:43.108Z"
   },
   {
    "duration": 88,
    "start_time": "2023-10-22T11:43:27.295Z"
   },
   {
    "duration": 192,
    "start_time": "2023-10-22T11:43:32.164Z"
   },
   {
    "duration": 80,
    "start_time": "2023-10-22T11:43:41.307Z"
   },
   {
    "duration": 136,
    "start_time": "2023-10-22T11:43:47.061Z"
   },
   {
    "duration": 184,
    "start_time": "2023-10-22T11:43:57.875Z"
   },
   {
    "duration": 151,
    "start_time": "2023-10-22T11:44:02.199Z"
   },
   {
    "duration": 146,
    "start_time": "2023-10-22T11:44:06.270Z"
   },
   {
    "duration": 203,
    "start_time": "2023-10-22T11:44:26.566Z"
   },
   {
    "duration": 190,
    "start_time": "2023-10-22T11:44:44.357Z"
   },
   {
    "duration": 191,
    "start_time": "2023-10-22T11:45:12.966Z"
   },
   {
    "duration": 89,
    "start_time": "2023-10-22T11:45:26.403Z"
   },
   {
    "duration": 90,
    "start_time": "2023-10-22T11:45:34.498Z"
   },
   {
    "duration": 300,
    "start_time": "2023-10-22T11:46:06.502Z"
   },
   {
    "duration": 209,
    "start_time": "2023-10-22T11:46:15.776Z"
   },
   {
    "duration": 3,
    "start_time": "2023-10-22T11:50:31.227Z"
   },
   {
    "duration": 135,
    "start_time": "2023-10-22T11:50:33.307Z"
   },
   {
    "duration": 2030,
    "start_time": "2023-10-22T11:50:36.071Z"
   },
   {
    "duration": 10,
    "start_time": "2023-10-22T11:50:41.325Z"
   },
   {
    "duration": 49,
    "start_time": "2023-10-22T11:50:44.616Z"
   },
   {
    "duration": 17,
    "start_time": "2023-10-22T11:50:47.709Z"
   },
   {
    "duration": 21,
    "start_time": "2023-10-22T11:50:52.679Z"
   },
   {
    "duration": 34,
    "start_time": "2023-10-22T11:50:55.534Z"
   },
   {
    "duration": 4,
    "start_time": "2023-10-22T11:50:58.959Z"
   },
   {
    "duration": 148,
    "start_time": "2023-10-22T11:51:02.567Z"
   },
   {
    "duration": 356,
    "start_time": "2023-10-22T11:51:07.413Z"
   },
   {
    "duration": 12,
    "start_time": "2023-10-22T11:51:12.145Z"
   },
   {
    "duration": 740,
    "start_time": "2023-10-22T11:51:18.903Z"
   },
   {
    "duration": 1522,
    "start_time": "2023-10-22T11:51:26.859Z"
   },
   {
    "duration": 211,
    "start_time": "2023-10-22T11:51:31.783Z"
   },
   {
    "duration": 161,
    "start_time": "2023-10-22T11:51:34.709Z"
   },
   {
    "duration": 555,
    "start_time": "2023-10-22T11:51:38.858Z"
   },
   {
    "duration": 15,
    "start_time": "2023-10-22T11:51:42.195Z"
   },
   {
    "duration": 613,
    "start_time": "2023-10-22T11:51:44.948Z"
   },
   {
    "duration": 188,
    "start_time": "2023-10-22T11:51:49.084Z"
   },
   {
    "duration": 208,
    "start_time": "2023-10-22T11:51:55.669Z"
   },
   {
    "duration": 192,
    "start_time": "2023-10-22T11:52:00.114Z"
   },
   {
    "duration": 210,
    "start_time": "2023-10-22T11:52:03.924Z"
   },
   {
    "duration": 200,
    "start_time": "2023-10-22T11:52:07.318Z"
   },
   {
    "duration": 183,
    "start_time": "2023-10-22T11:52:19.860Z"
   },
   {
    "duration": 0,
    "start_time": "2023-10-22T11:54:31.017Z"
   },
   {
    "duration": 0,
    "start_time": "2023-10-22T11:54:31.018Z"
   },
   {
    "duration": 0,
    "start_time": "2023-10-22T11:54:31.019Z"
   },
   {
    "duration": 209,
    "start_time": "2023-10-22T11:54:42.258Z"
   },
   {
    "duration": 238,
    "start_time": "2023-10-22T11:54:50.202Z"
   },
   {
    "duration": 18,
    "start_time": "2023-10-22T11:55:37.326Z"
   },
   {
    "duration": 160,
    "start_time": "2023-10-22T11:55:45.187Z"
   },
   {
    "duration": 226,
    "start_time": "2023-10-22T11:55:57.823Z"
   },
   {
    "duration": 230,
    "start_time": "2023-10-22T11:56:14.176Z"
   },
   {
    "duration": 235,
    "start_time": "2023-10-22T11:57:09.468Z"
   },
   {
    "duration": 370,
    "start_time": "2023-10-22T11:57:34.942Z"
   },
   {
    "duration": 215,
    "start_time": "2023-10-22T11:57:40.228Z"
   },
   {
    "duration": 200,
    "start_time": "2023-10-22T11:58:30.107Z"
   },
   {
    "duration": 224,
    "start_time": "2023-10-22T11:59:35.459Z"
   },
   {
    "duration": 223,
    "start_time": "2023-10-22T11:59:39.378Z"
   },
   {
    "duration": 219,
    "start_time": "2023-10-22T11:59:44.906Z"
   },
   {
    "duration": 241,
    "start_time": "2023-10-22T12:00:37.064Z"
   },
   {
    "duration": 230,
    "start_time": "2023-10-22T12:00:53.897Z"
   },
   {
    "duration": 151,
    "start_time": "2023-10-22T12:01:53.195Z"
   },
   {
    "duration": 145,
    "start_time": "2023-10-22T12:01:55.058Z"
   },
   {
    "duration": 140,
    "start_time": "2023-10-22T12:02:01.134Z"
   },
   {
    "duration": 487,
    "start_time": "2023-10-22T12:02:09.858Z"
   },
   {
    "duration": 508,
    "start_time": "2023-10-22T12:02:36.057Z"
   },
   {
    "duration": 228,
    "start_time": "2023-10-22T12:06:00.381Z"
   },
   {
    "duration": 170,
    "start_time": "2023-10-22T12:06:09.319Z"
   },
   {
    "duration": 200,
    "start_time": "2023-10-22T12:06:13.825Z"
   },
   {
    "duration": 292,
    "start_time": "2023-10-22T12:06:21.722Z"
   },
   {
    "duration": 23,
    "start_time": "2023-10-22T12:06:34.470Z"
   },
   {
    "duration": 211,
    "start_time": "2023-10-22T12:06:40.227Z"
   },
   {
    "duration": 2249,
    "start_time": "2023-10-22T12:07:15.043Z"
   },
   {
    "duration": 212,
    "start_time": "2023-10-22T12:07:44.204Z"
   },
   {
    "duration": 2000,
    "start_time": "2023-10-22T12:08:39.304Z"
   },
   {
    "duration": 200,
    "start_time": "2023-10-22T12:08:59.071Z"
   },
   {
    "duration": 544,
    "start_time": "2023-10-22T12:09:06.973Z"
   },
   {
    "duration": 189,
    "start_time": "2023-10-22T12:13:02.241Z"
   },
   {
    "duration": 292,
    "start_time": "2023-10-22T12:13:55.917Z"
   },
   {
    "duration": 196,
    "start_time": "2023-10-22T12:14:03.079Z"
   },
   {
    "duration": 307,
    "start_time": "2023-10-22T12:15:39.587Z"
   },
   {
    "duration": 258,
    "start_time": "2023-10-22T12:15:54.615Z"
   },
   {
    "duration": 192,
    "start_time": "2023-10-22T12:16:21.795Z"
   },
   {
    "duration": 207,
    "start_time": "2023-10-22T12:16:28.415Z"
   },
   {
    "duration": 202,
    "start_time": "2023-10-22T12:16:42.488Z"
   },
   {
    "duration": 185,
    "start_time": "2023-10-22T12:16:56.579Z"
   },
   {
    "duration": 186,
    "start_time": "2023-10-22T12:17:12.906Z"
   },
   {
    "duration": 172,
    "start_time": "2023-10-22T12:18:25.622Z"
   },
   {
    "duration": 128,
    "start_time": "2023-10-22T12:19:00.860Z"
   },
   {
    "duration": 182,
    "start_time": "2023-10-22T12:19:24.771Z"
   },
   {
    "duration": 1359,
    "start_time": "2023-10-22T18:02:45.347Z"
   },
   {
    "duration": 174,
    "start_time": "2023-10-22T18:02:46.708Z"
   },
   {
    "duration": 1950,
    "start_time": "2023-10-22T18:02:46.883Z"
   },
   {
    "duration": 17,
    "start_time": "2023-10-22T18:02:48.834Z"
   },
   {
    "duration": 31,
    "start_time": "2023-10-22T18:02:48.853Z"
   },
   {
    "duration": 17,
    "start_time": "2023-10-22T18:02:48.886Z"
   },
   {
    "duration": 66,
    "start_time": "2023-10-22T18:02:48.904Z"
   },
   {
    "duration": 33,
    "start_time": "2023-10-22T18:02:48.978Z"
   },
   {
    "duration": 4,
    "start_time": "2023-10-22T18:02:49.013Z"
   },
   {
    "duration": 8,
    "start_time": "2023-10-22T18:02:49.020Z"
   },
   {
    "duration": 166,
    "start_time": "2023-10-22T18:02:49.029Z"
   },
   {
    "duration": 347,
    "start_time": "2023-10-22T18:02:49.197Z"
   },
   {
    "duration": 25,
    "start_time": "2023-10-22T18:02:49.546Z"
   },
   {
    "duration": 709,
    "start_time": "2023-10-22T18:02:49.573Z"
   },
   {
    "duration": 754,
    "start_time": "2023-10-22T18:02:50.284Z"
   },
   {
    "duration": 194,
    "start_time": "2023-10-22T18:02:51.040Z"
   },
   {
    "duration": 139,
    "start_time": "2023-10-22T18:02:51.235Z"
   },
   {
    "duration": 514,
    "start_time": "2023-10-22T18:02:51.376Z"
   },
   {
    "duration": 14,
    "start_time": "2023-10-22T18:02:51.891Z"
   },
   {
    "duration": 621,
    "start_time": "2023-10-22T18:02:51.906Z"
   },
   {
    "duration": 181,
    "start_time": "2023-10-22T18:02:52.528Z"
   },
   {
    "duration": 286,
    "start_time": "2023-10-22T18:02:52.711Z"
   },
   {
    "duration": 192,
    "start_time": "2023-10-22T18:02:52.999Z"
   },
   {
    "duration": 186,
    "start_time": "2023-10-22T18:02:53.193Z"
   },
   {
    "duration": 178,
    "start_time": "2023-10-22T18:02:53.381Z"
   },
   {
    "duration": 184,
    "start_time": "2023-10-22T18:02:53.562Z"
   },
   {
    "duration": 196,
    "start_time": "2023-10-22T18:02:53.749Z"
   },
   {
    "duration": 230,
    "start_time": "2023-10-22T18:02:53.952Z"
   },
   {
    "duration": 240,
    "start_time": "2023-10-22T18:02:54.184Z"
   },
   {
    "duration": 204,
    "start_time": "2023-10-22T18:02:54.426Z"
   },
   {
    "duration": 34,
    "start_time": "2023-10-22T18:02:54.632Z"
   },
   {
    "duration": 183,
    "start_time": "2023-10-22T18:02:54.668Z"
   },
   {
    "duration": 27,
    "start_time": "2023-10-22T18:02:54.852Z"
   },
   {
    "duration": 199,
    "start_time": "2023-10-22T18:02:54.881Z"
   }
  ],
  "kernelspec": {
   "display_name": "Python 3",
   "language": "python",
   "name": "python3"
  },
  "language_info": {
   "codemirror_mode": {
    "name": "ipython",
    "version": 3
   },
   "file_extension": ".py",
   "mimetype": "text/x-python",
   "name": "python",
   "nbconvert_exporter": "python",
   "pygments_lexer": "ipython3",
   "version": "3.8.2"
  },
  "toc": {
   "base_numbering": 1,
   "nav_menu": {},
   "number_sections": true,
   "sideBar": true,
   "skip_h1_title": true,
   "title_cell": "Table of Contents",
   "title_sidebar": "Contents",
   "toc_cell": false,
   "toc_position": {},
   "toc_section_display": true,
   "toc_window_display": true
  }
 },
 "nbformat": 4,
 "nbformat_minor": 4
}
