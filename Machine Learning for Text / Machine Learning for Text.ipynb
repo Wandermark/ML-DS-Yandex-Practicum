{
 "cells": [
  {
   "cell_type": "markdown",
   "id": "2ffd1fde",
   "metadata": {},
   "source": [
    "# Проект для «Викишоп» с BERT"
   ]
  },
  {
   "cell_type": "markdown",
   "id": "79ae0ed0",
   "metadata": {},
   "source": [
    "Интернет-магазин «Викишоп» запускает новый сервис. Теперь пользователи могут редактировать и дополнять описания товаров, как в вики-сообществах. То есть клиенты предлагают свои правки и комментируют изменения других. Магазину нужен инструмент, который будет искать токсичные комментарии и отправлять их на модерацию. \n",
    "Обучите модель классифицировать комментарии на позитивные и негативные. \n",
    "\n",
    "В вашем распоряжении набор данных с разметкой о токсичности правок.\n",
    "Постройте модель со значением метрики качества F1 не меньше 0.75. "
   ]
  },
  {
   "cell_type": "markdown",
   "id": "db94ff6b",
   "metadata": {},
   "source": [
    "## Описание данных"
   ]
  },
  {
   "cell_type": "markdown",
   "id": "0218dc0a",
   "metadata": {},
   "source": [
    "Данные находятся в файле /datasets/toxic_comments.csv.\n",
    "\n",
    "Столбец text в нём содержит текст комментария, а toxic — целевой признак."
   ]
  },
  {
   "cell_type": "markdown",
   "id": "8993e2b8",
   "metadata": {},
   "source": [
    "## План работы\n",
    "\n",
    "#### Шаг 1. Загрузка данных\n",
    "Загрузим датафрейм с данными `car_df`, изучим состав и качество датафрейма.\n",
    "\n",
    "#### Шаг 2. Предобработка и подготовка данных\n",
    "Изучим данные, при необходимости выполним предобработку. Кроме того, токенизируем и лемматизируем тексты.\n",
    "\n",
    "#### Шаг 3. Обучение моделей\n",
    "Обучим модель логистической регрессии, CatBoostRegressor, Naive Bayes, оценим их работу с помощью метрики F1. По необходимости подберем дополнительную метрику.\n",
    "\n",
    "#### Шаг 4. Выберем лучшую модель\n",
    "Учитывая требования Заказчика, отберем модель, которая лучше всего подойдет для решения задачи\n",
    "\n",
    "#### Шаг 5. Выводы по проекту\n",
    "Cоберем промежуточные выводы, а затем дадим общие выводы по всему проекту."
   ]
  },
  {
   "cell_type": "code",
   "execution_count": 1,
   "id": "edc3fc96",
   "metadata": {},
   "outputs": [
    {
     "name": "stdout",
     "output_type": "stream",
     "text": [
      "zsh:1: /usr/local/bin/pip: bad interpreter: /System/Library/Frameworks/Python.framework/Versions/2.7/Resources/Python.app/Contents/MacOS/Python: no such file or directory\n",
      "Defaulting to user installation because normal site-packages is not writeable\n",
      "Requirement already satisfied: contractions in /Users/macbookpro/Library/Python/3.8/lib/python/site-packages (0.1.73)\n",
      "Requirement already satisfied: textsearch>=0.0.21 in /Users/macbookpro/Library/Python/3.8/lib/python/site-packages (from contractions) (0.0.24)\n",
      "Requirement already satisfied: anyascii in /Users/macbookpro/Library/Python/3.8/lib/python/site-packages (from textsearch>=0.0.21->contractions) (0.3.2)\n",
      "Requirement already satisfied: pyahocorasick in /Users/macbookpro/Library/Python/3.8/lib/python/site-packages (from textsearch>=0.0.21->contractions) (2.1.0)\n",
      "\u001b[33mWARNING: Error parsing dependencies of dexplot: Expected matching RIGHT_PARENTHESIS for LEFT_PARENTHESIS, after version specifier\n",
      "    scipy (>=1.0matplotlib>=3.1)\n",
      "          ~~~~~~^\u001b[0m\u001b[33m\n",
      "\u001b[0m\u001b[33mWARNING: Error parsing dependencies of ipykernel: Expected matching RIGHT_PARENTHESIS for LEFT_PARENTHESIS, after version specifier\n",
      "    matplotlib-inline (<0.2.0appnope,>=0.1.0) ; platform_system == \"Darwin\"\n",
      "                      ~~~~~~~~^\u001b[0m\u001b[33m\n",
      "\u001b[0m"
     ]
    }
   ],
   "source": [
    "!pip install contractions"
   ]
  },
  {
   "cell_type": "code",
   "execution_count": 2,
   "id": "6a7c05e9",
   "metadata": {},
   "outputs": [
    {
     "data": {
      "text/html": [
       "<style>.container { width:90% !important; }</style>"
      ],
      "text/plain": [
       "<IPython.core.display.HTML object>"
      ]
     },
     "metadata": {},
     "output_type": "display_data"
    }
   ],
   "source": [
    "import os\n",
    "import contractions\n",
    "import numpy as np\n",
    "import matplotlib.pyplot as plt\n",
    "import seaborn as sns\n",
    "import pandas as pd\n",
    "from tqdm import tqdm, notebook\n",
    "from sklearn.pipeline import make_pipeline\n",
    "import warnings\n",
    "from sklearn.exceptions import ConvergenceWarning\n",
    "\n",
    "from sklearn.metrics import confusion_matrix\n",
    "from sklearn.preprocessing import StandardScaler\n",
    "from sklearn.pipeline import Pipeline\n",
    "from lightgbm import LGBMClassifier\n",
    "from sklearn.linear_model import LogisticRegression\n",
    "from sklearn.ensemble import RandomForestClassifier, GradientBoostingClassifier\n",
    "from sklearn.feature_extraction.text import TfidfVectorizer\n",
    "from sklearn.linear_model import LogisticRegression\n",
    "from sklearn.compose import ColumnTransformer\n",
    "from sklearn.metrics import make_scorer, f1_score, roc_auc_score, classification_report\n",
    "from joblib import parallel_backend\n",
    "from sklearn.utils import parallel_backend, resample\n",
    "\n",
    "from sklearn.model_selection import (cross_val_score, \n",
    "                                     train_test_split, KFold, \n",
    "                                     cross_val_predict, GridSearchCV, \n",
    "                                     TimeSeriesSplit)\n",
    "from IPython.core.display import display, HTML\n",
    "display(HTML(\"<style>.container { width:90% !important; }</style>\"))\n",
    "pd.set_option('display.max_colwidth', None)"
   ]
  },
  {
   "cell_type": "code",
   "execution_count": 3,
   "id": "fb5f5c5f",
   "metadata": {},
   "outputs": [],
   "source": [
    "TEST_SIZE = 0.1\n",
    "RANDOM_STATE=42"
   ]
  },
  {
   "cell_type": "code",
   "execution_count": 4,
   "id": "9a1f578c",
   "metadata": {},
   "outputs": [
    {
     "name": "stderr",
     "output_type": "stream",
     "text": [
      "[nltk_data] Downloading package stopwords to\n",
      "[nltk_data]     /Users/macbookpro/nltk_data...\n",
      "[nltk_data]   Package stopwords is already up-to-date!\n",
      "[nltk_data] Downloading package wordnet to\n",
      "[nltk_data]     /Users/macbookpro/nltk_data...\n",
      "[nltk_data]   Package wordnet is already up-to-date!\n",
      "[nltk_data] Downloading package averaged_perceptron_tagger to\n",
      "[nltk_data]     /Users/macbookpro/nltk_data...\n",
      "[nltk_data]   Package averaged_perceptron_tagger is already up-to-\n",
      "[nltk_data]       date!\n"
     ]
    },
    {
     "data": {
      "text/plain": [
       "True"
      ]
     },
     "execution_count": 4,
     "metadata": {},
     "output_type": "execute_result"
    }
   ],
   "source": [
    "import re\n",
    "import nltk\n",
    "from nltk.corpus import wordnet\n",
    "from nltk.tokenize import word_tokenize\n",
    "from nltk.stem import WordNetLemmatizer\n",
    "from tqdm.notebook import tqdm\n",
    "\n",
    "from nltk import pos_tag\n",
    "from urllib.request import urlretrieve\n",
    "import ssl\n",
    "# Отключение проверки SSL-сертификатов для загрузки данных NLTK\n",
    "try:\n",
    "    _create_unverified_https_context = ssl._create_unverified_context\n",
    "except AttributeError:\n",
    "    pass\n",
    "else:\n",
    "    ssl._create_default_https_context = _create_unverified_https_context\n",
    "    \n",
    "nltk.download('stopwords')\n",
    "nltk.download('wordnet')\n",
    "nltk.download('averaged_perceptron_tagger')"
   ]
  },
  {
   "cell_type": "code",
   "execution_count": 5,
   "id": "315dc89d",
   "metadata": {},
   "outputs": [],
   "source": [
    "#функция для вывода первичной информации\n",
    "def quick_info(df):\n",
    "    df.info()\n",
    "    print(df.describe())\n",
    "    print('Дубликаты:', df.duplicated().sum())"
   ]
  },
  {
   "cell_type": "markdown",
   "id": "ca45e1d7",
   "metadata": {},
   "source": [
    "### Шаг 1. Загрузка данных"
   ]
  },
  {
   "cell_type": "code",
   "execution_count": 6,
   "id": "aeefa3e4",
   "metadata": {},
   "outputs": [],
   "source": [
    "pth1 = 'https://code.s3.yandex.net/datasets/toxic_comments.csv'\n",
    "pth2 = '/Users/macbookpro/Downloads/toxic_comments.csv'\n",
    "\n",
    "if os.path.exists(pth2):\n",
    "    comms_df = pd.read_csv(pth2, index_col=0) \n",
    "else:\n",
    "    try:\n",
    "        urlretrieve(pth1)\n",
    "        comms_df = pd.read_csv(pth2, index_col=0)\n",
    "    except Exception as e:\n",
    "        print('Something is wrong:', e)"
   ]
  },
  {
   "cell_type": "code",
   "execution_count": 7,
   "id": "e7a16ac7",
   "metadata": {
    "scrolled": true
   },
   "outputs": [
    {
     "name": "stdout",
     "output_type": "stream",
     "text": [
      "<class 'pandas.core.frame.DataFrame'>\n",
      "Int64Index: 159292 entries, 0 to 159450\n",
      "Data columns (total 2 columns):\n",
      " #   Column  Non-Null Count   Dtype \n",
      "---  ------  --------------   ----- \n",
      " 0   text    159292 non-null  object\n",
      " 1   toxic   159292 non-null  int64 \n",
      "dtypes: int64(1), object(1)\n",
      "memory usage: 3.6+ MB\n",
      "               toxic\n",
      "count  159292.000000\n",
      "mean        0.101612\n",
      "std         0.302139\n",
      "min         0.000000\n",
      "25%         0.000000\n",
      "50%         0.000000\n",
      "75%         0.000000\n",
      "max         1.000000\n",
      "Дубликаты: 0\n"
     ]
    }
   ],
   "source": [
    "quick_info(comms_df)"
   ]
  },
  {
   "cell_type": "markdown",
   "id": "d48a597f",
   "metadata": {},
   "source": [
    "В датафрейме 159292 строки и две колонки, целевой признак - toxic. Явных дубликатов не видим, как и пробелов или NaN-значений. Посмотрим, какая доля текстов каждой категории от общего числа: "
   ]
  },
  {
   "cell_type": "code",
   "execution_count": 8,
   "id": "fd3191c9",
   "metadata": {
    "scrolled": true
   },
   "outputs": [
    {
     "data": {
      "text/plain": [
       "0    143106\n",
       "1     16186\n",
       "Name: toxic, dtype: int64"
      ]
     },
     "metadata": {},
     "output_type": "display_data"
    },
    {
     "data": {
      "text/plain": [
       "8.841344371679229"
      ]
     },
     "execution_count": 8,
     "metadata": {},
     "output_type": "execute_result"
    }
   ],
   "source": [
    "display(comms_df['toxic'].value_counts())\n",
    "#Выведем соотношение\n",
    "tox_ratio = comms_df['toxic'].value_counts()[0] / comms_df['toxic'].value_counts()[1]\n",
    "tox_ratio"
   ]
  },
  {
   "cell_type": "markdown",
   "id": "690c81fe",
   "metadata": {},
   "source": [
    "Видим, что нетоксичных текстов (значения с параметром 0) в 8.8 раза больше, чем токсичных. Это значит, что нужно будет сбалансировать классы, чтобы улучшить предсказания модели. Проведем балансировку после токенизации текстов: так точно не упустим потенциально важную информацию при балансировке (например, если будем использовать undersampling). "
   ]
  },
  {
   "cell_type": "markdown",
   "id": "0a4aca38",
   "metadata": {},
   "source": [
    "#### Выводы\n",
    "\n",
    "- В датафрейме 159292 строки и две колонки, целевой признак - toxic\n",
    "- Явных дубликатов не видим, как и пробелов или NaN-значений\n",
    "- Нетоксичных текстов (значения с параметром 0) в датафрейме в 8.8 раза больше, чем токсичных"
   ]
  },
  {
   "cell_type": "markdown",
   "id": "aad31b04",
   "metadata": {},
   "source": [
    "### Шаг 2. Предобработка и подготовка данных"
   ]
  },
  {
   "cell_type": "markdown",
   "id": "e59b6a96",
   "metadata": {},
   "source": [
    "Перейдем к токенизации и лемматизации текста. Так как мы видим, что твиты у нас англоязычные, Mystem не подойдет: он заточен Яндексом изначально на русский язык. Жаль, кстати, что в Практикуме толком нет про другие инструменты лемматизации(\n",
    "\n",
    "Мы же возьмем распространенный инструмент для лемматизации WordNetLemmatizer из nltk, для токенизации word_tokenize: они подходят для большинства задач и работают в том числе с английским. "
   ]
  },
  {
   "cell_type": "code",
   "execution_count": 9,
   "id": "f8f0bbb3",
   "metadata": {},
   "outputs": [
    {
     "data": {
      "application/vnd.jupyter.widget-view+json": {
       "model_id": "eaedeaf91e444572bcb852d603a01471",
       "version_major": 2,
       "version_minor": 0
      },
      "text/plain": [
       "  0%|          | 0/159292 [00:00<?, ?it/s]"
      ]
     },
     "metadata": {},
     "output_type": "display_data"
    }
   ],
   "source": [
    "lemmatizer = WordNetLemmatizer()\n",
    "\n",
    "def get_pos(tag):\n",
    "    if tag.startswith('J'):\n",
    "        return wordnet.ADJ\n",
    "    elif tag.startswith('V'):\n",
    "        return wordnet.VERB\n",
    "    elif tag.startswith('N'):\n",
    "        return wordnet.NOUN\n",
    "    elif tag.startswith('R'):\n",
    "        return wordnet.ADV\n",
    "    else:\n",
    "        return wordnet.NOUN \n",
    "\n",
    "def clean_text(text):\n",
    "    expanded_text = contractions.fix(text)\n",
    "    clean = \" \".join(re.sub(r'[^a-zA-Z\\s]', ' ', expanded_text).lower().split())\n",
    "    word_list = nltk.word_tokenize(clean)\n",
    "    pos_tags = pos_tag(word_list)\n",
    "    \n",
    "    lemmatized_output = ' '.join([lemmatizer.lemmatize(w, get_pos(tag)) for w, tag in pos_tags])\n",
    "    return lemmatized_output\n",
    "\n",
    "tqdm.pandas()\n",
    "comms_df['lemm_text'] = comms_df['text'].progress_apply(clean_text)"
   ]
  },
  {
   "cell_type": "code",
   "execution_count": 10,
   "id": "dd62084a",
   "metadata": {},
   "outputs": [
    {
     "data": {
      "text/html": [
       "<div>\n",
       "<style scoped>\n",
       "    .dataframe tbody tr th:only-of-type {\n",
       "        vertical-align: middle;\n",
       "    }\n",
       "\n",
       "    .dataframe tbody tr th {\n",
       "        vertical-align: top;\n",
       "    }\n",
       "\n",
       "    .dataframe thead th {\n",
       "        text-align: right;\n",
       "    }\n",
       "</style>\n",
       "<table border=\"1\" class=\"dataframe\">\n",
       "  <thead>\n",
       "    <tr style=\"text-align: right;\">\n",
       "      <th></th>\n",
       "      <th>text</th>\n",
       "      <th>toxic</th>\n",
       "      <th>lemm_text</th>\n",
       "    </tr>\n",
       "  </thead>\n",
       "  <tbody>\n",
       "    <tr>\n",
       "      <th>0</th>\n",
       "      <td>Explanation\\nWhy the edits made under my username Hardcore Metallica Fan were reverted? They weren't vandalisms, just closure on some GAs after I voted at New York Dolls FAC. And please don't remove the template from the talk page since I'm retired now.89.205.38.27</td>\n",
       "      <td>0</td>\n",
       "      <td>explanation why the edits make under my username hardcore metallica fan be revert they be not vandalisms just closure on some gas after i vote at new york doll fac and please do not remove the template from the talk page since i be retire now</td>\n",
       "    </tr>\n",
       "    <tr>\n",
       "      <th>1</th>\n",
       "      <td>D'aww! He matches this background colour I'm seemingly stuck with. Thanks.  (talk) 21:51, January 11, 2016 (UTC)</td>\n",
       "      <td>0</td>\n",
       "      <td>d aww he match this background colour i be seemingly stick with thanks talk january utc</td>\n",
       "    </tr>\n",
       "    <tr>\n",
       "      <th>2</th>\n",
       "      <td>Hey man, I'm really not trying to edit war. It's just that this guy is constantly removing relevant information and talking to me through edits instead of my talk page. He seems to care more about the formatting than the actual info.</td>\n",
       "      <td>0</td>\n",
       "      <td>hey man i be really not try to edit war it be just that this guy be constantly remove relevant information and talk to me through edits instead of my talk page he seem to care more about the formatting than the actual info</td>\n",
       "    </tr>\n",
       "    <tr>\n",
       "      <th>3</th>\n",
       "      <td>\"\\nMore\\nI can't make any real suggestions on improvement - I wondered if the section statistics should be later on, or a subsection of \"\"types of accidents\"\"  -I think the references may need tidying so that they are all in the exact same format ie date format etc. I can do that later on, if no-one else does first - if you have any preferences for formatting style on references or want to do it yourself please let me know.\\n\\nThere appears to be a backlog on articles for review so I guess there may be a delay until a reviewer turns up. It's listed in the relevant form eg Wikipedia:Good_article_nominations#Transport  \"</td>\n",
       "      <td>0</td>\n",
       "      <td>more i can not make any real suggestion on improvement i wonder if the section statistic should be later on or a subsection of type of accident i think the reference may need tidy so that they be all in the exact same format ie date format etc i can do that later on if no one else do first if you have any preference for format style on reference or want to do it yourself please let me know there appear to be a backlog on article for review so i guess there may be a delay until a reviewer turn up it be list in the relevant form eg wikipedia good article nomination transport</td>\n",
       "    </tr>\n",
       "    <tr>\n",
       "      <th>4</th>\n",
       "      <td>You, sir, are my hero. Any chance you remember what page that's on?</td>\n",
       "      <td>0</td>\n",
       "      <td>you sir be my hero any chance you remember what page that be on</td>\n",
       "    </tr>\n",
       "    <tr>\n",
       "      <th>5</th>\n",
       "      <td>\"\\n\\nCongratulations from me as well, use the tools well.  · talk \"</td>\n",
       "      <td>0</td>\n",
       "      <td>congratulation from me a well use the tool well talk</td>\n",
       "    </tr>\n",
       "    <tr>\n",
       "      <th>6</th>\n",
       "      <td>COCKSUCKER BEFORE YOU PISS AROUND ON MY WORK</td>\n",
       "      <td>1</td>\n",
       "      <td>cocksucker before you piss around on my work</td>\n",
       "    </tr>\n",
       "    <tr>\n",
       "      <th>7</th>\n",
       "      <td>Your vandalism to the Matt Shirvington article has been reverted.  Please don't do it again, or you will be banned.</td>\n",
       "      <td>0</td>\n",
       "      <td>your vandalism to the matt shirvington article have be revert please do not do it again or you will be ban</td>\n",
       "    </tr>\n",
       "    <tr>\n",
       "      <th>8</th>\n",
       "      <td>Sorry if the word 'nonsense' was offensive to you. Anyway, I'm not intending to write anything in the article(wow they would jump on me for vandalism), I'm merely requesting that it be more encyclopedic so one can use it for school as a reference. I have been to the selective breeding page but it's almost a stub. It points to 'animal breeding' which is a short messy article that gives you no info. There must be someone around with expertise in eugenics? 93.161.107.169</td>\n",
       "      <td>0</td>\n",
       "      <td>sorry if the word nonsense be offensive to you anyway i be not intend to write anything in the article wow they would jump on me for vandalism i be merely request that it be more encyclopedic so one can use it for school a a reference i have be to the selective breeding page but it be almost a stub it point to animal breeding which be a short messy article that give you no info there must be someone around with expertise in eugenics</td>\n",
       "    </tr>\n",
       "    <tr>\n",
       "      <th>9</th>\n",
       "      <td>alignment on this subject and which are contrary to those of DuLithgow</td>\n",
       "      <td>0</td>\n",
       "      <td>alignment on this subject and which be contrary to those of dulithgow</td>\n",
       "    </tr>\n",
       "  </tbody>\n",
       "</table>\n",
       "</div>"
      ],
      "text/plain": [
       "                                                                                                                                                                                                                                                                                                                                                                                                                                                                                                                                                                                                                                                 text  \\\n",
       "0                                                                                                                                                                                                                                                                                                                                                                           Explanation\\nWhy the edits made under my username Hardcore Metallica Fan were reverted? They weren't vandalisms, just closure on some GAs after I voted at New York Dolls FAC. And please don't remove the template from the talk page since I'm retired now.89.205.38.27   \n",
       "1                                                                                                                                                                                                                                                                                                                                                                                                                                                                                                                                    D'aww! He matches this background colour I'm seemingly stuck with. Thanks.  (talk) 21:51, January 11, 2016 (UTC)   \n",
       "2                                                                                                                                                                                                                                                                                                                                                                                                           Hey man, I'm really not trying to edit war. It's just that this guy is constantly removing relevant information and talking to me through edits instead of my talk page. He seems to care more about the formatting than the actual info.   \n",
       "3  \"\\nMore\\nI can't make any real suggestions on improvement - I wondered if the section statistics should be later on, or a subsection of \"\"types of accidents\"\"  -I think the references may need tidying so that they are all in the exact same format ie date format etc. I can do that later on, if no-one else does first - if you have any preferences for formatting style on references or want to do it yourself please let me know.\\n\\nThere appears to be a backlog on articles for review so I guess there may be a delay until a reviewer turns up. It's listed in the relevant form eg Wikipedia:Good_article_nominations#Transport  \"   \n",
       "4                                                                                                                                                                                                                                                                                                                                                                                                                                                                                                                                                                                 You, sir, are my hero. Any chance you remember what page that's on?   \n",
       "5                                                                                                                                                                                                                                                                                                                                                                                                                                                                                                                                                                                 \"\\n\\nCongratulations from me as well, use the tools well.  · talk \"   \n",
       "6                                                                                                                                                                                                                                                                                                                                                                                                                                                                                                                                                                                                        COCKSUCKER BEFORE YOU PISS AROUND ON MY WORK   \n",
       "7                                                                                                                                                                                                                                                                                                                                                                                                                                                                                                                                 Your vandalism to the Matt Shirvington article has been reverted.  Please don't do it again, or you will be banned.   \n",
       "8                                                                                                                                                            Sorry if the word 'nonsense' was offensive to you. Anyway, I'm not intending to write anything in the article(wow they would jump on me for vandalism), I'm merely requesting that it be more encyclopedic so one can use it for school as a reference. I have been to the selective breeding page but it's almost a stub. It points to 'animal breeding' which is a short messy article that gives you no info. There must be someone around with expertise in eugenics? 93.161.107.169   \n",
       "9                                                                                                                                                                                                                                                                                                                                                                                                                                                                                                                                                                              alignment on this subject and which are contrary to those of DuLithgow   \n",
       "\n",
       "   toxic  \\\n",
       "0      0   \n",
       "1      0   \n",
       "2      0   \n",
       "3      0   \n",
       "4      0   \n",
       "5      0   \n",
       "6      1   \n",
       "7      0   \n",
       "8      0   \n",
       "9      0   \n",
       "\n",
       "                                                                                                                                                                                                                                                                                                                                                                                                                                                                                                                                                                                             lemm_text  \n",
       "0                                                                                                                                                                                                                                                                                                                                                   explanation why the edits make under my username hardcore metallica fan be revert they be not vandalisms just closure on some gas after i vote at new york doll fac and please do not remove the template from the talk page since i be retire now  \n",
       "1                                                                                                                                                                                                                                                                                                                                                                                                                                                                                                              d aww he match this background colour i be seemingly stick with thanks talk january utc  \n",
       "2                                                                                                                                                                                                                                                                                                                                                                       hey man i be really not try to edit war it be just that this guy be constantly remove relevant information and talk to me through edits instead of my talk page he seem to care more about the formatting than the actual info  \n",
       "3  more i can not make any real suggestion on improvement i wonder if the section statistic should be later on or a subsection of type of accident i think the reference may need tidy so that they be all in the exact same format ie date format etc i can do that later on if no one else do first if you have any preference for format style on reference or want to do it yourself please let me know there appear to be a backlog on article for review so i guess there may be a delay until a reviewer turn up it be list in the relevant form eg wikipedia good article nomination transport  \n",
       "4                                                                                                                                                                                                                                                                                                                                                                                                                                                                                                                                      you sir be my hero any chance you remember what page that be on  \n",
       "5                                                                                                                                                                                                                                                                                                                                                                                                                                                                                                                                                 congratulation from me a well use the tool well talk  \n",
       "6                                                                                                                                                                                                                                                                                                                                                                                                                                                                                                                                                         cocksucker before you piss around on my work  \n",
       "7                                                                                                                                                                                                                                                                                                                                                                                                                                                                                           your vandalism to the matt shirvington article have be revert please do not do it again or you will be ban  \n",
       "8                                                                                                                                                 sorry if the word nonsense be offensive to you anyway i be not intend to write anything in the article wow they would jump on me for vandalism i be merely request that it be more encyclopedic so one can use it for school a a reference i have be to the selective breeding page but it be almost a stub it point to animal breeding which be a short messy article that give you no info there must be someone around with expertise in eugenics  \n",
       "9                                                                                                                                                                                                                                                                                                                                                                                                                                                                                                                                alignment on this subject and which be contrary to those of dulithgow  "
      ]
     },
     "execution_count": 10,
     "metadata": {},
     "output_type": "execute_result"
    }
   ],
   "source": [
    "comms_df.head(10)"
   ]
  },
  {
   "cell_type": "markdown",
   "id": "9caeb67f",
   "metadata": {},
   "source": [
    "Посмотрим, были ли токенизированы все строки, с помощью проверки на пустые строки:"
   ]
  },
  {
   "cell_type": "code",
   "execution_count": 11,
   "id": "ba2ccf74",
   "metadata": {
    "scrolled": false
   },
   "outputs": [
    {
     "name": "stdout",
     "output_type": "stream",
     "text": [
      "Всего строк: 159292\n",
      "Лемматизировано и токенизировано строк: 159292\n"
     ]
    }
   ],
   "source": [
    "total_rows = len(comms_df)\n",
    "lemmatized_rows = comms_df['lemm_text'].notna().sum()\n",
    "\n",
    "print(f'Всего строк: {total_rows}')\n",
    "print(f'Лемматизировано и токенизировано строк: {lemmatized_rows}')"
   ]
  },
  {
   "cell_type": "markdown",
   "id": "3575c362",
   "metadata": {},
   "source": [
    "Далее разобьем датасет на тестовую и тренировочную выборки. Валидационную отдельно создавать не буду, так как для промежуточной оценки будем использовать параметры из кросс-валидации."
   ]
  },
  {
   "cell_type": "code",
   "execution_count": 12,
   "id": "9358e05d",
   "metadata": {
    "scrolled": false
   },
   "outputs": [
    {
     "name": "stdout",
     "output_type": "stream",
     "text": [
      "Размерность X_train: (143362,)\n",
      "Размерность X_test: (15930,)\n",
      "Размерность y_train: (143362,)\n",
      "Размерность y_test: (15930,)\n"
     ]
    }
   ],
   "source": [
    "comms_df = comms_df.drop(['text'], axis=1)\n",
    "\n",
    "X = comms_df['lemm_text']\n",
    "y = comms_df['toxic']\n",
    "\n",
    "X_train, X_test, y_train, y_test = train_test_split(X, \n",
    "                                                    y, test_size=TEST_SIZE, \n",
    "                                                    random_state=RANDOM_STATE)\n",
    "\n",
    "print('Размерность X_train:', X_train.shape)\n",
    "print('Размерность X_test:', X_test.shape)\n",
    "print('Размерность y_train:', y_train.shape)\n",
    "print('Размерность y_test:', y_test.shape)"
   ]
  },
  {
   "cell_type": "markdown",
   "id": "b0aa56b6",
   "metadata": {},
   "source": [
    "#### Выводы\n",
    "\n",
    "- Лемматизировали и токенизировали тексты из датасейта с помощью WordNetLemmatizer из nltk\n",
    "- Проверили, были ли токенизированы все строки, с помощью проверки на пустые строки\n",
    "- Разбили датасет на тестовую и тренировочную выборки. Валидационную делать не стали, так как для промежуточной оценки будем использовать кросс-валидацию.\n",
    "- Не стали балансировать классы: будем использовать модели, которые можно настроить на работу с несбалансированными классами."
   ]
  },
  {
   "cell_type": "markdown",
   "id": "d1c08c7d",
   "metadata": {},
   "source": [
    "### Шаг 3. Обучение моделей"
   ]
  },
  {
   "cell_type": "markdown",
   "id": "1a023ff0",
   "metadata": {},
   "source": [
    "В этом проекте будем использовать кросс-валидацию, а для поиска параметров - поиск по сетке GridSearchCV. В качестве метрик возьмем контрольную F1 (условия проекта) и добавим к ней ROC AUC, чтобы понимать, насколько в целом хорошо модели различают классы.\n",
    "\n",
    "До этого пропишем условия, одинаковые для всех моделей: число фолдов и метрики для оценки. Далее упакуем все модели в пайплайны, в них же добавим векторизацию. "
   ]
  },
  {
   "cell_type": "code",
   "execution_count": 19,
   "id": "2eb72c11",
   "metadata": {},
   "outputs": [],
   "source": [
    "cv_counts = KFold(n_splits=3, shuffle=True, random_state=RANDOM_STATE)\n",
    "\n",
    "scoring = {\n",
    "    'F1': make_scorer(f1_score),\n",
    "    'ROC AUC': make_scorer(roc_auc_score, needs_proba=True)\n",
    "}"
   ]
  },
  {
   "cell_type": "markdown",
   "id": "8f6bca81",
   "metadata": {},
   "source": [
    "Далее пропишем гиперпараметры для сетки и создадим один общий пайплайн: "
   ]
  },
  {
   "cell_type": "markdown",
   "id": "c385e227",
   "metadata": {},
   "source": [
    "Создадим функцию, которая поможет вывести прогресс-бар по нашему пайплайну:"
   ]
  },
  {
   "cell_type": "markdown",
   "id": "a0971601",
   "metadata": {},
   "source": [
    "C помощью пайплайна векторизуем данные с TfidfVectorizer и обучим три модели: логистическую регрессию, RandomForest и LGBM Classifier. Также масштабируем данные, чтобы модели, особенно логистические регрессия, сходились быстрее. Посмотрим результаты по тренировочным данным, на F1 по кросс-валидации:"
   ]
  },
  {
   "cell_type": "code",
   "execution_count": 20,
   "id": "8f7c262a",
   "metadata": {},
   "outputs": [
    {
     "data": {
      "application/vnd.jupyter.widget-view+json": {
       "model_id": "b11e210450fa47429741a994e31577b7",
       "version_major": 2,
       "version_minor": 0
      },
      "text/plain": [
       "Статус по моделям:   0%|          | 0/3 [00:00<?, ?it/s]"
      ]
     },
     "metadata": {},
     "output_type": "display_data"
    },
    {
     "name": "stdout",
     "output_type": "stream",
     "text": [
      "Fitting 3 folds for each of 1 candidates, totalling 3 fits\n",
      "Лучшие параметры для logistic_regression: {'logisticregression__C': 15, 'logisticregression__penalty': 'l2'}\n",
      "Лучший F1 Score на кросс-валидации для logistic_regression: 0.69\n",
      "Fitting 3 folds for each of 2 candidates, totalling 6 fits\n",
      "Лучшие параметры для lgbm: {'lgbmclassifier__class_weight': 'balanced', 'lgbmclassifier__learning_rate': 0.5, 'lgbmclassifier__max_depth': 20, 'lgbmclassifier__n_estimators': 200}\n",
      "Лучший F1 Score на кросс-валидации для lgbm: 0.76\n",
      "Fitting 3 folds for each of 1 candidates, totalling 3 fits\n",
      "Лучшие параметры для random_forest: {'randomforestclassifier__class_weight': 'balanced', 'randomforestclassifier__max_depth': 30, 'randomforestclassifier__n_estimators': 100}\n",
      "Лучший F1 Score на кросс-валидации для random_forest: 0.43\n"
     ]
    }
   ],
   "source": [
    "warnings.filterwarnings('ignore', category=ConvergenceWarning)\n",
    "\n",
    "base_pipeline = make_pipeline(\n",
    "    TfidfVectorizer(stop_words='english'),\n",
    "    StandardScaler(with_mean=False)\n",
    ")\n",
    "\n",
    "models = {\n",
    "    'logistic_regression': LogisticRegression(max_iter=1000, \n",
    "                                              solver='saga', class_weight='balanced', n_jobs=-1),\n",
    "    'lgbm': LGBMClassifier(),\n",
    "    'random_forest': RandomForestClassifier(n_jobs=-1)\n",
    "}\n",
    "\n",
    "# Гиперпараметры\n",
    "param_grids = {\n",
    "    'logistic_regression': {\n",
    "        'logisticregression__penalty': ['l2'],\n",
    "        'logisticregression__C': [15],\n",
    "    },\n",
    "    'lgbm': {\n",
    "        'lgbmclassifier__n_estimators': [100, 200],\n",
    "        'lgbmclassifier__max_depth': [20],\n",
    "        'lgbmclassifier__learning_rate': [0.5],\n",
    "        'lgbmclassifier__class_weight': ['balanced']\n",
    "    },\n",
    "    'random_forest': {\n",
    "        'randomforestclassifier__n_estimators': [100],\n",
    "        'randomforestclassifier__max_depth': [30],\n",
    "        'randomforestclassifier__class_weight': ['balanced']\n",
    "    }\n",
    "}\n",
    "\n",
    "best_models = {}\n",
    "for model_name, model in tqdm(models.items(), desc='Статус по моделям'):\n",
    "    pipeline = make_pipeline(base_pipeline, model)\n",
    "    \n",
    "    grid_search = GridSearchCV(\n",
    "        pipeline,\n",
    "        param_grids[model_name],\n",
    "        scoring='f1',\n",
    "        cv=3,\n",
    "        verbose=1,\n",
    "    )\n",
    "    \n",
    "    grid_search.fit(X_train, y_train)\n",
    "    best_models[model_name] = grid_search.best_estimator_\n",
    "    \n",
    "    print(f'Лучшие параметры для {model_name}:', grid_search.best_params_)\n",
    "    print(f'Лучший F1 Score на кросс-валидации для {model_name}:', round(grid_search.best_score_, 2))"
   ]
  },
  {
   "cell_type": "markdown",
   "id": "24274665",
   "metadata": {},
   "source": [
    "Видим, что лучше всего себя показываем LGBM: попробуем визуализировать распределение ошибок:"
   ]
  },
  {
   "cell_type": "code",
   "execution_count": 21,
   "id": "15295d4f",
   "metadata": {},
   "outputs": [
    {
     "data": {
      "image/png": "[encoded data removed]",
      "text/plain": [
       "<Figure size 720x432 with 1 Axes>"
      ]
     },
     "metadata": {
      "needs_background": "light"
     },
     "output_type": "display_data"
    }
   ],
   "source": [
    "y_pred_cv = cross_val_predict(best_models['lgbm'], X_train,\n",
    "                              y_train, cv=cv_counts, method='predict')\n",
    "\n",
    "errors_df_model = pd.DataFrame({\n",
    "    'True': y_train,\n",
    "    'Predicted': y_pred_cv,\n",
    "    'Correct': y_train == y_pred_cv\n",
    "})\n",
    "\n",
    "plt.figure(figsize=(10, 6))\n",
    "sns.countplot(x='True', hue='Correct', data=errors_df_model)\n",
    "plt.title('Распределение ошибок по кросс-валидации')\n",
    "plt.xlabel('Истинные метки')\n",
    "plt.ylabel('Количество')\n",
    "plt.legend(title='Корректность предсказания')\n",
    "plt.show()"
   ]
  },
  {
   "cell_type": "markdown",
   "id": "bec6d028",
   "metadata": {},
   "source": [
    "#### Выводы\n",
    "\n",
    "- C помощью пайплайна векторизовали данные с TfidfVectorizer\n",
    "- обучили три модели: логистическую регрессию, RandomForest и LGBM Classifier. \n",
    "- Также масштабировали данные, чтобы модели, особенно логистические регрессия, сходились быстрее."
   ]
  },
  {
   "cell_type": "markdown",
   "id": "11e81106",
   "metadata": {},
   "source": [
    "### Шаг 4. Выбираем лучшую модель"
   ]
  },
  {
   "cell_type": "markdown",
   "id": "8ef6e416",
   "metadata": {},
   "source": [
    "Ранее лучше всего в рамках наших условий себя показала LGBM. Теперь обучим ее лучшую версию на тестовых данных и посмотрим на результаты метрик:"
   ]
  },
  {
   "cell_type": "code",
   "execution_count": 22,
   "id": "8d37d622",
   "metadata": {},
   "outputs": [
    {
     "name": "stdout",
     "output_type": "stream",
     "text": [
      "Финальная F1-метрика для лучшей модели: 0.77\n"
     ]
    }
   ],
   "source": [
    "predictions_final = best_models['lgbm'].predict(X_test)\n",
    "\n",
    "# Вычисление F1-метрики\n",
    "final_f1 = f1_score(y_test, predictions_final)\n",
    "print('Финальная F1-метрика для лучшей модели:', round(final_f1, 2))"
   ]
  },
  {
   "cell_type": "markdown",
   "id": "906abf4a",
   "metadata": {},
   "source": [
    "Модель проходит по критерию, который выставил заказчик. Проверим распределение ошибок и заодно построим матрицу ошибок:"
   ]
  },
  {
   "cell_type": "code",
   "execution_count": 23,
   "id": "b9b2360b",
   "metadata": {},
   "outputs": [
    {
     "data": {
      "image/png": "[encoded data removed]",
      "text/plain": [
       "<Figure size 576x432 with 2 Axes>"
      ]
     },
     "metadata": {
      "needs_background": "light"
     },
     "output_type": "display_data"
    },
    {
     "data": {
      "image/png": "[encoded data removed]",
      "text/plain": [
       "<Figure size 720x432 with 1 Axes>"
      ]
     },
     "metadata": {
      "needs_background": "light"
     },
     "output_type": "display_data"
    }
   ],
   "source": [
    "cm = confusion_matrix(y_test, predictions_final)\n",
    "\n",
    "plt.figure(figsize=(8, 6))\n",
    "sns.heatmap(cm, annot=True, fmt='d', cmap='Blues', xticklabels=['Negative', 'Positive'], yticklabels=['Negative', 'Positive'])\n",
    "plt.xlabel('Предсказанный класс')\n",
    "plt.ylabel('Истинный класс')\n",
    "plt.title('Матрица ошибок для логистической регрессии')\n",
    "plt.show()\n",
    "\n",
    "errors_df = pd.DataFrame({\n",
    "    'True': y_test,\n",
    "    'Predicted': predictions_final\n",
    "})\n",
    "\n",
    "errors_df['Correct'] = errors_df['True'] == errors_df['Predicted']\n",
    "\n",
    "plt.figure(figsize=(10, 6))\n",
    "sns.countplot(x='True', hue='Correct', data=errors_df)\n",
    "plt.title('Распределение ошибок для логистической регрессии')\n",
    "plt.xlabel('Истинные метки')\n",
    "plt.ylabel('Количество')\n",
    "plt.legend(title='Корректность предсказания', labels=['Неправильное', 'Правильное'])\n",
    "plt.show()"
   ]
  },
  {
   "cell_type": "markdown",
   "id": "cdc72130",
   "metadata": {},
   "source": [
    "Мы видим, что модель относительно часто ложно предсказывает негативные значения как положительные, то есть много ложно положительных значений. Это может быть связано с несколькими причинами:\n",
    "    \n",
    "- Недостаточный порог для классификации (или наоборот, избыточный)\n",
    "- Недостатки токенизации\n",
    "\n",
    "Тем не менее, финальная F1-метрика проходит пороговое контрольное значение, поэтому в рамках этого проекта пока остановлюсь на ней."
   ]
  },
  {
   "cell_type": "markdown",
   "id": "e23a89e6",
   "metadata": {},
   "source": [
    "### Шаг 5. Общие выводы\n",
    "\n",
    "При выполнении проекта проделана следующая работа:\n",
    "\n",
    "**На первом этапе произведена загрузка данных и их подготовка для обучения моделей**\n",
    "\n",
    "- В датафрейме 159292 строки и две колонки, целевой признак - toxic\n",
    "- Явных дубликатов не видим, как и пробелов или NaN-значений\n",
    "- Нетоксичных текстов (значения с параметром 0) в датафрейме в 8.8 раза больше, чем токсичных"
   ]
  },
  {
   "cell_type": "markdown",
   "id": "705e37c6",
   "metadata": {},
   "source": [
    "**Далее обработали данные:**\n",
    "\n",
    "- Лемматизировали и токенизировали тексты из датасейта с помощью WordNetLemmatizer из nltk\n",
    "- Проверили, были ли токенизированы все строки, с помощью проверки на пустые строки\n",
    "- Разбили датасет на тестовую и тренировочную выборки. Валидационную делать не стали, так как для промежуточной оценки будем использовать кросс-валидацию.\n"
   ]
  },
  {
   "cell_type": "markdown",
   "id": "6a176a27",
   "metadata": {},
   "source": [
    "**Следующим этапом обучили модели:**\n",
    "\n",
    "- C помощью пайплайна векторизовали данные с TfidfVectorizer\n",
    "- обучили три модели: логистическую регрессию, RandomForest и LGBM Classifier. \n",
    "- Также масштабировали данные, чтобы модели, особенно логистические регрессия, сходились быстрее."
   ]
  },
  {
   "cell_type": "markdown",
   "id": "76b35bf5",
   "metadata": {},
   "source": [
    "В результате остановились на LGBM как лучшей модели: взяли лучшую ее версию по GridSearch и сделали предсказания уже по финальной выборке. \n",
    "\n",
    "Мы видим, что модель относительно часто ложно предсказывает негативные значения как положительные, то есть много ложно положительных значений. Это может быть связано с несколькими причинами:\n",
    "    \n",
    "- Недостаточный порог для классификации (или наоборот, избыточный)\n",
    "\n",
    "- Недостатки токенизации.\n"
   ]
  }
 ],
 "metadata": {
  "ExecuteTimeLog": [
   {
    "duration": 6769,
    "start_time": "2024-08-09T20:02:38.311Z"
   }
  ],
  "kernelspec": {
   "display_name": "Python 3",
   "language": "python",
   "name": "python3"
  },
  "language_info": {
   "codemirror_mode": {
    "name": "ipython",
    "version": 3
   },
   "file_extension": ".py",
   "mimetype": "text/x-python",
   "name": "python",
   "nbconvert_exporter": "python",
   "pygments_lexer": "ipython3",
   "version": "3.8.2"
  },
  "toc": {
   "base_numbering": 1,
   "nav_menu": {},
   "number_sections": true,
   "sideBar": true,
   "skip_h1_title": true,
   "title_cell": "Table of Contents",
   "title_sidebar": "Contents",
   "toc_cell": false,
   "toc_position": {},
   "toc_section_display": true,
   "toc_window_display": false
  }
 },
 "nbformat": 4,
 "nbformat_minor": 5
}
