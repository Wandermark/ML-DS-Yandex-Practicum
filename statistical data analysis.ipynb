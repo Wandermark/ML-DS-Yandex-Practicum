{
 "cells": [
  {
   "cell_type": "markdown",
   "id": "ce4213b6",
   "metadata": {},
   "source": [
    "# Исследование данных сервиса аренды самокатов GoFast\n",
    "\n",
    "Вы аналитик популярного сервиса аренды самокатов GoFast. Вам передали данные о некоторых пользователях из нескольких городов, а также об их поездках. Проанализируйте данные и проверьте некоторые гипотезы, которые могут помочь бизнесу вырасти.\n"
   ]
  },
  {
   "cell_type": "markdown",
   "id": "7854f649",
   "metadata": {},
   "source": [
    "### Краткое описание проекта\n",
    "\n",
    "Основные данные проекта состоят из трех датафреймов - в них данные о пользователях, их поездках и типах подписок. Эти датафреймы в рамках работы нужно будет обработать - избавиться от пропусков и дубликатов, а также проверить, есть ли какие-либо аномальные значения.\n",
    "\n",
    "Основная цель проекта - проверить гипотезы, которые возникли у продакт-менеджеров. На достоверность или ложность этих гипотез команда будет опираться при проведении акций для увеличения числа пользователей с подпиской. Эти гипотезы мы будем проверять с помощью методов библиотеки scipy. \n",
    "\n",
    "****План работы будет следующим:****\n",
    "\n",
    "1. Изучение и предобработка данных\n",
    "Посмотрим на содержание датафреймов, изучим, какие типы данных и их объем они содержат. На этом этапе изучим, какие типы данных лучше изменить, и проведем предобработку - приведем данные к нужному типу, избавимся от дубликатов и пропусков (при наличии).\n",
    "\n",
    "\n",
    "2. Исследовательский анализ данных\n",
    "Визуализируем содержимое датафреймов с помощью гистограмм и других способов отображения данных. Это позволит лучше понять, есть ли аномальные значения, и выдвинуть гипотезы, чем их можно объяснить. Кроме того, на этом этапе изучим важные параметры - частоту встречаемости городов, возраст пользователей, продолжительность поездок по времени и расстоянию.\n",
    "\n",
    "\n",
    "3. Объединение данных и подсчет выручки\n",
    "Создадим общий датафрейм, которые будет содержать данные из трех датафреймов. Затем на его основе создадим отдельные наборы данных о пользователях с платной и бесплатной подписками. Добавим столбец с месячной выручкой по каждому пользователю в общий датафрейм.\n",
    "\n",
    "\n",
    "4. Проверка гипотез\n",
    "С помощью методов статистического анализа попробуем опровергнуть или подтвердить выдвинутые продакт-менеджерами гипотезы. Обрабатоем результаты анализа и добавим выводы, которые позволят бизнесу повысить эффективность акций для привлечения пользователей.\n",
    "\n",
    "\n",
    "5. Общие выводы\n",
    "Соберем все выводы, которые получится получить в рамках проекта, для удобства в одном блоке. "
   ]
  },
  {
   "cell_type": "code",
   "execution_count": 1,
   "id": "6ecb3d6b",
   "metadata": {},
   "outputs": [],
   "source": [
    "import pandas as pd\n",
    "import math\n",
    "import numpy as np\n",
    "import matplotlib.pyplot as plt\n",
    "from scipy import stats as st\n",
    "import pylab\n",
    "import seaborn as sns\n",
    "from termcolor import colored"
   ]
  },
  {
   "cell_type": "markdown",
   "id": "e5665651",
   "metadata": {},
   "source": [
    "#### Шаг 1. Загрузка данных"
   ]
  },
  {
   "cell_type": "code",
   "execution_count": 2,
   "id": "fddbd155",
   "metadata": {
    "scrolled": true
   },
   "outputs": [
    {
     "data": {
      "text/html": [
       "<div>\n",
       "<style scoped>\n",
       "    .dataframe tbody tr th:only-of-type {\n",
       "        vertical-align: middle;\n",
       "    }\n",
       "\n",
       "    .dataframe tbody tr th {\n",
       "        vertical-align: top;\n",
       "    }\n",
       "\n",
       "    .dataframe thead th {\n",
       "        text-align: right;\n",
       "    }\n",
       "</style>\n",
       "<table border=\"1\" class=\"dataframe\">\n",
       "  <thead>\n",
       "    <tr style=\"text-align: right;\">\n",
       "      <th></th>\n",
       "      <th>user_id</th>\n",
       "      <th>distance</th>\n",
       "      <th>duration</th>\n",
       "      <th>date</th>\n",
       "    </tr>\n",
       "  </thead>\n",
       "  <tbody>\n",
       "    <tr>\n",
       "      <th>0</th>\n",
       "      <td>1</td>\n",
       "      <td>4409.919140</td>\n",
       "      <td>25.599769</td>\n",
       "      <td>2021-01-01</td>\n",
       "    </tr>\n",
       "    <tr>\n",
       "      <th>1</th>\n",
       "      <td>1</td>\n",
       "      <td>2617.592153</td>\n",
       "      <td>15.816871</td>\n",
       "      <td>2021-01-18</td>\n",
       "    </tr>\n",
       "    <tr>\n",
       "      <th>2</th>\n",
       "      <td>1</td>\n",
       "      <td>754.159807</td>\n",
       "      <td>6.232113</td>\n",
       "      <td>2021-04-20</td>\n",
       "    </tr>\n",
       "    <tr>\n",
       "      <th>3</th>\n",
       "      <td>1</td>\n",
       "      <td>2694.783254</td>\n",
       "      <td>18.511000</td>\n",
       "      <td>2021-08-11</td>\n",
       "    </tr>\n",
       "    <tr>\n",
       "      <th>4</th>\n",
       "      <td>1</td>\n",
       "      <td>4028.687306</td>\n",
       "      <td>26.265803</td>\n",
       "      <td>2021-08-28</td>\n",
       "    </tr>\n",
       "  </tbody>\n",
       "</table>\n",
       "</div>"
      ],
      "text/plain": [
       "   user_id     distance   duration        date\n",
       "0        1  4409.919140  25.599769  2021-01-01\n",
       "1        1  2617.592153  15.816871  2021-01-18\n",
       "2        1   754.159807   6.232113  2021-04-20\n",
       "3        1  2694.783254  18.511000  2021-08-11\n",
       "4        1  4028.687306  26.265803  2021-08-28"
      ]
     },
     "metadata": {},
     "output_type": "display_data"
    },
    {
     "data": {
      "text/html": [
       "<div>\n",
       "<style scoped>\n",
       "    .dataframe tbody tr th:only-of-type {\n",
       "        vertical-align: middle;\n",
       "    }\n",
       "\n",
       "    .dataframe tbody tr th {\n",
       "        vertical-align: top;\n",
       "    }\n",
       "\n",
       "    .dataframe thead th {\n",
       "        text-align: right;\n",
       "    }\n",
       "</style>\n",
       "<table border=\"1\" class=\"dataframe\">\n",
       "  <thead>\n",
       "    <tr style=\"text-align: right;\">\n",
       "      <th></th>\n",
       "      <th>user_id</th>\n",
       "      <th>name</th>\n",
       "      <th>age</th>\n",
       "      <th>city</th>\n",
       "      <th>subscription_type</th>\n",
       "    </tr>\n",
       "  </thead>\n",
       "  <tbody>\n",
       "    <tr>\n",
       "      <th>0</th>\n",
       "      <td>1</td>\n",
       "      <td>Кира</td>\n",
       "      <td>22</td>\n",
       "      <td>Тюмень</td>\n",
       "      <td>ultra</td>\n",
       "    </tr>\n",
       "    <tr>\n",
       "      <th>1</th>\n",
       "      <td>2</td>\n",
       "      <td>Станислав</td>\n",
       "      <td>31</td>\n",
       "      <td>Омск</td>\n",
       "      <td>ultra</td>\n",
       "    </tr>\n",
       "    <tr>\n",
       "      <th>2</th>\n",
       "      <td>3</td>\n",
       "      <td>Алексей</td>\n",
       "      <td>20</td>\n",
       "      <td>Москва</td>\n",
       "      <td>ultra</td>\n",
       "    </tr>\n",
       "    <tr>\n",
       "      <th>3</th>\n",
       "      <td>4</td>\n",
       "      <td>Константин</td>\n",
       "      <td>26</td>\n",
       "      <td>Ростов-на-Дону</td>\n",
       "      <td>ultra</td>\n",
       "    </tr>\n",
       "    <tr>\n",
       "      <th>4</th>\n",
       "      <td>5</td>\n",
       "      <td>Адель</td>\n",
       "      <td>28</td>\n",
       "      <td>Омск</td>\n",
       "      <td>ultra</td>\n",
       "    </tr>\n",
       "  </tbody>\n",
       "</table>\n",
       "</div>"
      ],
      "text/plain": [
       "   user_id        name  age            city subscription_type\n",
       "0        1        Кира   22          Тюмень             ultra\n",
       "1        2   Станислав   31            Омск             ultra\n",
       "2        3     Алексей   20          Москва             ultra\n",
       "3        4  Константин   26  Ростов-на-Дону             ultra\n",
       "4        5       Адель   28            Омск             ultra"
      ]
     },
     "metadata": {},
     "output_type": "display_data"
    },
    {
     "data": {
      "text/html": [
       "<div>\n",
       "<style scoped>\n",
       "    .dataframe tbody tr th:only-of-type {\n",
       "        vertical-align: middle;\n",
       "    }\n",
       "\n",
       "    .dataframe tbody tr th {\n",
       "        vertical-align: top;\n",
       "    }\n",
       "\n",
       "    .dataframe thead th {\n",
       "        text-align: right;\n",
       "    }\n",
       "</style>\n",
       "<table border=\"1\" class=\"dataframe\">\n",
       "  <thead>\n",
       "    <tr style=\"text-align: right;\">\n",
       "      <th></th>\n",
       "      <th>subscription_type</th>\n",
       "      <th>minute_price</th>\n",
       "      <th>start_ride_price</th>\n",
       "      <th>subscription_fee</th>\n",
       "    </tr>\n",
       "  </thead>\n",
       "  <tbody>\n",
       "    <tr>\n",
       "      <th>0</th>\n",
       "      <td>free</td>\n",
       "      <td>8</td>\n",
       "      <td>50</td>\n",
       "      <td>0</td>\n",
       "    </tr>\n",
       "    <tr>\n",
       "      <th>1</th>\n",
       "      <td>ultra</td>\n",
       "      <td>6</td>\n",
       "      <td>0</td>\n",
       "      <td>199</td>\n",
       "    </tr>\n",
       "  </tbody>\n",
       "</table>\n",
       "</div>"
      ],
      "text/plain": [
       "  subscription_type  minute_price  start_ride_price  subscription_fee\n",
       "0              free             8                50                 0\n",
       "1             ultra             6                 0               199"
      ]
     },
     "metadata": {},
     "output_type": "display_data"
    }
   ],
   "source": [
    "try:\n",
    "    users = pd.read_csv('/datasets/users_go.csv')\n",
    "    rides = pd.read_csv('/datasets/rides_go.csv')\n",
    "    subscriptions = pd.read_csv('/datasets/subscriptions_go.csv')\n",
    "except FileNotFoundError:\n",
    "    users = pd.read_csv('/Users/macbookpro/Downloads/users_go.csv')\n",
    "    rides = pd.read_csv('/Users/macbookpro/Downloads/rides_go.csv')\n",
    "    subscriptions = pd.read_csv('/Users/macbookpro/Downloads/subscriptions_go.csv')\n",
    "\n",
    "display(rides.head())\n",
    "display(users.head())\n",
    "display(subscriptions.head())"
   ]
  },
  {
   "cell_type": "code",
   "execution_count": 3,
   "id": "f025c9ed",
   "metadata": {},
   "outputs": [
    {
     "name": "stdout",
     "output_type": "stream",
     "text": [
      "\u001b[1m\u001b[31mИнформация о датафрейме с поездками:\u001b[0m\n",
      "<class 'pandas.core.frame.DataFrame'>\n",
      "RangeIndex: 18068 entries, 0 to 18067\n",
      "Data columns (total 4 columns):\n",
      " #   Column    Non-Null Count  Dtype  \n",
      "---  ------    --------------  -----  \n",
      " 0   user_id   18068 non-null  int64  \n",
      " 1   distance  18068 non-null  float64\n",
      " 2   duration  18068 non-null  float64\n",
      " 3   date      18068 non-null  object \n",
      "dtypes: float64(2), int64(1), object(1)\n",
      "memory usage: 564.8+ KB\n",
      "\n",
      "\u001b[1m\u001b[31mИнформация о датафрейме с пользователями:\u001b[0m\n",
      "<class 'pandas.core.frame.DataFrame'>\n",
      "RangeIndex: 1565 entries, 0 to 1564\n",
      "Data columns (total 5 columns):\n",
      " #   Column             Non-Null Count  Dtype \n",
      "---  ------             --------------  ----- \n",
      " 0   user_id            1565 non-null   int64 \n",
      " 1   name               1565 non-null   object\n",
      " 2   age                1565 non-null   int64 \n",
      " 3   city               1565 non-null   object\n",
      " 4   subscription_type  1565 non-null   object\n",
      "dtypes: int64(2), object(3)\n",
      "memory usage: 61.3+ KB\n",
      "\n",
      "\u001b[1m\u001b[31mИнформация о датафрейме с типами подписок:\u001b[0m\n",
      "<class 'pandas.core.frame.DataFrame'>\n",
      "RangeIndex: 2 entries, 0 to 1\n",
      "Data columns (total 4 columns):\n",
      " #   Column             Non-Null Count  Dtype \n",
      "---  ------             --------------  ----- \n",
      " 0   subscription_type  2 non-null      object\n",
      " 1   minute_price       2 non-null      int64 \n",
      " 2   start_ride_price   2 non-null      int64 \n",
      " 3   subscription_fee   2 non-null      int64 \n",
      "dtypes: int64(3), object(1)\n",
      "memory usage: 192.0+ bytes\n"
     ]
    }
   ],
   "source": [
    "print(colored('Информация о датафрейме с поездками:', 'red', attrs=['bold']))\n",
    "rides.info()\n",
    "print()\n",
    "print(colored('Информация о датафрейме с пользователями:', 'red', attrs=['bold']))\n",
    "users.info()\n",
    "print()\n",
    "print(colored('Информация о датафрейме с типами подписок:', 'red', attrs=['bold']))\n",
    "subscriptions.info()"
   ]
  },
  {
   "cell_type": "markdown",
   "id": "def3eb23",
   "metadata": {},
   "source": [
    "#### Предварительные выводы, которые можно сделать по нашим датафреймам:\n",
    "\n",
    "1. Самый большой по количеству строк - датафрейм с информацией о поездках. Скорее всего, один и тот же пользователь совершал несколько поездок, так как в датафрейме с информацией о них всего 1565 строк. При этом в датафрейме о поездках 18 тысяч строк.\n",
    "\n",
    "2. Так как наш план - объединить три датафрейма в один с помощью параметра merge(), на этой стадии посмотрим, по какому столбцу это можно сделать. Мы видим, что в первых двух датафреймах есть столбец с категориальными переменными user_id. Но в датафрейме с информацией о подписках его нет: из него вытащим информацию для категорий пользователей с подписками и без.\n",
    "\n",
    "3. Сразу можно наметить задачи для предобработки: date в датафрейме rides приведем к формату datetime64. Кроме того, проверим пропущенные значения и дубликаты."
   ]
  },
  {
   "cell_type": "markdown",
   "id": "fce4794e",
   "metadata": {},
   "source": [
    "#### Шаг 2. Предобработка данных"
   ]
  },
  {
   "cell_type": "markdown",
   "id": "5f2c0466",
   "metadata": {},
   "source": [
    "Сперва проверим, есть ли в датафреймах пропущенные значения. В датафрейме subscriptions искать их не будем: он состоит из двух строк."
   ]
  },
  {
   "cell_type": "code",
   "execution_count": 4,
   "id": "8427a223",
   "metadata": {},
   "outputs": [
    {
     "name": "stdout",
     "output_type": "stream",
     "text": [
      "user_id     0\n",
      "distance    0\n",
      "duration    0\n",
      "date        0\n",
      "dtype: int64\n",
      "user_id              0\n",
      "name                 0\n",
      "age                  0\n",
      "city                 0\n",
      "subscription_type    0\n",
      "dtype: int64\n"
     ]
    }
   ],
   "source": [
    "print(rides.isnull().sum())\n",
    "print(users.isnull().sum())"
   ]
  },
  {
   "cell_type": "markdown",
   "id": "d95f779f",
   "metadata": {},
   "source": [
    "Как мы видим, пропущенные значения отсутствуют. А что насчет явных дубликатов? "
   ]
  },
  {
   "cell_type": "code",
   "execution_count": 5,
   "id": "708e6807",
   "metadata": {},
   "outputs": [
    {
     "name": "stdout",
     "output_type": "stream",
     "text": [
      "Количество явных дубликатов в датафрейме с поездками: 0\n",
      "Количество явных дубликатов в датафрейме с пользователями: 31\n"
     ]
    }
   ],
   "source": [
    "print(f'Количество явных дубликатов в датафрейме с поездками: {rides.duplicated().sum()}')\n",
    "print(f'Количество явных дубликатов в датафрейме с пользователями: {users.duplicated().sum()}')"
   ]
  },
  {
   "cell_type": "markdown",
   "id": "a0f6d136",
   "metadata": {},
   "source": [
    "Видим, что явные дубликаты есть в датафрейме с пользователями, вот они: "
   ]
  },
  {
   "cell_type": "code",
   "execution_count": 6,
   "id": "d8b43739",
   "metadata": {},
   "outputs": [
    {
     "data": {
      "text/html": [
       "<div>\n",
       "<style scoped>\n",
       "    .dataframe tbody tr th:only-of-type {\n",
       "        vertical-align: middle;\n",
       "    }\n",
       "\n",
       "    .dataframe tbody tr th {\n",
       "        vertical-align: top;\n",
       "    }\n",
       "\n",
       "    .dataframe thead th {\n",
       "        text-align: right;\n",
       "    }\n",
       "</style>\n",
       "<table border=\"1\" class=\"dataframe\">\n",
       "  <thead>\n",
       "    <tr style=\"text-align: right;\">\n",
       "      <th></th>\n",
       "      <th>user_id</th>\n",
       "      <th>name</th>\n",
       "      <th>age</th>\n",
       "      <th>city</th>\n",
       "      <th>subscription_type</th>\n",
       "    </tr>\n",
       "  </thead>\n",
       "  <tbody>\n",
       "    <tr>\n",
       "      <th>1534</th>\n",
       "      <td>293</td>\n",
       "      <td>Агата</td>\n",
       "      <td>26</td>\n",
       "      <td>Краснодар</td>\n",
       "      <td>ultra</td>\n",
       "    </tr>\n",
       "    <tr>\n",
       "      <th>1535</th>\n",
       "      <td>16</td>\n",
       "      <td>Амалия</td>\n",
       "      <td>27</td>\n",
       "      <td>Краснодар</td>\n",
       "      <td>ultra</td>\n",
       "    </tr>\n",
       "    <tr>\n",
       "      <th>1536</th>\n",
       "      <td>909</td>\n",
       "      <td>Константин</td>\n",
       "      <td>20</td>\n",
       "      <td>Екатеринбург</td>\n",
       "      <td>free</td>\n",
       "    </tr>\n",
       "    <tr>\n",
       "      <th>1537</th>\n",
       "      <td>403</td>\n",
       "      <td>Полина</td>\n",
       "      <td>19</td>\n",
       "      <td>Сочи</td>\n",
       "      <td>ultra</td>\n",
       "    </tr>\n",
       "    <tr>\n",
       "      <th>1538</th>\n",
       "      <td>908</td>\n",
       "      <td>Рустам</td>\n",
       "      <td>30</td>\n",
       "      <td>Тюмень</td>\n",
       "      <td>free</td>\n",
       "    </tr>\n",
       "    <tr>\n",
       "      <th>1539</th>\n",
       "      <td>43</td>\n",
       "      <td>Стефания</td>\n",
       "      <td>22</td>\n",
       "      <td>Омск</td>\n",
       "      <td>ultra</td>\n",
       "    </tr>\n",
       "    <tr>\n",
       "      <th>1540</th>\n",
       "      <td>127</td>\n",
       "      <td>Павел</td>\n",
       "      <td>25</td>\n",
       "      <td>Пятигорск</td>\n",
       "      <td>ultra</td>\n",
       "    </tr>\n",
       "    <tr>\n",
       "      <th>1541</th>\n",
       "      <td>659</td>\n",
       "      <td>Злата</td>\n",
       "      <td>27</td>\n",
       "      <td>Ростов-на-Дону</td>\n",
       "      <td>ultra</td>\n",
       "    </tr>\n",
       "    <tr>\n",
       "      <th>1542</th>\n",
       "      <td>204</td>\n",
       "      <td>Руслан</td>\n",
       "      <td>30</td>\n",
       "      <td>Пятигорск</td>\n",
       "      <td>ultra</td>\n",
       "    </tr>\n",
       "    <tr>\n",
       "      <th>1543</th>\n",
       "      <td>153</td>\n",
       "      <td>Герман</td>\n",
       "      <td>23</td>\n",
       "      <td>Москва</td>\n",
       "      <td>ultra</td>\n",
       "    </tr>\n",
       "    <tr>\n",
       "      <th>1544</th>\n",
       "      <td>1245</td>\n",
       "      <td>Регина</td>\n",
       "      <td>27</td>\n",
       "      <td>Пятигорск</td>\n",
       "      <td>free</td>\n",
       "    </tr>\n",
       "    <tr>\n",
       "      <th>1545</th>\n",
       "      <td>807</td>\n",
       "      <td>Александр</td>\n",
       "      <td>28</td>\n",
       "      <td>Екатеринбург</td>\n",
       "      <td>free</td>\n",
       "    </tr>\n",
       "    <tr>\n",
       "      <th>1546</th>\n",
       "      <td>924</td>\n",
       "      <td>Мария</td>\n",
       "      <td>23</td>\n",
       "      <td>Пятигорск</td>\n",
       "      <td>free</td>\n",
       "    </tr>\n",
       "    <tr>\n",
       "      <th>1547</th>\n",
       "      <td>635</td>\n",
       "      <td>Герман</td>\n",
       "      <td>21</td>\n",
       "      <td>Москва</td>\n",
       "      <td>ultra</td>\n",
       "    </tr>\n",
       "    <tr>\n",
       "      <th>1548</th>\n",
       "      <td>136</td>\n",
       "      <td>Марсель</td>\n",
       "      <td>25</td>\n",
       "      <td>Тюмень</td>\n",
       "      <td>ultra</td>\n",
       "    </tr>\n",
       "    <tr>\n",
       "      <th>1549</th>\n",
       "      <td>108</td>\n",
       "      <td>Влада</td>\n",
       "      <td>29</td>\n",
       "      <td>Тюмень</td>\n",
       "      <td>ultra</td>\n",
       "    </tr>\n",
       "    <tr>\n",
       "      <th>1550</th>\n",
       "      <td>737</td>\n",
       "      <td>Мелания</td>\n",
       "      <td>27</td>\n",
       "      <td>Ростов-на-Дону</td>\n",
       "      <td>free</td>\n",
       "    </tr>\n",
       "    <tr>\n",
       "      <th>1551</th>\n",
       "      <td>666</td>\n",
       "      <td>Зарина</td>\n",
       "      <td>29</td>\n",
       "      <td>Москва</td>\n",
       "      <td>ultra</td>\n",
       "    </tr>\n",
       "    <tr>\n",
       "      <th>1552</th>\n",
       "      <td>297</td>\n",
       "      <td>Егор</td>\n",
       "      <td>33</td>\n",
       "      <td>Пятигорск</td>\n",
       "      <td>ultra</td>\n",
       "    </tr>\n",
       "    <tr>\n",
       "      <th>1553</th>\n",
       "      <td>121</td>\n",
       "      <td>Алина</td>\n",
       "      <td>25</td>\n",
       "      <td>Пятигорск</td>\n",
       "      <td>ultra</td>\n",
       "    </tr>\n",
       "    <tr>\n",
       "      <th>1554</th>\n",
       "      <td>1198</td>\n",
       "      <td>Демид</td>\n",
       "      <td>29</td>\n",
       "      <td>Ростов-на-Дону</td>\n",
       "      <td>free</td>\n",
       "    </tr>\n",
       "    <tr>\n",
       "      <th>1555</th>\n",
       "      <td>72</td>\n",
       "      <td>Никита</td>\n",
       "      <td>25</td>\n",
       "      <td>Москва</td>\n",
       "      <td>ultra</td>\n",
       "    </tr>\n",
       "    <tr>\n",
       "      <th>1556</th>\n",
       "      <td>422</td>\n",
       "      <td>Кирилл</td>\n",
       "      <td>27</td>\n",
       "      <td>Сочи</td>\n",
       "      <td>ultra</td>\n",
       "    </tr>\n",
       "    <tr>\n",
       "      <th>1557</th>\n",
       "      <td>611</td>\n",
       "      <td>Владимир</td>\n",
       "      <td>28</td>\n",
       "      <td>Омск</td>\n",
       "      <td>ultra</td>\n",
       "    </tr>\n",
       "    <tr>\n",
       "      <th>1558</th>\n",
       "      <td>1237</td>\n",
       "      <td>Евгения</td>\n",
       "      <td>23</td>\n",
       "      <td>Тюмень</td>\n",
       "      <td>free</td>\n",
       "    </tr>\n",
       "    <tr>\n",
       "      <th>1559</th>\n",
       "      <td>209</td>\n",
       "      <td>Андрей</td>\n",
       "      <td>23</td>\n",
       "      <td>Омск</td>\n",
       "      <td>ultra</td>\n",
       "    </tr>\n",
       "    <tr>\n",
       "      <th>1560</th>\n",
       "      <td>829</td>\n",
       "      <td>Федор</td>\n",
       "      <td>29</td>\n",
       "      <td>Пятигорск</td>\n",
       "      <td>free</td>\n",
       "    </tr>\n",
       "    <tr>\n",
       "      <th>1561</th>\n",
       "      <td>809</td>\n",
       "      <td>Юрий</td>\n",
       "      <td>26</td>\n",
       "      <td>Сочи</td>\n",
       "      <td>free</td>\n",
       "    </tr>\n",
       "    <tr>\n",
       "      <th>1562</th>\n",
       "      <td>307</td>\n",
       "      <td>Ясмина</td>\n",
       "      <td>19</td>\n",
       "      <td>Краснодар</td>\n",
       "      <td>ultra</td>\n",
       "    </tr>\n",
       "    <tr>\n",
       "      <th>1563</th>\n",
       "      <td>47</td>\n",
       "      <td>Юрий</td>\n",
       "      <td>28</td>\n",
       "      <td>Тюмень</td>\n",
       "      <td>ultra</td>\n",
       "    </tr>\n",
       "    <tr>\n",
       "      <th>1564</th>\n",
       "      <td>1045</td>\n",
       "      <td>Артемий</td>\n",
       "      <td>28</td>\n",
       "      <td>Ростов-на-Дону</td>\n",
       "      <td>free</td>\n",
       "    </tr>\n",
       "  </tbody>\n",
       "</table>\n",
       "</div>"
      ],
      "text/plain": [
       "      user_id        name  age            city subscription_type\n",
       "1534      293       Агата   26       Краснодар             ultra\n",
       "1535       16      Амалия   27       Краснодар             ultra\n",
       "1536      909  Константин   20    Екатеринбург              free\n",
       "1537      403      Полина   19            Сочи             ultra\n",
       "1538      908      Рустам   30          Тюмень              free\n",
       "1539       43    Стефания   22            Омск             ultra\n",
       "1540      127       Павел   25       Пятигорск             ultra\n",
       "1541      659       Злата   27  Ростов-на-Дону             ultra\n",
       "1542      204      Руслан   30       Пятигорск             ultra\n",
       "1543      153      Герман   23          Москва             ultra\n",
       "1544     1245      Регина   27       Пятигорск              free\n",
       "1545      807   Александр   28    Екатеринбург              free\n",
       "1546      924       Мария   23       Пятигорск              free\n",
       "1547      635      Герман   21          Москва             ultra\n",
       "1548      136     Марсель   25          Тюмень             ultra\n",
       "1549      108       Влада   29          Тюмень             ultra\n",
       "1550      737     Мелания   27  Ростов-на-Дону              free\n",
       "1551      666      Зарина   29          Москва             ultra\n",
       "1552      297        Егор   33       Пятигорск             ultra\n",
       "1553      121       Алина   25       Пятигорск             ultra\n",
       "1554     1198       Демид   29  Ростов-на-Дону              free\n",
       "1555       72      Никита   25          Москва             ultra\n",
       "1556      422      Кирилл   27            Сочи             ultra\n",
       "1557      611    Владимир   28            Омск             ultra\n",
       "1558     1237     Евгения   23          Тюмень              free\n",
       "1559      209      Андрей   23            Омск             ultra\n",
       "1560      829       Федор   29       Пятигорск              free\n",
       "1561      809        Юрий   26            Сочи              free\n",
       "1562      307      Ясмина   19       Краснодар             ultra\n",
       "1563       47        Юрий   28          Тюмень             ultra\n",
       "1564     1045     Артемий   28  Ростов-на-Дону              free"
      ]
     },
     "execution_count": 6,
     "metadata": {},
     "output_type": "execute_result"
    }
   ],
   "source": [
    "users[users.duplicated()]"
   ]
  },
  {
   "cell_type": "markdown",
   "id": "b427e9e9",
   "metadata": {},
   "source": [
    "Отбросим эти значения и проверим датафрейм на дубликаты: "
   ]
  },
  {
   "cell_type": "code",
   "execution_count": 7,
   "id": "e085dfc4",
   "metadata": {},
   "outputs": [
    {
     "data": {
      "text/plain": [
       "0"
      ]
     },
     "execution_count": 7,
     "metadata": {},
     "output_type": "execute_result"
    }
   ],
   "source": [
    "users = users.drop_duplicates(subset=['user_id'], keep='first')\n",
    "users.duplicated().sum()"
   ]
  },
  {
   "cell_type": "markdown",
   "id": "222effe0",
   "metadata": {},
   "source": [
    "Перейдем к обработке типов данных и созданию нужных столбцов:"
   ]
  },
  {
   "cell_type": "code",
   "execution_count": 8,
   "id": "3d2d415a",
   "metadata": {},
   "outputs": [
    {
     "data": {
      "text/html": [
       "<div>\n",
       "<style scoped>\n",
       "    .dataframe tbody tr th:only-of-type {\n",
       "        vertical-align: middle;\n",
       "    }\n",
       "\n",
       "    .dataframe tbody tr th {\n",
       "        vertical-align: top;\n",
       "    }\n",
       "\n",
       "    .dataframe thead th {\n",
       "        text-align: right;\n",
       "    }\n",
       "</style>\n",
       "<table border=\"1\" class=\"dataframe\">\n",
       "  <thead>\n",
       "    <tr style=\"text-align: right;\">\n",
       "      <th></th>\n",
       "      <th>user_id</th>\n",
       "      <th>distance</th>\n",
       "      <th>duration</th>\n",
       "      <th>date</th>\n",
       "      <th>month</th>\n",
       "    </tr>\n",
       "  </thead>\n",
       "  <tbody>\n",
       "    <tr>\n",
       "      <th>0</th>\n",
       "      <td>1</td>\n",
       "      <td>4409.919140</td>\n",
       "      <td>25.599769</td>\n",
       "      <td>2021-01-01</td>\n",
       "      <td>1</td>\n",
       "    </tr>\n",
       "    <tr>\n",
       "      <th>1</th>\n",
       "      <td>1</td>\n",
       "      <td>2617.592153</td>\n",
       "      <td>15.816871</td>\n",
       "      <td>2021-01-18</td>\n",
       "      <td>1</td>\n",
       "    </tr>\n",
       "    <tr>\n",
       "      <th>2</th>\n",
       "      <td>1</td>\n",
       "      <td>754.159807</td>\n",
       "      <td>6.232113</td>\n",
       "      <td>2021-04-20</td>\n",
       "      <td>4</td>\n",
       "    </tr>\n",
       "    <tr>\n",
       "      <th>3</th>\n",
       "      <td>1</td>\n",
       "      <td>2694.783254</td>\n",
       "      <td>18.511000</td>\n",
       "      <td>2021-08-11</td>\n",
       "      <td>8</td>\n",
       "    </tr>\n",
       "    <tr>\n",
       "      <th>4</th>\n",
       "      <td>1</td>\n",
       "      <td>4028.687306</td>\n",
       "      <td>26.265803</td>\n",
       "      <td>2021-08-28</td>\n",
       "      <td>8</td>\n",
       "    </tr>\n",
       "  </tbody>\n",
       "</table>\n",
       "</div>"
      ],
      "text/plain": [
       "   user_id     distance   duration       date  month\n",
       "0        1  4409.919140  25.599769 2021-01-01      1\n",
       "1        1  2617.592153  15.816871 2021-01-18      1\n",
       "2        1   754.159807   6.232113 2021-04-20      4\n",
       "3        1  2694.783254  18.511000 2021-08-11      8\n",
       "4        1  4028.687306  26.265803 2021-08-28      8"
      ]
     },
     "execution_count": 8,
     "metadata": {},
     "output_type": "execute_result"
    }
   ],
   "source": [
    "#date в датафрейме rides приведем к формату datetime64\n",
    "rides['date'] = pd.to_datetime(rides['date'], format='%Y-%m-%d')\n",
    "\n",
    "#создадим в rides новый столбец с номером месяца\n",
    "rides['month'] = rides['date'].dt.month\n",
    "\n",
    "rides.head()"
   ]
  },
  {
   "cell_type": "code",
   "execution_count": 9,
   "id": "ae178c07",
   "metadata": {},
   "outputs": [
    {
     "data": {
      "text/plain": [
       "array([2021])"
      ]
     },
     "execution_count": 9,
     "metadata": {},
     "output_type": "execute_result"
    }
   ],
   "source": [
    "rides['date'].dt.year.unique()"
   ]
  },
  {
   "cell_type": "markdown",
   "id": "27e6740a",
   "metadata": {},
   "source": [
    "Мы видим, что данные внутри датафрейма относятся к одному году - это 2021 год. Значит, при присвоении нумерации месяцев не должно быть ошибок, так как месяцам будут присваиваться номера в рамках одного года."
   ]
  },
  {
   "cell_type": "markdown",
   "id": "f38b5a9f",
   "metadata": {},
   "source": [
    "#### Предварительные выводы после предобработки данных:\n",
    "\n",
    "1. Мы привели тип данных в столбце date к формате datetime64 и создали столбец с номером месяца в поездке.\n",
    "\n",
    "2. В датафрейме с пользователями обнаружили 31 явный дубликат. Отбросили их, оставив первые значения.\n",
    "\n",
    "3. В остальном в датафрейме нет пропусков или неясных дубликатов. Можно дальше работать с данными."
   ]
  },
  {
   "cell_type": "markdown",
   "id": "7241aae5",
   "metadata": {},
   "source": [
    "#### Шаг 3. Исследовательский анализ данных"
   ]
  },
  {
   "cell_type": "markdown",
   "id": "e5de2a40",
   "metadata": {},
   "source": [
    "#### Задачи 3.1-3.3. Визуализация данных из датафрейма о пользователях: частота городов, соотношение по типу подписки и возрасту"
   ]
  },
  {
   "cell_type": "markdown",
   "id": "0d3a9ea5",
   "metadata": {},
   "source": [
    "Чтобы не создавать отдельную гистограмму по каждому из исследуемых параметров, вынесем нужные столбцы в отдельный датафрейм и создадим функцию, которая будет визуализировать каждый из нужных нам столбцов. В ней будем использовать subplots и метод histplot() из библиотеки seaborn."
   ]
  },
  {
   "cell_type": "code",
   "execution_count": 10,
   "id": "980b0d45",
   "metadata": {
    "scrolled": true
   },
   "outputs": [
    {
     "data": {
      "image/png": "[encoded data removed]",
      "text/plain": [
       "<Figure size 1080x360 with 3 Axes>"
      ]
     },
     "metadata": {
      "needs_background": "light"
     },
     "output_type": "display_data"
    }
   ],
   "source": [
    "#cоздадим переменные, которые будем использовать в качестве x и y для визуализаций\n",
    "city_count = users['city'].value_counts()\n",
    "subscription_count = users['subscription_type'].value_counts()\n",
    "labels = ['бесплатная', 'ультра']\n",
    "\n",
    "#создадим subplot, чтобы отобразить три графика в одной строке\n",
    "_, ax = plt.subplots(1, 3, figsize=(15, 5))\n",
    "\n",
    "#создадим горизонтальный барплот для распределения по городам, используя созданную выше переменную\n",
    "users['city'].value_counts().plot(y=city_count, ax=ax[0], grid=True, kind='barh')\n",
    "\n",
    "#создадим круговую диаграмму с указанием процентного соотношения\n",
    "#переменную labels используем для русскоязычного подписания\n",
    "users['subscription_type'].value_counts().plot(y= subscription_count, ax=ax[1], kind = 'pie', \n",
    "                                               autopct='%1.1f%%', labels=labels)\n",
    "plt.hist(users['age'], bins = 30)\n",
    "\n",
    "#добавим к визуализациям необходимые подписи\n",
    "ax[0].set_title('Распределение по городам')\n",
    "ax[0].set_xlabel('Частота')\n",
    "ax[1].set_title('Распределение по \\nтипу подписки')\n",
    "ax[2].set_title('Распределение по \\nвозрасту пользователей')\n",
    "ax[2].set_xlabel('Возраст')\n",
    "ax[2].set_ylabel('Частота')\n",
    "\n",
    "plt.show()"
   ]
  },
  {
   "cell_type": "markdown",
   "id": "cb6e2ad6",
   "metadata": {},
   "source": [
    "****Выводы по визуализации датафрейма с пользователями:****\n",
    "\n",
    "1. Количество пользователей из разных городов внутри датафрейма несильно отличается: минимальное значение соответствует примерно 175, максимальное - 225. Больше всего пользователей из Пятигорска, Екатеринбурга и Ростова-на-Дону, меньше всего - из Москвы.\n",
    "\n",
    "2. Пользователей, у которых нет подписки, больше, чем пользователей с подпиской: 830 против 700.\n",
    "\n",
    "3. Больше всего данных о пользователях в возрасте от 20 до 28 лет. Чаще всего попадаются данные о пользователях в возрасте 25 лет (примерно 150), реже - данные о пользователях в возрасте 40 лет (значение близко к нулю). Количество пользователей в датафрейме начинает снижаться с категорией старше 35 лет. Это соответствует правде: такие пользователи вряд ли относятся к ЦА."
   ]
  },
  {
   "cell_type": "markdown",
   "id": "8f9ab6cc",
   "metadata": {},
   "source": [
    "#### Задачи 3.4-3.5. Визуализация данных из датафрейма о поездках: расстояние за одну поездку и продолжительность"
   ]
  },
  {
   "cell_type": "markdown",
   "id": "8ae12053",
   "metadata": {},
   "source": [
    "Аналогично поступим с данными из датафрейма про поездки, но на этот раз оставим значения из столбцов в оси x: графика два, они поместятся горизонтально. Чуть увеличим число корзин, чтобы посмотреть на аномалии и пики внутри данных."
   ]
  },
  {
   "cell_type": "code",
   "execution_count": 11,
   "id": "d0480c82",
   "metadata": {},
   "outputs": [
    {
     "data": {
      "image/png": "[encoded data removed]",
      "text/plain": [
       "<Figure size 1080x360 with 2 Axes>"
      ]
     },
     "metadata": {
      "needs_background": "light"
     },
     "output_type": "display_data"
    }
   ],
   "source": [
    "rides_visual = rides[['distance', 'duration']]\n",
    "\n",
    "fig, ax = plt.subplots(1, 2,  figsize=(15, 5))\n",
    "\n",
    "for num, col in enumerate(rides_visual):\n",
    "    sns.histplot(\n",
    "        data = rides_visual, \n",
    "        x = col, \n",
    "        ax = ax[num],\n",
    "        bins = 80\n",
    "    )    \n",
    "    ax[0].set_title('Распределение по расстоянию поездок')\n",
    "    ax[1].set_title('Распределение по продолжительности поездок')\n",
    "    ax[0].set_xlabel('Дистанция, м')\n",
    "    ax[0].set_ylabel('Частота')\n",
    "    ax[1].set_xlabel('Время, мин')\n",
    "    ax[1].set_ylabel('Частота')"
   ]
  },
  {
   "cell_type": "code",
   "execution_count": 12,
   "id": "571d8a0f",
   "metadata": {
    "scrolled": false
   },
   "outputs": [
    {
     "name": "stdout",
     "output_type": "stream",
     "text": [
      "\u001b[1m\u001b[31mИнформация о  дистанции поездок:\u001b[0m\n",
      "count    18068.000000\n",
      "mean      3070.659976\n",
      "std       1116.831209\n",
      "min          0.855683\n",
      "25%       2543.226360\n",
      "50%       3133.609994\n",
      "75%       3776.222735\n",
      "max       7211.007745\n",
      "Name: distance, dtype: float64\n",
      "\n",
      "\u001b[1m\u001b[31mИнформация о продолжительности поездок:\u001b[0m\n",
      "count    18068.000000\n",
      "mean        17.805011\n",
      "std          6.091051\n",
      "min          0.500000\n",
      "25%         13.597563\n",
      "50%         17.678395\n",
      "75%         21.724800\n",
      "max         40.823963\n",
      "Name: duration, dtype: float64\n"
     ]
    }
   ],
   "source": [
    "describe1 = rides.distance.describe()\n",
    "describe2 = rides.duration.describe()\n",
    "\n",
    "print(colored('Информация о  дистанции поездок:', 'red', attrs=['bold']))\n",
    "print(describe1)\n",
    "print()\n",
    "print(colored('Информация о продолжительности поездок:', 'red', attrs=['bold']))\n",
    "print(describe2)"
   ]
  },
  {
   "cell_type": "markdown",
   "id": "9068d2b2",
   "metadata": {},
   "source": [
    "****Расстояние поездок****\n",
    "\n",
    "1. Гистограмма распределена близко к нормальному значению, но есть небольшой пик между 0 и 1000 м. Пока не будем считать эти данные как аномалию: логично предположить, что часть пользователей использует самокаты как способ передвижения на небольшие расстояния.\n",
    "\n",
    "2. Данные с расстоянием, близким к нулю (0-100 м) могут приходиться на пользователей, которые столкнулись с ошибкой или ПО, или аппаратной (разряженный самокат): из-за нее им пришлось завершить поездку.\n",
    "\n",
    "3. Основное пиковое значение приходится на расстояние примерно в 3070 м.\n",
    "\n",
    "4. После 5500 м данных почти нет: пользователи попросту не ездят на самокатах на такие дальние расстояния. \n",
    "\n",
    "****Продолжительность поездок****\n",
    "\n",
    "1.  Гистограмма распределена близко к нормальному значению, но есть небольшой пик между 0 и 2 минутами. Пока не будем считать эти данные как аномалию.\n",
    "\n",
    "2. Данные, близкие к 0 минут, можно объяснить так: вероятно, пользователи, которые проездили на самокате меньше 2 минут, столкнулись с ошибкой ПО или аппаратной ошибкой.\n",
    "\n",
    "3.  Основное пиковое значение приходится на продолжительность поездки примерно в 17.8 минут.\n",
    "\n",
    "4. После 35 минут данных почти нет. Это соответствует ожиданию: пользователи вряд ли часто используют самокаты для долгих заездов."
   ]
  },
  {
   "cell_type": "code",
   "execution_count": 13,
   "id": "3eb7383c",
   "metadata": {
    "scrolled": true
   },
   "outputs": [
    {
     "name": "stdout",
     "output_type": "stream",
     "text": [
      "       user_id     distance  duration       date  month\n",
      "6531       701  4196.445201       0.5 2021-08-31      8\n",
      "6570       704  4830.824371       0.5 2021-10-14     10\n",
      "6680       712  4684.004397       0.5 2021-03-04      3\n",
      "6695       713  5215.642710       0.5 2021-02-25      2\n",
      "6768       718  5197.436649       0.5 2021-02-11      2\n",
      "...        ...          ...       ...        ...    ...\n",
      "17004     1460  5531.335845       0.5 2021-01-19      1\n",
      "17242     1477  6724.932981       0.5 2021-01-12      1\n",
      "17314     1483  4445.481070       0.5 2021-03-06      3\n",
      "17505     1496  5722.551787       0.5 2021-02-14      2\n",
      "17909     1524  4103.998874       0.5 2021-06-18      6\n",
      "\n",
      "[95 rows x 5 columns]\n",
      "\n",
      "\u001b[1m\u001b[31mИнформация о возможных аномальных поездках:\u001b[0m\n"
     ]
    },
    {
     "data": {
      "text/html": [
       "<div>\n",
       "<style scoped>\n",
       "    .dataframe tbody tr th:only-of-type {\n",
       "        vertical-align: middle;\n",
       "    }\n",
       "\n",
       "    .dataframe tbody tr th {\n",
       "        vertical-align: top;\n",
       "    }\n",
       "\n",
       "    .dataframe thead th {\n",
       "        text-align: right;\n",
       "    }\n",
       "</style>\n",
       "<table border=\"1\" class=\"dataframe\">\n",
       "  <thead>\n",
       "    <tr style=\"text-align: right;\">\n",
       "      <th></th>\n",
       "      <th>user_id</th>\n",
       "      <th>distance</th>\n",
       "      <th>duration</th>\n",
       "      <th>month</th>\n",
       "    </tr>\n",
       "  </thead>\n",
       "  <tbody>\n",
       "    <tr>\n",
       "      <th>count</th>\n",
       "      <td>95.000000</td>\n",
       "      <td>95.000000</td>\n",
       "      <td>95.0</td>\n",
       "      <td>95.000000</td>\n",
       "    </tr>\n",
       "    <tr>\n",
       "      <th>mean</th>\n",
       "      <td>1092.210526</td>\n",
       "      <td>5113.176549</td>\n",
       "      <td>0.5</td>\n",
       "      <td>6.484211</td>\n",
       "    </tr>\n",
       "    <tr>\n",
       "      <th>std</th>\n",
       "      <td>244.028551</td>\n",
       "      <td>658.254104</td>\n",
       "      <td>0.0</td>\n",
       "      <td>3.709858</td>\n",
       "    </tr>\n",
       "    <tr>\n",
       "      <th>min</th>\n",
       "      <td>701.000000</td>\n",
       "      <td>4030.308008</td>\n",
       "      <td>0.5</td>\n",
       "      <td>1.000000</td>\n",
       "    </tr>\n",
       "    <tr>\n",
       "      <th>25%</th>\n",
       "      <td>901.000000</td>\n",
       "      <td>4611.510820</td>\n",
       "      <td>0.5</td>\n",
       "      <td>3.000000</td>\n",
       "    </tr>\n",
       "    <tr>\n",
       "      <th>50%</th>\n",
       "      <td>1069.000000</td>\n",
       "      <td>5052.769411</td>\n",
       "      <td>0.5</td>\n",
       "      <td>6.000000</td>\n",
       "    </tr>\n",
       "    <tr>\n",
       "      <th>75%</th>\n",
       "      <td>1310.500000</td>\n",
       "      <td>5488.459099</td>\n",
       "      <td>0.5</td>\n",
       "      <td>10.000000</td>\n",
       "    </tr>\n",
       "    <tr>\n",
       "      <th>max</th>\n",
       "      <td>1524.000000</td>\n",
       "      <td>7211.007745</td>\n",
       "      <td>0.5</td>\n",
       "      <td>12.000000</td>\n",
       "    </tr>\n",
       "  </tbody>\n",
       "</table>\n",
       "</div>"
      ],
      "text/plain": [
       "           user_id     distance  duration      month\n",
       "count    95.000000    95.000000      95.0  95.000000\n",
       "mean   1092.210526  5113.176549       0.5   6.484211\n",
       "std     244.028551   658.254104       0.0   3.709858\n",
       "min     701.000000  4030.308008       0.5   1.000000\n",
       "25%     901.000000  4611.510820       0.5   3.000000\n",
       "50%    1069.000000  5052.769411       0.5   6.000000\n",
       "75%    1310.500000  5488.459099       0.5  10.000000\n",
       "max    1524.000000  7211.007745       0.5  12.000000"
      ]
     },
     "execution_count": 13,
     "metadata": {},
     "output_type": "execute_result"
    }
   ],
   "source": [
    "possible_anomaly = rides.query('duration <= 1')\n",
    "print(possible_anomaly)\n",
    "print()\n",
    "print(colored('Информация о возможных аномальных поездках:', 'red', attrs=['bold']))\n",
    "possible_anomaly.describe()"
   ]
  },
  {
   "cell_type": "markdown",
   "id": "3c11fb6e",
   "metadata": {},
   "source": [
    "Мы видим, что 95 строчек о поездках содержат записи о поездках продолжительностью в среднем в 30 секунд и средним расстоянием в 5113 метров. Скорее всего, эти записи содержат ошибку – за такое время невозможно проехать больше 5 км на самокате. Ошибка, вероятно, могла быть вызвана человеческим фактором: например, записью в часах вместо минут.\n",
    "\n",
    "На следующем этапе будем использовать датафрейм без этих строк - создадим очищенный с помощью метода query()."
   ]
  },
  {
   "cell_type": "code",
   "execution_count": 14,
   "id": "a9a1a0c7",
   "metadata": {},
   "outputs": [
    {
     "data": {
      "text/html": [
       "<div>\n",
       "<style scoped>\n",
       "    .dataframe tbody tr th:only-of-type {\n",
       "        vertical-align: middle;\n",
       "    }\n",
       "\n",
       "    .dataframe tbody tr th {\n",
       "        vertical-align: top;\n",
       "    }\n",
       "\n",
       "    .dataframe thead th {\n",
       "        text-align: right;\n",
       "    }\n",
       "</style>\n",
       "<table border=\"1\" class=\"dataframe\">\n",
       "  <thead>\n",
       "    <tr style=\"text-align: right;\">\n",
       "      <th></th>\n",
       "      <th>user_id</th>\n",
       "      <th>distance</th>\n",
       "      <th>duration</th>\n",
       "      <th>date</th>\n",
       "      <th>month</th>\n",
       "    </tr>\n",
       "  </thead>\n",
       "  <tbody>\n",
       "    <tr>\n",
       "      <th>0</th>\n",
       "      <td>1</td>\n",
       "      <td>4409.919140</td>\n",
       "      <td>25.599769</td>\n",
       "      <td>2021-01-01</td>\n",
       "      <td>1</td>\n",
       "    </tr>\n",
       "    <tr>\n",
       "      <th>1</th>\n",
       "      <td>1</td>\n",
       "      <td>2617.592153</td>\n",
       "      <td>15.816871</td>\n",
       "      <td>2021-01-18</td>\n",
       "      <td>1</td>\n",
       "    </tr>\n",
       "    <tr>\n",
       "      <th>2</th>\n",
       "      <td>1</td>\n",
       "      <td>754.159807</td>\n",
       "      <td>6.232113</td>\n",
       "      <td>2021-04-20</td>\n",
       "      <td>4</td>\n",
       "    </tr>\n",
       "    <tr>\n",
       "      <th>3</th>\n",
       "      <td>1</td>\n",
       "      <td>2694.783254</td>\n",
       "      <td>18.511000</td>\n",
       "      <td>2021-08-11</td>\n",
       "      <td>8</td>\n",
       "    </tr>\n",
       "    <tr>\n",
       "      <th>4</th>\n",
       "      <td>1</td>\n",
       "      <td>4028.687306</td>\n",
       "      <td>26.265803</td>\n",
       "      <td>2021-08-28</td>\n",
       "      <td>8</td>\n",
       "    </tr>\n",
       "  </tbody>\n",
       "</table>\n",
       "</div>"
      ],
      "text/plain": [
       "   user_id     distance   duration       date  month\n",
       "0        1  4409.919140  25.599769 2021-01-01      1\n",
       "1        1  2617.592153  15.816871 2021-01-18      1\n",
       "2        1   754.159807   6.232113 2021-04-20      4\n",
       "3        1  2694.783254  18.511000 2021-08-11      8\n",
       "4        1  4028.687306  26.265803 2021-08-28      8"
      ]
     },
     "execution_count": 14,
     "metadata": {},
     "output_type": "execute_result"
    }
   ],
   "source": [
    "clear_rides = rides.query('duration >= 1')\n",
    "clear_rides.head()"
   ]
  },
  {
   "cell_type": "markdown",
   "id": "40cc745b",
   "metadata": {},
   "source": [
    "#### Предварительные выводы после исследовательского анализа данных:\n",
    "\n",
    "1. Количество пользователей из разных городов внутри датафрейма несильно отличается. Больше всего пользователей из Пятигорска, Екатеринбурга и Ростова-на-Дону, меньше всего - из Москвы.\n",
    "\n",
    "2. Пользователей, у которых нет подписки, немного больше, чем пользователей с подпиской.\n",
    "\n",
    "3. Анализ гистограмм натолкнул на гипотезу: часть пользователей использует самокаты как способ передвижения на небольшие расстояния.\n",
    "\n",
    "4. Основное пиковое значение по расстоянию поездок приходится на примерно 3000 м, по продолжительности поездок - около 18 минут.\n",
    "\n",
    "5. На этом этапе мы выявили еще 95 строк с аномальными данными по поездкам пользователей. Удалять их не будем, так как не знаем их природу, но на следующем этапе будем использовать датафрейм без этих строк."
   ]
  },
  {
   "cell_type": "markdown",
   "id": "72c1dab4",
   "metadata": {},
   "source": [
    "#### Шаг 4. Объединение данных"
   ]
  },
  {
   "cell_type": "markdown",
   "id": "c08a65ca",
   "metadata": {},
   "source": [
    "#### Задача 4.1. Объединение данные о пользователях, поездках и подписках\n",
    "\n",
    "Разделим объединение на два этапа для удобства:\n",
    "\n",
    "1. Сперва объединим датафреймы о пользователях и поездках по столбцу 'user_id' в датафрейм data\n",
    "2. Затем объединим датафрейм data с данными о подписках по столбцу 'subcription_type'"
   ]
  },
  {
   "cell_type": "code",
   "execution_count": 15,
   "id": "67277c07",
   "metadata": {},
   "outputs": [
    {
     "data": {
      "text/html": [
       "<div>\n",
       "<style scoped>\n",
       "    .dataframe tbody tr th:only-of-type {\n",
       "        vertical-align: middle;\n",
       "    }\n",
       "\n",
       "    .dataframe tbody tr th {\n",
       "        vertical-align: top;\n",
       "    }\n",
       "\n",
       "    .dataframe thead th {\n",
       "        text-align: right;\n",
       "    }\n",
       "</style>\n",
       "<table border=\"1\" class=\"dataframe\">\n",
       "  <thead>\n",
       "    <tr style=\"text-align: right;\">\n",
       "      <th></th>\n",
       "      <th>user_id</th>\n",
       "      <th>name</th>\n",
       "      <th>age</th>\n",
       "      <th>city</th>\n",
       "      <th>subscription_type</th>\n",
       "      <th>distance</th>\n",
       "      <th>duration</th>\n",
       "      <th>date</th>\n",
       "      <th>month</th>\n",
       "      <th>minute_price</th>\n",
       "      <th>start_ride_price</th>\n",
       "      <th>subscription_fee</th>\n",
       "    </tr>\n",
       "  </thead>\n",
       "  <tbody>\n",
       "    <tr>\n",
       "      <th>0</th>\n",
       "      <td>1</td>\n",
       "      <td>Кира</td>\n",
       "      <td>22</td>\n",
       "      <td>Тюмень</td>\n",
       "      <td>ultra</td>\n",
       "      <td>4409.919140</td>\n",
       "      <td>25.599769</td>\n",
       "      <td>2021-01-01</td>\n",
       "      <td>1</td>\n",
       "      <td>6</td>\n",
       "      <td>0</td>\n",
       "      <td>199</td>\n",
       "    </tr>\n",
       "    <tr>\n",
       "      <th>1</th>\n",
       "      <td>1</td>\n",
       "      <td>Кира</td>\n",
       "      <td>22</td>\n",
       "      <td>Тюмень</td>\n",
       "      <td>ultra</td>\n",
       "      <td>2617.592153</td>\n",
       "      <td>15.816871</td>\n",
       "      <td>2021-01-18</td>\n",
       "      <td>1</td>\n",
       "      <td>6</td>\n",
       "      <td>0</td>\n",
       "      <td>199</td>\n",
       "    </tr>\n",
       "    <tr>\n",
       "      <th>2</th>\n",
       "      <td>1</td>\n",
       "      <td>Кира</td>\n",
       "      <td>22</td>\n",
       "      <td>Тюмень</td>\n",
       "      <td>ultra</td>\n",
       "      <td>754.159807</td>\n",
       "      <td>6.232113</td>\n",
       "      <td>2021-04-20</td>\n",
       "      <td>4</td>\n",
       "      <td>6</td>\n",
       "      <td>0</td>\n",
       "      <td>199</td>\n",
       "    </tr>\n",
       "    <tr>\n",
       "      <th>3</th>\n",
       "      <td>1</td>\n",
       "      <td>Кира</td>\n",
       "      <td>22</td>\n",
       "      <td>Тюмень</td>\n",
       "      <td>ultra</td>\n",
       "      <td>2694.783254</td>\n",
       "      <td>18.511000</td>\n",
       "      <td>2021-08-11</td>\n",
       "      <td>8</td>\n",
       "      <td>6</td>\n",
       "      <td>0</td>\n",
       "      <td>199</td>\n",
       "    </tr>\n",
       "    <tr>\n",
       "      <th>4</th>\n",
       "      <td>1</td>\n",
       "      <td>Кира</td>\n",
       "      <td>22</td>\n",
       "      <td>Тюмень</td>\n",
       "      <td>ultra</td>\n",
       "      <td>4028.687306</td>\n",
       "      <td>26.265803</td>\n",
       "      <td>2021-08-28</td>\n",
       "      <td>8</td>\n",
       "      <td>6</td>\n",
       "      <td>0</td>\n",
       "      <td>199</td>\n",
       "    </tr>\n",
       "  </tbody>\n",
       "</table>\n",
       "</div>"
      ],
      "text/plain": [
       "   user_id  name  age    city subscription_type     distance   duration  \\\n",
       "0        1  Кира   22  Тюмень             ultra  4409.919140  25.599769   \n",
       "1        1  Кира   22  Тюмень             ultra  2617.592153  15.816871   \n",
       "2        1  Кира   22  Тюмень             ultra   754.159807   6.232113   \n",
       "3        1  Кира   22  Тюмень             ultra  2694.783254  18.511000   \n",
       "4        1  Кира   22  Тюмень             ultra  4028.687306  26.265803   \n",
       "\n",
       "        date  month  minute_price  start_ride_price  subscription_fee  \n",
       "0 2021-01-01      1             6                 0               199  \n",
       "1 2021-01-18      1             6                 0               199  \n",
       "2 2021-04-20      4             6                 0               199  \n",
       "3 2021-08-11      8             6                 0               199  \n",
       "4 2021-08-28      8             6                 0               199  "
      ]
     },
     "execution_count": 15,
     "metadata": {},
     "output_type": "execute_result"
    }
   ],
   "source": [
    "data = users.merge(clear_rides, how='inner', on='user_id')\n",
    "data = data.merge(subscriptions, how='inner', on='subscription_type')\n",
    "data.head()"
   ]
  },
  {
   "cell_type": "markdown",
   "id": "e4d74960",
   "metadata": {},
   "source": [
    "В результате мы получили один датафрейм, который содержит данные о пользователях, поездках и подписках."
   ]
  },
  {
   "cell_type": "code",
   "execution_count": 16,
   "id": "90e4ad6e",
   "metadata": {},
   "outputs": [
    {
     "name": "stdout",
     "output_type": "stream",
     "text": [
      "Количество строк в объединенном датафрейме:17973\n",
      "\n",
      "Количество строк в очищенном датафрейме по поездкам:17973\n"
     ]
    }
   ],
   "source": [
    "print(f'Количество строк в объединенном датафрейме:{len(data)}')\n",
    "print()\n",
    "print(f'Количество строк в очищенном датафрейме по поездкам:{len(clear_rides)}')"
   ]
  },
  {
   "cell_type": "markdown",
   "id": "236b37e6",
   "metadata": {},
   "source": [
    "#### Задача 4.2. Создайте ещё два датафрейма на основе одного существующего"
   ]
  },
  {
   "cell_type": "markdown",
   "id": "48f61464",
   "metadata": {},
   "source": [
    "На основе нашего объединенного датафрейма создадим еще два - с информацией о пользователях с оформленной и бесплатной подписками. Для этого воспользуемся методом query()."
   ]
  },
  {
   "cell_type": "code",
   "execution_count": 17,
   "id": "c9513e05",
   "metadata": {},
   "outputs": [
    {
     "data": {
      "text/html": [
       "<div>\n",
       "<style scoped>\n",
       "    .dataframe tbody tr th:only-of-type {\n",
       "        vertical-align: middle;\n",
       "    }\n",
       "\n",
       "    .dataframe tbody tr th {\n",
       "        vertical-align: top;\n",
       "    }\n",
       "\n",
       "    .dataframe thead th {\n",
       "        text-align: right;\n",
       "    }\n",
       "</style>\n",
       "<table border=\"1\" class=\"dataframe\">\n",
       "  <thead>\n",
       "    <tr style=\"text-align: right;\">\n",
       "      <th></th>\n",
       "      <th>user_id</th>\n",
       "      <th>name</th>\n",
       "      <th>age</th>\n",
       "      <th>city</th>\n",
       "      <th>subscription_type</th>\n",
       "      <th>distance</th>\n",
       "      <th>duration</th>\n",
       "      <th>date</th>\n",
       "      <th>month</th>\n",
       "      <th>minute_price</th>\n",
       "      <th>start_ride_price</th>\n",
       "      <th>subscription_fee</th>\n",
       "    </tr>\n",
       "  </thead>\n",
       "  <tbody>\n",
       "    <tr>\n",
       "      <th>0</th>\n",
       "      <td>1</td>\n",
       "      <td>Кира</td>\n",
       "      <td>22</td>\n",
       "      <td>Тюмень</td>\n",
       "      <td>ultra</td>\n",
       "      <td>4409.919140</td>\n",
       "      <td>25.599769</td>\n",
       "      <td>2021-01-01</td>\n",
       "      <td>1</td>\n",
       "      <td>6</td>\n",
       "      <td>0</td>\n",
       "      <td>199</td>\n",
       "    </tr>\n",
       "    <tr>\n",
       "      <th>1</th>\n",
       "      <td>1</td>\n",
       "      <td>Кира</td>\n",
       "      <td>22</td>\n",
       "      <td>Тюмень</td>\n",
       "      <td>ultra</td>\n",
       "      <td>2617.592153</td>\n",
       "      <td>15.816871</td>\n",
       "      <td>2021-01-18</td>\n",
       "      <td>1</td>\n",
       "      <td>6</td>\n",
       "      <td>0</td>\n",
       "      <td>199</td>\n",
       "    </tr>\n",
       "    <tr>\n",
       "      <th>2</th>\n",
       "      <td>1</td>\n",
       "      <td>Кира</td>\n",
       "      <td>22</td>\n",
       "      <td>Тюмень</td>\n",
       "      <td>ultra</td>\n",
       "      <td>754.159807</td>\n",
       "      <td>6.232113</td>\n",
       "      <td>2021-04-20</td>\n",
       "      <td>4</td>\n",
       "      <td>6</td>\n",
       "      <td>0</td>\n",
       "      <td>199</td>\n",
       "    </tr>\n",
       "    <tr>\n",
       "      <th>3</th>\n",
       "      <td>1</td>\n",
       "      <td>Кира</td>\n",
       "      <td>22</td>\n",
       "      <td>Тюмень</td>\n",
       "      <td>ultra</td>\n",
       "      <td>2694.783254</td>\n",
       "      <td>18.511000</td>\n",
       "      <td>2021-08-11</td>\n",
       "      <td>8</td>\n",
       "      <td>6</td>\n",
       "      <td>0</td>\n",
       "      <td>199</td>\n",
       "    </tr>\n",
       "    <tr>\n",
       "      <th>4</th>\n",
       "      <td>1</td>\n",
       "      <td>Кира</td>\n",
       "      <td>22</td>\n",
       "      <td>Тюмень</td>\n",
       "      <td>ultra</td>\n",
       "      <td>4028.687306</td>\n",
       "      <td>26.265803</td>\n",
       "      <td>2021-08-28</td>\n",
       "      <td>8</td>\n",
       "      <td>6</td>\n",
       "      <td>0</td>\n",
       "      <td>199</td>\n",
       "    </tr>\n",
       "  </tbody>\n",
       "</table>\n",
       "</div>"
      ],
      "text/plain": [
       "   user_id  name  age    city subscription_type     distance   duration  \\\n",
       "0        1  Кира   22  Тюмень             ultra  4409.919140  25.599769   \n",
       "1        1  Кира   22  Тюмень             ultra  2617.592153  15.816871   \n",
       "2        1  Кира   22  Тюмень             ultra   754.159807   6.232113   \n",
       "3        1  Кира   22  Тюмень             ultra  2694.783254  18.511000   \n",
       "4        1  Кира   22  Тюмень             ultra  4028.687306  26.265803   \n",
       "\n",
       "        date  month  minute_price  start_ride_price  subscription_fee  \n",
       "0 2021-01-01      1             6                 0               199  \n",
       "1 2021-01-18      1             6                 0               199  \n",
       "2 2021-04-20      4             6                 0               199  \n",
       "3 2021-08-11      8             6                 0               199  \n",
       "4 2021-08-28      8             6                 0               199  "
      ]
     },
     "metadata": {},
     "output_type": "display_data"
    },
    {
     "data": {
      "text/html": [
       "<div>\n",
       "<style scoped>\n",
       "    .dataframe tbody tr th:only-of-type {\n",
       "        vertical-align: middle;\n",
       "    }\n",
       "\n",
       "    .dataframe tbody tr th {\n",
       "        vertical-align: top;\n",
       "    }\n",
       "\n",
       "    .dataframe thead th {\n",
       "        text-align: right;\n",
       "    }\n",
       "</style>\n",
       "<table border=\"1\" class=\"dataframe\">\n",
       "  <thead>\n",
       "    <tr style=\"text-align: right;\">\n",
       "      <th></th>\n",
       "      <th>user_id</th>\n",
       "      <th>name</th>\n",
       "      <th>age</th>\n",
       "      <th>city</th>\n",
       "      <th>subscription_type</th>\n",
       "      <th>distance</th>\n",
       "      <th>duration</th>\n",
       "      <th>date</th>\n",
       "      <th>month</th>\n",
       "      <th>minute_price</th>\n",
       "      <th>start_ride_price</th>\n",
       "      <th>subscription_fee</th>\n",
       "    </tr>\n",
       "  </thead>\n",
       "  <tbody>\n",
       "    <tr>\n",
       "      <th>6500</th>\n",
       "      <td>700</td>\n",
       "      <td>Айдар</td>\n",
       "      <td>22</td>\n",
       "      <td>Омск</td>\n",
       "      <td>free</td>\n",
       "      <td>2515.690719</td>\n",
       "      <td>14.944286</td>\n",
       "      <td>2021-01-02</td>\n",
       "      <td>1</td>\n",
       "      <td>8</td>\n",
       "      <td>50</td>\n",
       "      <td>0</td>\n",
       "    </tr>\n",
       "    <tr>\n",
       "      <th>6501</th>\n",
       "      <td>700</td>\n",
       "      <td>Айдар</td>\n",
       "      <td>22</td>\n",
       "      <td>Омск</td>\n",
       "      <td>free</td>\n",
       "      <td>846.932642</td>\n",
       "      <td>16.234663</td>\n",
       "      <td>2021-02-01</td>\n",
       "      <td>2</td>\n",
       "      <td>8</td>\n",
       "      <td>50</td>\n",
       "      <td>0</td>\n",
       "    </tr>\n",
       "    <tr>\n",
       "      <th>6502</th>\n",
       "      <td>700</td>\n",
       "      <td>Айдар</td>\n",
       "      <td>22</td>\n",
       "      <td>Омск</td>\n",
       "      <td>free</td>\n",
       "      <td>4004.434142</td>\n",
       "      <td>20.016628</td>\n",
       "      <td>2021-02-04</td>\n",
       "      <td>2</td>\n",
       "      <td>8</td>\n",
       "      <td>50</td>\n",
       "      <td>0</td>\n",
       "    </tr>\n",
       "    <tr>\n",
       "      <th>6503</th>\n",
       "      <td>700</td>\n",
       "      <td>Айдар</td>\n",
       "      <td>22</td>\n",
       "      <td>Омск</td>\n",
       "      <td>free</td>\n",
       "      <td>1205.911290</td>\n",
       "      <td>9.782872</td>\n",
       "      <td>2021-02-10</td>\n",
       "      <td>2</td>\n",
       "      <td>8</td>\n",
       "      <td>50</td>\n",
       "      <td>0</td>\n",
       "    </tr>\n",
       "    <tr>\n",
       "      <th>6504</th>\n",
       "      <td>700</td>\n",
       "      <td>Айдар</td>\n",
       "      <td>22</td>\n",
       "      <td>Омск</td>\n",
       "      <td>free</td>\n",
       "      <td>3047.379435</td>\n",
       "      <td>17.427673</td>\n",
       "      <td>2021-02-14</td>\n",
       "      <td>2</td>\n",
       "      <td>8</td>\n",
       "      <td>50</td>\n",
       "      <td>0</td>\n",
       "    </tr>\n",
       "  </tbody>\n",
       "</table>\n",
       "</div>"
      ],
      "text/plain": [
       "      user_id   name  age  city subscription_type     distance   duration  \\\n",
       "6500      700  Айдар   22  Омск              free  2515.690719  14.944286   \n",
       "6501      700  Айдар   22  Омск              free   846.932642  16.234663   \n",
       "6502      700  Айдар   22  Омск              free  4004.434142  20.016628   \n",
       "6503      700  Айдар   22  Омск              free  1205.911290   9.782872   \n",
       "6504      700  Айдар   22  Омск              free  3047.379435  17.427673   \n",
       "\n",
       "           date  month  minute_price  start_ride_price  subscription_fee  \n",
       "6500 2021-01-02      1             8                50                 0  \n",
       "6501 2021-02-01      2             8                50                 0  \n",
       "6502 2021-02-04      2             8                50                 0  \n",
       "6503 2021-02-10      2             8                50                 0  \n",
       "6504 2021-02-14      2             8                50                 0  "
      ]
     },
     "metadata": {},
     "output_type": "display_data"
    }
   ],
   "source": [
    "subscription_ultra = data.query(\"subscription_type == 'ultra'\")\n",
    "display(subscription_ultra.head())\n",
    "\n",
    "subscription_free = data.query(\"subscription_type == 'free'\")\n",
    "display(subscription_free.head())"
   ]
  },
  {
   "cell_type": "markdown",
   "id": "740d29d6",
   "metadata": {},
   "source": [
    "Мы видим, что с помощью .query() удалось быстро выделить два датафрейма с наборами данных."
   ]
  },
  {
   "cell_type": "markdown",
   "id": "f433a1cd",
   "metadata": {},
   "source": [
    "#### Задача 4.3 Визуализируйте информацию о расстоянии и времени поездок для пользователей обеих категорий"
   ]
  },
  {
   "cell_type": "markdown",
   "id": "c4220ea0",
   "metadata": {},
   "source": [
    "Отобразим по два графика для каждого датафрейма и наложим их друг на друга."
   ]
  },
  {
   "cell_type": "code",
   "execution_count": 18,
   "id": "8f3867dd",
   "metadata": {},
   "outputs": [
    {
     "data": {
      "image/png": "[encoded data removed]",
      "text/plain": [
       "<Figure size 1080x360 with 2 Axes>"
      ]
     },
     "metadata": {
      "needs_background": "light"
     },
     "output_type": "display_data"
    }
   ],
   "source": [
    "fig, ax_arr = plt.subplots(1, 2,  figsize=(15, 5))\n",
    "\n",
    "ultra_duration = subscription_ultra.duration\n",
    "free_duration = subscription_free.duration\n",
    "ultra_distance = subscription_ultra.distance\n",
    "free_distance = subscription_free.distance\n",
    "\n",
    "ax_arr[0].hist([ultra_duration, free_duration], \n",
    "         bins=30, \n",
    "         label=['Длительность с подпиской', \n",
    "                'Длительность без подписки'])\n",
    "\n",
    "ax_arr[1].hist([ultra_distance, free_distance], \n",
    "        bins=30, label=['Расстояние с подпиской', \n",
    "                        'Расстояние без подписки'])\n",
    "\n",
    "ax_arr[0].legend(loc='best')\n",
    "ax_arr[0].set_xlabel('Длительность, мин')\n",
    "ax_arr[0].set_ylabel('Частота')\n",
    "ax_arr[0].set_title('Сравнение распределений по длительности поездок \\nпользователей с подпиской и без нее')\n",
    "\n",
    "ax_arr[1].legend(loc='best')\n",
    "ax_arr[1].set_xlabel('Расстояние, м')\n",
    "ax_arr[1].set_ylabel('Частота')\n",
    "ax_arr[1].set_title('Сравнение распределений по расстоянию поездок \\nпользователей с подпиской и без нее')\n",
    "\n",
    "\n",
    "plt.show()"
   ]
  },
  {
   "cell_type": "markdown",
   "id": "0d2ce88b",
   "metadata": {},
   "source": [
    "#### Предварительные выводы после визуализации:\n",
    "\n",
    "1. Мы видим, что у пользователей с бесплатной подпиской в левых хвостах от пика гистограмм более ярко выражены аномалии. Это близко к правде: пользователи без платной подписки могут реже пользоваться сервисом и чаще сталкиваться с ошибками в ПО или аппаратными. \n",
    "\n",
    "2. Есть и другая гипотеза - пользователей без платной подписки может отпугивать сам факт оплаты за минуты и за старт. Поэтому они попросту отказываются от поездок.\n",
    "\n",
    "3. При этом поведение пользователей с платной и бесплатной подпиской сильно в целом не отличается. Пики по расстоянию приходятся примерно на 3100 м, пики по продолжительности поездок - примерно на 17-18 минут.  "
   ]
  },
  {
   "cell_type": "markdown",
   "id": "74dc9c9d",
   "metadata": {},
   "source": [
    "#### Шаг 5. Подсчёт выручки"
   ]
  },
  {
   "cell_type": "markdown",
   "id": "d62b001a",
   "metadata": {},
   "source": [
    "#### Задача 5.1. Найдите суммарное расстояние, количество поездок и суммарное время для каждого пользователя за каждый месяц"
   ]
  },
  {
   "cell_type": "code",
   "execution_count": 25,
   "id": "6bf1d31a",
   "metadata": {},
   "outputs": [
    {
     "data": {
      "text/html": [
       "<div>\n",
       "<style scoped>\n",
       "    .dataframe tbody tr th:only-of-type {\n",
       "        vertical-align: middle;\n",
       "    }\n",
       "\n",
       "    .dataframe tbody tr th {\n",
       "        vertical-align: top;\n",
       "    }\n",
       "\n",
       "    .dataframe thead th {\n",
       "        text-align: right;\n",
       "    }\n",
       "</style>\n",
       "<table border=\"1\" class=\"dataframe\">\n",
       "  <thead>\n",
       "    <tr style=\"text-align: right;\">\n",
       "      <th></th>\n",
       "      <th>month</th>\n",
       "      <th>user_id</th>\n",
       "      <th>total_rides</th>\n",
       "      <th>total_distance</th>\n",
       "      <th>total_duration</th>\n",
       "      <th>subscription_type</th>\n",
       "    </tr>\n",
       "  </thead>\n",
       "  <tbody>\n",
       "    <tr>\n",
       "      <th>0</th>\n",
       "      <td>1</td>\n",
       "      <td>1</td>\n",
       "      <td>2</td>\n",
       "      <td>7027.511294</td>\n",
       "      <td>42.0</td>\n",
       "      <td>ultra</td>\n",
       "    </tr>\n",
       "    <tr>\n",
       "      <th>1</th>\n",
       "      <td>1</td>\n",
       "      <td>3</td>\n",
       "      <td>1</td>\n",
       "      <td>3061.777147</td>\n",
       "      <td>13.0</td>\n",
       "      <td>ultra</td>\n",
       "    </tr>\n",
       "    <tr>\n",
       "      <th>2</th>\n",
       "      <td>1</td>\n",
       "      <td>5</td>\n",
       "      <td>1</td>\n",
       "      <td>3914.646990</td>\n",
       "      <td>13.0</td>\n",
       "      <td>ultra</td>\n",
       "    </tr>\n",
       "    <tr>\n",
       "      <th>3</th>\n",
       "      <td>1</td>\n",
       "      <td>7</td>\n",
       "      <td>2</td>\n",
       "      <td>6478.080979</td>\n",
       "      <td>28.0</td>\n",
       "      <td>ultra</td>\n",
       "    </tr>\n",
       "    <tr>\n",
       "      <th>4</th>\n",
       "      <td>1</td>\n",
       "      <td>12</td>\n",
       "      <td>1</td>\n",
       "      <td>3577.151148</td>\n",
       "      <td>33.0</td>\n",
       "      <td>ultra</td>\n",
       "    </tr>\n",
       "  </tbody>\n",
       "</table>\n",
       "</div>"
      ],
      "text/plain": [
       "   month  user_id  total_rides  total_distance  total_duration  \\\n",
       "0      1        1            2     7027.511294            42.0   \n",
       "1      1        3            1     3061.777147            13.0   \n",
       "2      1        5            1     3914.646990            13.0   \n",
       "3      1        7            2     6478.080979            28.0   \n",
       "4      1       12            1     3577.151148            33.0   \n",
       "\n",
       "  subscription_type  \n",
       "0             ultra  \n",
       "1             ultra  \n",
       "2             ultra  \n",
       "3             ultra  \n",
       "4             ultra  "
      ]
     },
     "execution_count": 25,
     "metadata": {},
     "output_type": "execute_result"
    }
   ],
   "source": [
    "#приведем продолжительность каждой поездки в исходном датафрейме к целому значению\n",
    "data['duration'] = np.ceil(data['duration'])\n",
    "user_info = ( \n",
    "    data.pivot_table(index = ['month', 'user_id'], values = ['distance', 'date', 'duration', 'subscription_type'], \n",
    "                              aggfunc = {'distance': 'sum', 'date': 'count',  'duration':'sum', 'subscription_type':'min'})\n",
    "    .reset_index()\n",
    ")\n",
    "user_info.columns = ['month', 'user_id', 'total_rides', 'total_distance', 'total_duration', 'subscription_type']\n",
    "user_info.head()"
   ]
  },
  {
   "cell_type": "markdown",
   "id": "3c83c323",
   "metadata": {},
   "source": [
    "#### Задача 5.2. Добавьте столбец с помесячной выручкой, которую принёс каждый пользователь"
   ]
  },
  {
   "cell_type": "code",
   "execution_count": 26,
   "id": "8bc3ddfa",
   "metadata": {},
   "outputs": [
    {
     "data": {
      "text/html": [
       "<div>\n",
       "<style scoped>\n",
       "    .dataframe tbody tr th:only-of-type {\n",
       "        vertical-align: middle;\n",
       "    }\n",
       "\n",
       "    .dataframe tbody tr th {\n",
       "        vertical-align: top;\n",
       "    }\n",
       "\n",
       "    .dataframe thead th {\n",
       "        text-align: right;\n",
       "    }\n",
       "</style>\n",
       "<table border=\"1\" class=\"dataframe\">\n",
       "  <thead>\n",
       "    <tr style=\"text-align: right;\">\n",
       "      <th></th>\n",
       "      <th>month</th>\n",
       "      <th>user_id</th>\n",
       "      <th>total_rides</th>\n",
       "      <th>total_distance</th>\n",
       "      <th>total_duration</th>\n",
       "      <th>subscription_type</th>\n",
       "      <th>minute_price</th>\n",
       "      <th>start_ride_price</th>\n",
       "      <th>subscription_fee</th>\n",
       "      <th>monthly_revenue</th>\n",
       "    </tr>\n",
       "  </thead>\n",
       "  <tbody>\n",
       "    <tr>\n",
       "      <th>0</th>\n",
       "      <td>1</td>\n",
       "      <td>1</td>\n",
       "      <td>2</td>\n",
       "      <td>7027.511294</td>\n",
       "      <td>42.0</td>\n",
       "      <td>ultra</td>\n",
       "      <td>6</td>\n",
       "      <td>0</td>\n",
       "      <td>199</td>\n",
       "      <td>451</td>\n",
       "    </tr>\n",
       "    <tr>\n",
       "      <th>1</th>\n",
       "      <td>1</td>\n",
       "      <td>3</td>\n",
       "      <td>1</td>\n",
       "      <td>3061.777147</td>\n",
       "      <td>13.0</td>\n",
       "      <td>ultra</td>\n",
       "      <td>6</td>\n",
       "      <td>0</td>\n",
       "      <td>199</td>\n",
       "      <td>277</td>\n",
       "    </tr>\n",
       "    <tr>\n",
       "      <th>2</th>\n",
       "      <td>1</td>\n",
       "      <td>5</td>\n",
       "      <td>1</td>\n",
       "      <td>3914.646990</td>\n",
       "      <td>13.0</td>\n",
       "      <td>ultra</td>\n",
       "      <td>6</td>\n",
       "      <td>0</td>\n",
       "      <td>199</td>\n",
       "      <td>277</td>\n",
       "    </tr>\n",
       "    <tr>\n",
       "      <th>3</th>\n",
       "      <td>1</td>\n",
       "      <td>7</td>\n",
       "      <td>2</td>\n",
       "      <td>6478.080979</td>\n",
       "      <td>28.0</td>\n",
       "      <td>ultra</td>\n",
       "      <td>6</td>\n",
       "      <td>0</td>\n",
       "      <td>199</td>\n",
       "      <td>367</td>\n",
       "    </tr>\n",
       "    <tr>\n",
       "      <th>4</th>\n",
       "      <td>1</td>\n",
       "      <td>12</td>\n",
       "      <td>1</td>\n",
       "      <td>3577.151148</td>\n",
       "      <td>33.0</td>\n",
       "      <td>ultra</td>\n",
       "      <td>6</td>\n",
       "      <td>0</td>\n",
       "      <td>199</td>\n",
       "      <td>397</td>\n",
       "    </tr>\n",
       "  </tbody>\n",
       "</table>\n",
       "</div>"
      ],
      "text/plain": [
       "   month  user_id  total_rides  total_distance  total_duration  \\\n",
       "0      1        1            2     7027.511294            42.0   \n",
       "1      1        3            1     3061.777147            13.0   \n",
       "2      1        5            1     3914.646990            13.0   \n",
       "3      1        7            2     6478.080979            28.0   \n",
       "4      1       12            1     3577.151148            33.0   \n",
       "\n",
       "  subscription_type  minute_price  start_ride_price  subscription_fee  \\\n",
       "0             ultra             6                 0               199   \n",
       "1             ultra             6                 0               199   \n",
       "2             ultra             6                 0               199   \n",
       "3             ultra             6                 0               199   \n",
       "4             ultra             6                 0               199   \n",
       "\n",
       "   monthly_revenue  \n",
       "0              451  \n",
       "1              277  \n",
       "2              277  \n",
       "3              367  \n",
       "4              397  "
      ]
     },
     "execution_count": 26,
     "metadata": {},
     "output_type": "execute_result"
    }
   ],
   "source": [
    "#добавим в наш датафрейм данные о подписках, чтобы корректно посчитать выручку\n",
    "\n",
    "user_info = user_info.merge(subscriptions, how='inner', on='subscription_type')\n",
    "\n",
    "#посчитаем стоимость поездки для каждого пользователя\n",
    "\n",
    "user_info['monthly_revenue'] = (user_info['total_duration'] * user_info['minute_price']) + (user_info['start_ride_price'] * user_info['total_rides']) + user_info['subscription_fee']\n",
    "#переведем данные из столбца из Series в int64\n",
    "user_info['monthly_revenue'] = user_info['monthly_revenue'].astype('int')\n",
    "user_info.head()"
   ]
  },
  {
   "cell_type": "markdown",
   "id": "176d38d8",
   "metadata": {},
   "source": [
    "#### Предварительные выводы после подсчета выручки:\n",
    "\n",
    "1. По итогам этого этапа мы добавили новый общий датафрейм user_info с агрегированными данными. В нем нашли суммарное расстояние, количество поездок и суммарное время для каждого пользователя за каждый месяц.\n",
    "\n",
    "2. В этот датафрейм мы добавили столбец с помесячной выручкой, которую принес каждый пользователь.\n"
   ]
  },
  {
   "cell_type": "markdown",
   "id": "73962d8f",
   "metadata": {},
   "source": [
    "#### Шаг 6. Проверка гипотез"
   ]
  },
  {
   "cell_type": "markdown",
   "id": "fa71dd83",
   "metadata": {},
   "source": [
    "#### Задача 6.1. Важно понять, тратят ли пользователи с подпиской больше времени на поездки?"
   ]
  },
  {
   "cell_type": "markdown",
   "id": "697a87ab",
   "metadata": {},
   "source": [
    "Cперва сформулируем нулевую и одностороннюю альтернативную гипотезы:\n",
    "    \n",
    "****H0 = Среднее время поездок у всех пользователей с подпиской равно среднему времени поездок всех пользователей без подписки.****\n",
    "\n",
    "****H1 = Среднее время поездок у всех пользователей с подпиской больше среднего времени поездок всех пользователей без подписки.****"
   ]
  },
  {
   "cell_type": "markdown",
   "id": "22b72e13",
   "metadata": {},
   "source": [
    "#### Проверка гипотезы 6.1\n",
    "\n",
    "Чтобы проверить гипотезу, воспользуемся методом проверки гипотезы о равенстве среднего двух генеральных совокупностей по взятым из них выборкам. T-тест будем применять, так как все три параметра соблюдены:\n",
    "\n",
    "1. В нашем случае выборочные средние распределены близко к нормальному вокруг истинного среднего этой совокупности, так как размер каждой выборки больше нескольких десятков значений.\n",
    "2. Генеральные совокупности не зависят друг от друга: в выборках у нас данные о разных пользователях, они не пересекаются.\n",
    "3. Даже если дисперсии генеральных совокупностей не равн, согласно симуляциям, проведенным учеными, тест вряд ли ошибется."
   ]
  },
  {
   "cell_type": "code",
   "execution_count": 21,
   "id": "99bb993a",
   "metadata": {},
   "outputs": [
    {
     "name": "stdout",
     "output_type": "stream",
     "text": [
      "4.704468074453899e-28\n",
      "Отвергаем нулевую гипотезу\n",
      "Средняя продолжительность поездки для пользователей с подпиской: 18.54198516280583\n",
      "Средняя продолжительность поездки для пользователей без подписки: 17.530771268800226\n"
     ]
    }
   ],
   "source": [
    "free_rides_duration = subscription_free.duration \n",
    "\n",
    "ultra_rides_duration = subscription_ultra.duration \n",
    "\n",
    "results = st.ttest_ind(ultra_rides_duration,\n",
    "                       free_rides_duration,\n",
    "                       alternative = 'greater')\n",
    "\n",
    "alpha = .05\n",
    "\n",
    "print(results.pvalue)\n",
    "\n",
    "if results.pvalue < alpha:\n",
    "    print('Отвергаем нулевую гипотезу')\n",
    "    print(f'Средняя продолжительность поездки для пользователей с подпиской: {ultra_rides_duration.mean()}')\n",
    "    print(f'Средняя продолжительность поездки для пользователей без подписки: {free_rides_duration.mean()}')\n",
    "else:\n",
    "    print('Не удалось отвергнуть нулевую гипотезу')\n",
    "    print(f'Средняя продолжительность поездки для пользователей с подпиской: {ultra_rides_duration.mean()}')\n",
    "    print(f'Средняя продолжительность поездки для пользователей без подписки: {free_rides_duration.mean()}')"
   ]
  },
  {
   "cell_type": "markdown",
   "id": "60052551",
   "metadata": {},
   "source": [
    "****Вывод:****\n",
    "\n",
    "Значение p-value меньше статистической значимости: это означает, что мы можем отвергнуть нулевую гипотезу в пользу альтернативной. Она звучит так, что среднее время поездок у всех пользователей с подпиской больше среднего времени поездок всех пользователей без подписки. Гипотеза подтверждает, что пользователи с подпиской могут тратить больше времени на поездки, чем пользователи без подписки. Пока у нас нет поводов утверждать иначе.\n",
    "\n",
    "Кроме того, эту гипотезу подтверждают и средние показатели продолжительности поездок для каждой из категорий пользователей."
   ]
  },
  {
   "cell_type": "markdown",
   "id": "28b472d6",
   "metadata": {},
   "source": [
    "#### 6.2. Превышает ли среднее расстояние поездок пользователей оптимальное расстояние в 3130 метров?"
   ]
  },
  {
   "cell_type": "markdown",
   "id": "beafee18",
   "metadata": {},
   "source": [
    "Cперва сформулируем нулевую и одностороннюю альтернативную гипотезы:\n",
    "\n",
    "****H0 = Среднее расстояние поездок у пользователей с подпиской меньше или равно оптимальному расстоянию поездок.****\n",
    "\n",
    "****H1 = Среднее расстояние поездок у пользователей с подпиской больше оптимального расстояния поездок.****"
   ]
  },
  {
   "cell_type": "markdown",
   "id": "1b0578a0",
   "metadata": {},
   "source": [
    "#### Проверка гипотезы 6.2"
   ]
  },
  {
   "cell_type": "code",
   "execution_count": 22,
   "id": "ac34be34",
   "metadata": {},
   "outputs": [
    {
     "name": "stdout",
     "output_type": "stream",
     "text": [
      "p-значение: 0.9195368847849785\n",
      "Не получилось отвергнуть нулевую гипотезу: среднее растояние действительно меньше или равно 3130 м\n"
     ]
    }
   ],
   "source": [
    "ultra_rides_distance = subscription_ultra.distance\n",
    "\n",
    "optimal_distance = 3130\n",
    "\n",
    "alpha = .05 \n",
    "\n",
    "results = st.ttest_1samp(\n",
    "    ultra_rides_distance, \n",
    "    optimal_distance,\n",
    "      alternative='greater') \n",
    "\n",
    "print('p-значение:', results.pvalue )\n",
    "\n",
    "if results.pvalue < alpha: \n",
    "    print('Отвергаем нулевую гипотезу: среднее расстояние больше 3130 м')\n",
    "else:\n",
    "    print('Не получилось отвергнуть нулевую гипотезу: среднее растояние действительно меньше или равно 3130 м')"
   ]
  },
  {
   "cell_type": "markdown",
   "id": "686f7fee",
   "metadata": {},
   "source": [
    "****Вывод:****\n",
    "\n",
    "Значение p-value больше статистической значимости: это означает, что мы не можем отвергнуть нулевую гипотезу в пользу альтернативной. Значит, мы можем говорить, что среднее расстояние поездок меньше или равно оптимальному расстоянию поездок."
   ]
  },
  {
   "cell_type": "markdown",
   "id": "4d099e21",
   "metadata": {},
   "source": [
    "#### 6.3. Помесячная выручка пользователей с подпиской выше, чем у пользователей без подписки"
   ]
  },
  {
   "cell_type": "markdown",
   "id": "92ded509",
   "metadata": {},
   "source": [
    "Cперва сформулируем нулевую и одностороннюю альтернативную гипотезы:\n",
    "\n",
    "****H0 = Помесячная выручка у пользователей с подпиской равна помесячной выручке пользователей без подписки.****\n",
    "\n",
    "****H1 = Помесячная выручка у пользователей с подпиской больше помесячной выручки пользователей без подписки.****"
   ]
  },
  {
   "cell_type": "code",
   "execution_count": 23,
   "id": "7acd1ce0",
   "metadata": {},
   "outputs": [
    {
     "name": "stdout",
     "output_type": "stream",
     "text": [
      "4.22697806677947e-36\n",
      "Отвергаем нулевую гипотезу\n",
      "Средняя выручка для пользователей с подпиской: 358.02978160158835\n",
      "Средняя выручка для пользователей без подписки: 322.0421161519137\n"
     ]
    }
   ],
   "source": [
    "ultra_monthly_revenue = user_info.loc[user_info.subscription_type == 'ultra', 'monthly_revenue'] \n",
    "\n",
    "free_monthly_revenue = user_info.loc[user_info.subscription_type == 'free', 'monthly_revenue'].astype('int') \n",
    "\n",
    "results = st.ttest_ind(ultra_monthly_revenue, \n",
    "                       free_monthly_revenue,\n",
    "                       alternative = 'greater')\n",
    "\n",
    "alpha = .05\n",
    "\n",
    "print(results.pvalue)\n",
    "\n",
    "if results.pvalue < alpha:\n",
    "    print('Отвергаем нулевую гипотезу')\n",
    "    print(f'Средняя выручка для пользователей с подпиской: {ultra_monthly_revenue.mean()}')\n",
    "    print(f'Средняя выручка для пользователей без подписки: {free_monthly_revenue.mean()}')\n",
    "else:\n",
    "    print('Не удалось отвергнуть нулевую гипотезу')\n",
    "    print(f'Средняя выручка для пользователей с подпиской: {ultra_monthly_revenue.mean()}')\n",
    "    print(f'Средняя выручка для пользователей без подписки: {free_monthly_revenue.mean()}')"
   ]
  },
  {
   "cell_type": "markdown",
   "id": "c333b2a4",
   "metadata": {},
   "source": [
    "****Вывод:****\n",
    "\n",
    "Значение p-value меньше статистической значимости: это означает, что мы можем отвергнуть нулевую гипотезу в пользу альтернативной. Альтернативная гипотеза звучит так, что помесячная выручка у пользователей с подпиской больше помесячной выручки пользователей без подписки."
   ]
  },
  {
   "cell_type": "markdown",
   "id": "3dc91a0d",
   "metadata": {},
   "source": [
    "#### 6.4. Какой тест понадобился бы для проверки гипотезы о снижении обращений в техподдержку после обновления"
   ]
  },
  {
   "cell_type": "markdown",
   "id": "97705ff2",
   "metadata": {},
   "source": [
    "В данном случае мы бы использовали метод scipy.stats.ttest_rel(). Он позволяет проверить гипотезы о равенстве среднего генеральной совокупности для зависимых (парных) выборок. Парная выборка означает, что некоторая переменная измеряется дважды для одних и тех же объектов. В нашем примере это пара измерений для каждого пользователя — до и после обновления серверов.\n",
    "\n",
    "Гипотезы могли бы звучать так:\n",
    "\n",
    "****H0 = Количество обращений в техподдержку пользователей после обновления равно этому же показателю до обновления.****\n",
    "\n",
    "****H1 = Количество обращений в техподдержку пользователей после обновления меньше этого же показателя до обновления.****"
   ]
  },
  {
   "cell_type": "markdown",
   "id": "6b0982b4",
   "metadata": {},
   "source": [
    "#### Предварительные выводы после проверки гипотез:\n",
    "\n",
    "1. Гипотеза, что пользователи с подпиской могут тратить больше времени на поездки, чем пользователи без подписки, подтвердилась. Мы проверили ее методом проверки гипотезы о равенстве среднего двух генеральных совокупностей по взятым из них выборкам. Кроме того, эту гипотезу подтверждают и средние показатели продолжительности поездок для каждой из категорий пользователей.\n",
    "\n",
    "2. Гипотеза, что среднее расстояние поездок меньше или равно оптимальному расстоянию поездок, подтвердилась. \n",
    "\n",
    "3. Гипотеза, что помесячная выручка у пользователей с подпиской больше помесячной выручки пользователей без подписки, подтвердилась. Мы проверили ее с помощью метода st.ttest_1samp, который подходит для проверки односторонних гипотез.\n",
    "\n",
    "4. В случае с обновлением сервером мы бы использовали метод scipy.stats.ttest_rel(). Он позволяет проверить гипотезы о равенстве среднего генеральной совокупности для зависимых (парных) выборок."
   ]
  },
  {
   "cell_type": "markdown",
   "id": "5783d999",
   "metadata": {},
   "source": [
    "### Общий вывод"
   ]
  },
  {
   "cell_type": "markdown",
   "id": "17e57cee",
   "metadata": {},
   "source": [
    "1. Мы загрузили три датафрейма с данными пользователей, поездок и подписок. Затем проверили их на дубликаты и пропущенные значения и обработали тип данных в столбце date к типу datetime64. Заодно добавили новый столбец month с номером месяца.\n",
    "\n",
    "2. Провели исследовательский анализ данных. Выяснили, что число пользователи примерно одинаковое в каждом городе. Лидер по количеству пользователей - Пятигорск, меньше всего пользователей в датафрейме в Москве.\n",
    "\n",
    "3. Пользователей, использующих бесплатную подписку, немного больше, чем пользователей с платной подпиской. Основное пиковое значение по расстоянию поездок приходится на примерно 3100 м, по продолжительности поездок - около 18 минут.\n",
    "\n",
    "4. Мы собрали один датафрейма с помощью merge(). Затем создали на его основе еще два датафрейма: для пользователей с платной и бесплатной типами подписок. Следующим шагом визуализировали данные о времени и расстоянии поездок для каждого типа подписки.\n",
    "\n",
    "5. Поведение пользователей с платной и бесплатной подпиской сильно в целом не отличается. Пики по расстоянию приходятся примерно на 3100 м, пики по продолжительности поездок - примерно на 17-18 минут.  \n",
    "\n",
    "6. Затем мы нашли суммарное расстояние, количество поездок и суммарное время для каждого пользователя за каждый месяц в отдельном датафрейме user_info. Добавили в него столбец с помесячной выручкой monthly_revenue.\n",
    "\n",
    "7. Проверили гипотезы: подтвердили три из них:\n",
    "\n",
    "- пользователи с подпиской могут тратить больше времени на поездки, чем пользователи без подписки\n",
    "- среднее расстояние поездок меньше или равно оптимальному расстоянию поездок.\n",
    "- помесячная выручка у пользователей с подпиской больше помесячной выручки пользователей без подписки\n",
    "\n",
    "\n",
    "8. Описали, что в случае с обновлением сервером мы бы использовали метод scipy.stats.ttest_rel(). Он позволяет проверить гипотезы о равенстве среднего генеральной совокупности для зависимых (парных) выборок."
   ]
  }
 ],
 "metadata": {
  "ExecuteTimeLog": [
   {
    "duration": 1177,
    "start_time": "2023-10-27T13:29:56.148Z"
   },
   {
    "duration": 223,
    "start_time": "2023-10-27T13:29:57.327Z"
   },
   {
    "duration": 31,
    "start_time": "2023-10-27T13:29:57.552Z"
   },
   {
    "duration": 9,
    "start_time": "2023-10-27T13:29:57.585Z"
   },
   {
    "duration": 31,
    "start_time": "2023-10-27T13:29:57.596Z"
   },
   {
    "duration": 38,
    "start_time": "2023-10-27T13:29:57.628Z"
   },
   {
    "duration": 11,
    "start_time": "2023-10-27T13:29:57.667Z"
   },
   {
    "duration": 32,
    "start_time": "2023-10-27T13:29:57.680Z"
   },
   {
    "duration": 458,
    "start_time": "2023-10-27T13:29:57.713Z"
   },
   {
    "duration": 534,
    "start_time": "2023-10-27T13:29:58.172Z"
   },
   {
    "duration": 25,
    "start_time": "2023-10-27T13:29:58.708Z"
   },
   {
    "duration": 31,
    "start_time": "2023-10-27T13:29:58.735Z"
   },
   {
    "duration": 950,
    "start_time": "2023-10-27T13:29:58.768Z"
   },
   {
    "duration": 847,
    "start_time": "2023-10-27T13:29:59.721Z"
   },
   {
    "duration": 18,
    "start_time": "2023-10-27T13:30:00.570Z"
   },
   {
    "duration": 66,
    "start_time": "2023-10-27T13:30:00.602Z"
   },
   {
    "duration": 115,
    "start_time": "2023-10-27T13:30:00.670Z"
   },
   {
    "duration": 187,
    "start_time": "2023-10-27T13:30:00.787Z"
   },
   {
    "duration": 20,
    "start_time": "2023-10-27T13:36:39.846Z"
   },
   {
    "duration": 6,
    "start_time": "2023-10-27T13:39:21.482Z"
   },
   {
    "duration": 1337,
    "start_time": "2023-10-27T13:45:02.192Z"
   },
   {
    "duration": 111,
    "start_time": "2023-10-27T13:45:03.531Z"
   },
   {
    "duration": 123,
    "start_time": "2023-10-27T13:45:03.644Z"
   },
   {
    "duration": 30,
    "start_time": "2023-10-27T13:45:03.770Z"
   },
   {
    "duration": 81,
    "start_time": "2023-10-27T13:45:03.802Z"
   },
   {
    "duration": 52,
    "start_time": "2023-10-27T13:45:03.885Z"
   },
   {
    "duration": 28,
    "start_time": "2023-10-27T13:45:03.939Z"
   },
   {
    "duration": 48,
    "start_time": "2023-10-27T13:45:03.969Z"
   },
   {
    "duration": 482,
    "start_time": "2023-10-27T13:45:04.019Z"
   },
   {
    "duration": 575,
    "start_time": "2023-10-27T13:45:04.504Z"
   },
   {
    "duration": 38,
    "start_time": "2023-10-27T13:45:05.080Z"
   },
   {
    "duration": 170,
    "start_time": "2023-10-27T13:45:05.120Z"
   },
   {
    "duration": 996,
    "start_time": "2023-10-27T13:45:05.292Z"
   },
   {
    "duration": 812,
    "start_time": "2023-10-27T13:45:06.290Z"
   },
   {
    "duration": 17,
    "start_time": "2023-10-27T13:45:07.104Z"
   },
   {
    "duration": 86,
    "start_time": "2023-10-27T13:45:07.122Z"
   },
   {
    "duration": 78,
    "start_time": "2023-10-27T13:45:07.209Z"
   },
   {
    "duration": 90,
    "start_time": "2023-10-27T13:45:07.288Z"
   },
   {
    "duration": 51,
    "start_time": "2023-10-29T11:49:49.036Z"
   },
   {
    "duration": 1502,
    "start_time": "2023-10-29T11:49:52.947Z"
   },
   {
    "duration": 212,
    "start_time": "2023-10-29T11:49:55.707Z"
   },
   {
    "duration": 78,
    "start_time": "2023-10-29T11:50:15.249Z"
   },
   {
    "duration": 81,
    "start_time": "2023-10-29T11:51:19.251Z"
   },
   {
    "duration": 68,
    "start_time": "2023-10-29T11:51:46.232Z"
   },
   {
    "duration": 77,
    "start_time": "2023-10-29T11:52:02.064Z"
   },
   {
    "duration": 25,
    "start_time": "2023-10-29T11:54:21.219Z"
   },
   {
    "duration": 110,
    "start_time": "2023-10-29T11:54:30.712Z"
   },
   {
    "duration": 18,
    "start_time": "2023-10-29T11:55:12.710Z"
   },
   {
    "duration": 20,
    "start_time": "2023-10-29T11:55:23.583Z"
   },
   {
    "duration": 17,
    "start_time": "2023-10-29T11:56:02.079Z"
   },
   {
    "duration": 23,
    "start_time": "2023-10-29T11:56:09.083Z"
   },
   {
    "duration": 71,
    "start_time": "2023-10-29T11:56:30.917Z"
   },
   {
    "duration": 9,
    "start_time": "2023-10-29T11:57:08.167Z"
   },
   {
    "duration": 4,
    "start_time": "2023-10-29T11:57:17.155Z"
   },
   {
    "duration": 25,
    "start_time": "2023-10-29T11:57:39.616Z"
   },
   {
    "duration": 13,
    "start_time": "2023-10-29T11:57:43.998Z"
   },
   {
    "duration": 10,
    "start_time": "2023-10-29T11:57:47.335Z"
   },
   {
    "duration": 27,
    "start_time": "2023-10-29T11:57:51.840Z"
   },
   {
    "duration": 31,
    "start_time": "2023-10-29T11:59:04.387Z"
   },
   {
    "duration": 107,
    "start_time": "2023-10-29T12:00:19.937Z"
   },
   {
    "duration": 7,
    "start_time": "2023-10-29T12:00:43.336Z"
   },
   {
    "duration": 16,
    "start_time": "2023-10-29T12:01:05.050Z"
   },
   {
    "duration": 11,
    "start_time": "2023-10-29T12:01:17.374Z"
   },
   {
    "duration": 10,
    "start_time": "2023-10-29T12:01:24.748Z"
   },
   {
    "duration": 20,
    "start_time": "2023-10-29T12:01:28.867Z"
   },
   {
    "duration": 6,
    "start_time": "2023-10-29T12:01:35.779Z"
   },
   {
    "duration": 99,
    "start_time": "2023-10-29T12:03:48.761Z"
   },
   {
    "duration": 74,
    "start_time": "2023-10-29T12:09:08.834Z"
   },
   {
    "duration": 250,
    "start_time": "2023-10-29T12:09:16.728Z"
   },
   {
    "duration": 92,
    "start_time": "2023-10-29T12:13:18.537Z"
   },
   {
    "duration": 83,
    "start_time": "2023-10-29T12:13:34.619Z"
   },
   {
    "duration": 251,
    "start_time": "2023-10-29T12:13:40.815Z"
   },
   {
    "duration": 179,
    "start_time": "2023-10-29T12:13:46.909Z"
   },
   {
    "duration": 223,
    "start_time": "2023-10-29T12:14:33.379Z"
   },
   {
    "duration": 213,
    "start_time": "2023-10-29T12:14:53.575Z"
   },
   {
    "duration": 88,
    "start_time": "2023-10-29T12:14:59.066Z"
   },
   {
    "duration": 238,
    "start_time": "2023-10-29T12:15:16.266Z"
   },
   {
    "duration": 300,
    "start_time": "2023-10-29T12:15:31.300Z"
   },
   {
    "duration": 229,
    "start_time": "2023-10-29T12:16:04.056Z"
   },
   {
    "duration": 79,
    "start_time": "2023-10-29T12:16:12.112Z"
   },
   {
    "duration": 23,
    "start_time": "2023-10-29T12:16:15.443Z"
   },
   {
    "duration": 7,
    "start_time": "2023-10-29T12:16:19.616Z"
   },
   {
    "duration": 10,
    "start_time": "2023-10-29T12:16:21.729Z"
   },
   {
    "duration": 12,
    "start_time": "2023-10-29T12:16:23.554Z"
   },
   {
    "duration": 8,
    "start_time": "2023-10-29T12:16:26.013Z"
   },
   {
    "duration": 15,
    "start_time": "2023-10-29T12:16:28.202Z"
   },
   {
    "duration": 248,
    "start_time": "2023-10-29T12:16:34.178Z"
   },
   {
    "duration": 228,
    "start_time": "2023-10-29T12:17:01.506Z"
   },
   {
    "duration": 260,
    "start_time": "2023-10-29T12:17:13.985Z"
   },
   {
    "duration": 1639,
    "start_time": "2023-10-29T12:17:25.349Z"
   },
   {
    "duration": 2465,
    "start_time": "2023-10-29T12:17:30.111Z"
   },
   {
    "duration": 6088,
    "start_time": "2023-10-29T12:18:10.968Z"
   },
   {
    "duration": 244,
    "start_time": "2023-10-29T12:18:47.853Z"
   },
   {
    "duration": 235,
    "start_time": "2023-10-29T12:18:55.236Z"
   },
   {
    "duration": 95,
    "start_time": "2023-10-29T12:19:06.699Z"
   },
   {
    "duration": 87,
    "start_time": "2023-10-29T12:19:57.598Z"
   },
   {
    "duration": 164,
    "start_time": "2023-10-29T12:20:07.087Z"
   },
   {
    "duration": 232,
    "start_time": "2023-10-29T12:20:19.679Z"
   },
   {
    "duration": 81,
    "start_time": "2023-10-29T12:20:53.086Z"
   },
   {
    "duration": 71,
    "start_time": "2023-10-29T12:22:17.401Z"
   },
   {
    "duration": 107,
    "start_time": "2023-10-29T12:23:47.641Z"
   },
   {
    "duration": 75,
    "start_time": "2023-10-29T12:24:19.234Z"
   },
   {
    "duration": 78,
    "start_time": "2023-10-29T12:24:53.804Z"
   },
   {
    "duration": 66,
    "start_time": "2023-10-29T12:26:10.172Z"
   },
   {
    "duration": 233,
    "start_time": "2023-10-29T12:26:19.077Z"
   },
   {
    "duration": 253,
    "start_time": "2023-10-29T12:27:55.583Z"
   },
   {
    "duration": 243,
    "start_time": "2023-10-29T12:28:01.693Z"
   },
   {
    "duration": 250,
    "start_time": "2023-10-29T12:28:11.044Z"
   },
   {
    "duration": 403,
    "start_time": "2023-10-29T12:28:47.987Z"
   },
   {
    "duration": 80,
    "start_time": "2023-10-29T12:29:32.999Z"
   },
   {
    "duration": 228,
    "start_time": "2023-10-29T12:29:38.476Z"
   },
   {
    "duration": 8,
    "start_time": "2023-10-29T12:30:06.141Z"
   },
   {
    "duration": 229,
    "start_time": "2023-10-29T12:36:53.261Z"
   },
   {
    "duration": 326,
    "start_time": "2023-10-29T12:37:08.359Z"
   },
   {
    "duration": 228,
    "start_time": "2023-10-29T12:37:39.982Z"
   },
   {
    "duration": 229,
    "start_time": "2023-10-29T12:37:45.289Z"
   },
   {
    "duration": 254,
    "start_time": "2023-10-29T12:38:00.900Z"
   },
   {
    "duration": 414,
    "start_time": "2023-10-29T12:38:24.485Z"
   },
   {
    "duration": 101,
    "start_time": "2023-10-29T12:40:07.597Z"
   },
   {
    "duration": 225,
    "start_time": "2023-10-29T12:40:12.106Z"
   },
   {
    "duration": 84,
    "start_time": "2023-10-29T12:40:19.821Z"
   },
   {
    "duration": 319,
    "start_time": "2023-10-29T12:40:42.159Z"
   },
   {
    "duration": 542,
    "start_time": "2023-10-29T12:41:03.213Z"
   },
   {
    "duration": 329,
    "start_time": "2023-10-29T12:41:17.107Z"
   },
   {
    "duration": 333,
    "start_time": "2023-10-29T12:41:27.382Z"
   },
   {
    "duration": 319,
    "start_time": "2023-10-29T12:41:42.896Z"
   },
   {
    "duration": 114,
    "start_time": "2023-10-29T12:41:56.722Z"
   },
   {
    "duration": 320,
    "start_time": "2023-10-29T12:42:13.748Z"
   },
   {
    "duration": 286,
    "start_time": "2023-10-29T12:42:36.239Z"
   },
   {
    "duration": 294,
    "start_time": "2023-10-29T12:42:57.815Z"
   },
   {
    "duration": 343,
    "start_time": "2023-10-29T12:43:04.353Z"
   },
   {
    "duration": 148,
    "start_time": "2023-10-29T12:43:16.430Z"
   },
   {
    "duration": 496,
    "start_time": "2023-10-29T12:43:22.009Z"
   },
   {
    "duration": 233,
    "start_time": "2023-10-29T12:43:38.366Z"
   },
   {
    "duration": 286,
    "start_time": "2023-10-29T12:43:49.123Z"
   },
   {
    "duration": 299,
    "start_time": "2023-10-29T12:48:09.742Z"
   },
   {
    "duration": 296,
    "start_time": "2023-10-29T12:48:52.500Z"
   },
   {
    "duration": 356,
    "start_time": "2023-10-29T12:49:01.307Z"
   },
   {
    "duration": 311,
    "start_time": "2023-10-29T12:49:07.490Z"
   },
   {
    "duration": 358,
    "start_time": "2023-10-29T12:49:13.543Z"
   },
   {
    "duration": 18,
    "start_time": "2023-10-29T12:50:12.195Z"
   },
   {
    "duration": 501,
    "start_time": "2023-10-29T12:50:24.244Z"
   },
   {
    "duration": 505,
    "start_time": "2023-10-29T12:50:30.081Z"
   },
   {
    "duration": 371,
    "start_time": "2023-10-29T12:50:40.360Z"
   },
   {
    "duration": 371,
    "start_time": "2023-10-29T12:50:46.741Z"
   },
   {
    "duration": 327,
    "start_time": "2023-10-29T12:51:18.244Z"
   },
   {
    "duration": 328,
    "start_time": "2023-10-29T12:51:55.415Z"
   },
   {
    "duration": 369,
    "start_time": "2023-10-29T12:52:04.162Z"
   },
   {
    "duration": 334,
    "start_time": "2023-10-29T12:52:08.878Z"
   },
   {
    "duration": 285,
    "start_time": "2023-10-29T12:53:33.995Z"
   },
   {
    "duration": 572,
    "start_time": "2023-10-29T12:53:39.216Z"
   },
   {
    "duration": 321,
    "start_time": "2023-10-29T12:53:49.813Z"
   },
   {
    "duration": 331,
    "start_time": "2023-10-29T12:54:02.465Z"
   },
   {
    "duration": 336,
    "start_time": "2023-10-29T12:54:20.797Z"
   },
   {
    "duration": 80,
    "start_time": "2023-10-29T13:35:02.596Z"
   },
   {
    "duration": 25,
    "start_time": "2023-10-29T13:35:05.048Z"
   },
   {
    "duration": 11,
    "start_time": "2023-10-29T13:35:08.386Z"
   },
   {
    "duration": 8,
    "start_time": "2023-10-29T13:35:12.938Z"
   },
   {
    "duration": 15,
    "start_time": "2023-10-29T13:35:14.848Z"
   },
   {
    "duration": 368,
    "start_time": "2023-10-29T13:35:30.386Z"
   },
   {
    "duration": 312,
    "start_time": "2023-10-29T13:35:37.015Z"
   },
   {
    "duration": 347,
    "start_time": "2023-10-29T13:35:49.332Z"
   },
   {
    "duration": 335,
    "start_time": "2023-10-29T13:35:56.274Z"
   },
   {
    "duration": 553,
    "start_time": "2023-10-29T13:36:02.111Z"
   },
   {
    "duration": 337,
    "start_time": "2023-10-29T13:36:35.275Z"
   },
   {
    "duration": 246,
    "start_time": "2023-10-29T13:39:27.341Z"
   },
   {
    "duration": 270,
    "start_time": "2023-10-29T13:39:52.903Z"
   },
   {
    "duration": 336,
    "start_time": "2023-10-29T13:40:15.031Z"
   },
   {
    "duration": 94,
    "start_time": "2023-10-29T13:40:35.866Z"
   },
   {
    "duration": 351,
    "start_time": "2023-10-29T13:40:39.615Z"
   },
   {
    "duration": 349,
    "start_time": "2023-10-29T13:40:56.583Z"
   },
   {
    "duration": 371,
    "start_time": "2023-10-29T13:42:16.478Z"
   },
   {
    "duration": 565,
    "start_time": "2023-10-29T13:42:30.787Z"
   },
   {
    "duration": 360,
    "start_time": "2023-10-29T13:42:47.876Z"
   },
   {
    "duration": 351,
    "start_time": "2023-10-29T13:43:36.895Z"
   },
   {
    "duration": 351,
    "start_time": "2023-10-29T13:44:20.841Z"
   },
   {
    "duration": 415,
    "start_time": "2023-10-29T13:45:03.418Z"
   },
   {
    "duration": 462,
    "start_time": "2023-10-29T13:45:08.482Z"
   },
   {
    "duration": 679,
    "start_time": "2023-10-29T13:45:37.072Z"
   },
   {
    "duration": 10,
    "start_time": "2023-10-29T13:48:01.484Z"
   },
   {
    "duration": 17,
    "start_time": "2023-10-29T13:50:04.500Z"
   },
   {
    "duration": 16,
    "start_time": "2023-10-29T13:50:26.705Z"
   },
   {
    "duration": 13,
    "start_time": "2023-10-29T13:50:43.164Z"
   },
   {
    "duration": 12,
    "start_time": "2023-10-29T13:50:48.581Z"
   },
   {
    "duration": 9,
    "start_time": "2023-10-29T13:50:53.903Z"
   },
   {
    "duration": 1203,
    "start_time": "2023-10-29T13:51:15.926Z"
   },
   {
    "duration": 12,
    "start_time": "2023-10-29T13:52:31.104Z"
   },
   {
    "duration": 13,
    "start_time": "2023-10-29T13:54:06.329Z"
   },
   {
    "duration": 7,
    "start_time": "2023-10-29T13:54:12.933Z"
   },
   {
    "duration": 7,
    "start_time": "2023-10-29T13:54:24.708Z"
   },
   {
    "duration": 7,
    "start_time": "2023-10-29T13:54:28.667Z"
   },
   {
    "duration": 12,
    "start_time": "2023-10-29T13:55:13.463Z"
   },
   {
    "duration": 8,
    "start_time": "2023-10-29T14:00:53.191Z"
   },
   {
    "duration": 15,
    "start_time": "2023-10-29T14:01:06.063Z"
   },
   {
    "duration": 537,
    "start_time": "2023-10-29T14:01:25.939Z"
   },
   {
    "duration": 148,
    "start_time": "2023-10-29T14:01:44.488Z"
   },
   {
    "duration": 76,
    "start_time": "2023-10-29T14:02:10.778Z"
   },
   {
    "duration": 14,
    "start_time": "2023-10-29T14:02:20.757Z"
   },
   {
    "duration": 21,
    "start_time": "2023-10-29T14:04:22.601Z"
   },
   {
    "duration": 25,
    "start_time": "2023-10-29T14:04:53.170Z"
   },
   {
    "duration": 11,
    "start_time": "2023-10-29T14:11:48.029Z"
   },
   {
    "duration": 23,
    "start_time": "2023-10-29T14:12:01.973Z"
   },
   {
    "duration": 4,
    "start_time": "2023-10-29T14:12:35.517Z"
   },
   {
    "duration": 3,
    "start_time": "2023-10-29T14:12:50.992Z"
   },
   {
    "duration": 3,
    "start_time": "2023-10-29T14:13:41.916Z"
   },
   {
    "duration": 153,
    "start_time": "2023-10-29T14:14:10.124Z"
   },
   {
    "duration": 5,
    "start_time": "2023-10-29T14:14:27.352Z"
   },
   {
    "duration": 4,
    "start_time": "2023-10-29T14:14:33.667Z"
   },
   {
    "duration": 31,
    "start_time": "2023-10-29T14:14:43.984Z"
   },
   {
    "duration": 10,
    "start_time": "2023-10-29T14:19:09.224Z"
   },
   {
    "duration": 9,
    "start_time": "2023-10-29T14:19:18.103Z"
   },
   {
    "duration": 177,
    "start_time": "2023-10-29T14:19:25.195Z"
   },
   {
    "duration": 270,
    "start_time": "2023-10-29T14:20:33.087Z"
   },
   {
    "duration": 197,
    "start_time": "2023-10-29T14:20:43.968Z"
   },
   {
    "duration": 207,
    "start_time": "2023-10-29T14:21:23.532Z"
   },
   {
    "duration": 217,
    "start_time": "2023-10-29T14:21:33.358Z"
   },
   {
    "duration": 196,
    "start_time": "2023-10-29T14:22:07.642Z"
   },
   {
    "duration": 472,
    "start_time": "2023-10-29T14:24:18.604Z"
   },
   {
    "duration": 282,
    "start_time": "2023-10-29T14:24:34.104Z"
   },
   {
    "duration": 209,
    "start_time": "2023-10-29T14:24:39.022Z"
   },
   {
    "duration": 285,
    "start_time": "2023-10-29T14:25:20.010Z"
   },
   {
    "duration": 253,
    "start_time": "2023-10-29T14:25:30.957Z"
   },
   {
    "duration": 192,
    "start_time": "2023-10-29T14:25:38.135Z"
   },
   {
    "duration": 236,
    "start_time": "2023-10-29T14:25:58.256Z"
   },
   {
    "duration": 236,
    "start_time": "2023-10-29T14:26:30.752Z"
   },
   {
    "duration": 241,
    "start_time": "2023-10-29T14:27:26.987Z"
   },
   {
    "duration": 270,
    "start_time": "2023-10-29T14:27:43.523Z"
   },
   {
    "duration": 522,
    "start_time": "2023-10-29T14:27:53.509Z"
   },
   {
    "duration": 234,
    "start_time": "2023-10-29T14:27:57.621Z"
   },
   {
    "duration": 275,
    "start_time": "2023-10-29T14:28:16.163Z"
   },
   {
    "duration": 264,
    "start_time": "2023-10-29T14:28:23.630Z"
   },
   {
    "duration": 191,
    "start_time": "2023-10-29T14:31:29.764Z"
   },
   {
    "duration": 192,
    "start_time": "2023-10-29T14:34:25.763Z"
   },
   {
    "duration": 159,
    "start_time": "2023-10-29T14:35:31.200Z"
   },
   {
    "duration": 187,
    "start_time": "2023-10-29T14:35:44.845Z"
   },
   {
    "duration": 187,
    "start_time": "2023-10-29T14:36:12.854Z"
   },
   {
    "duration": 338,
    "start_time": "2023-10-29T14:36:31.334Z"
   },
   {
    "duration": 381,
    "start_time": "2023-10-29T14:36:54.802Z"
   },
   {
    "duration": 599,
    "start_time": "2023-10-29T14:37:27.675Z"
   },
   {
    "duration": 434,
    "start_time": "2023-10-29T14:37:34.960Z"
   },
   {
    "duration": 434,
    "start_time": "2023-10-29T14:37:44.901Z"
   },
   {
    "duration": 535,
    "start_time": "2023-10-29T14:38:42.458Z"
   },
   {
    "duration": 505,
    "start_time": "2023-10-29T14:40:56.767Z"
   },
   {
    "duration": 3,
    "start_time": "2023-10-29T14:45:07.016Z"
   },
   {
    "duration": 10,
    "start_time": "2023-10-29T14:45:15.022Z"
   },
   {
    "duration": 3,
    "start_time": "2023-10-29T14:45:24.278Z"
   },
   {
    "duration": 85,
    "start_time": "2023-10-29T14:45:26.888Z"
   },
   {
    "duration": 31,
    "start_time": "2023-10-29T14:45:32.448Z"
   },
   {
    "duration": 9,
    "start_time": "2023-10-29T14:45:45.725Z"
   },
   {
    "duration": 12,
    "start_time": "2023-10-29T14:45:48.313Z"
   },
   {
    "duration": 10,
    "start_time": "2023-10-29T14:45:51.662Z"
   },
   {
    "duration": 22,
    "start_time": "2023-10-29T14:45:53.827Z"
   },
   {
    "duration": 6,
    "start_time": "2023-10-29T14:45:58.368Z"
   },
   {
    "duration": 621,
    "start_time": "2023-10-29T14:46:02.207Z"
   },
   {
    "duration": 601,
    "start_time": "2023-10-29T14:46:13.426Z"
   },
   {
    "duration": 524,
    "start_time": "2023-10-29T14:46:19.970Z"
   },
   {
    "duration": 523,
    "start_time": "2023-10-29T14:46:26.122Z"
   },
   {
    "duration": 13,
    "start_time": "2023-10-29T14:46:30.405Z"
   },
   {
    "duration": 27,
    "start_time": "2023-10-29T14:46:33.896Z"
   },
   {
    "duration": 12,
    "start_time": "2023-10-29T14:46:39.266Z"
   },
   {
    "duration": 23,
    "start_time": "2023-10-29T14:46:42.294Z"
   },
   {
    "duration": 3,
    "start_time": "2023-10-29T14:46:47.769Z"
   },
   {
    "duration": 32,
    "start_time": "2023-10-29T14:46:50.962Z"
   },
   {
    "duration": 531,
    "start_time": "2023-10-29T14:46:55.128Z"
   },
   {
    "duration": 892,
    "start_time": "2023-10-29T14:47:12.567Z"
   },
   {
    "duration": 17,
    "start_time": "2023-10-29T14:47:18.795Z"
   },
   {
    "duration": 4,
    "start_time": "2023-10-29T14:47:21.077Z"
   },
   {
    "duration": 3,
    "start_time": "2023-10-29T14:47:49.298Z"
   },
   {
    "duration": 21,
    "start_time": "2023-10-29T14:54:05.175Z"
   },
   {
    "duration": 98,
    "start_time": "2023-10-29T14:56:02.374Z"
   },
   {
    "duration": 23,
    "start_time": "2023-10-29T14:56:11.008Z"
   },
   {
    "duration": 22,
    "start_time": "2023-10-29T14:56:28.596Z"
   },
   {
    "duration": 23,
    "start_time": "2023-10-29T14:56:53.203Z"
   },
   {
    "duration": 79,
    "start_time": "2023-10-29T14:57:03.398Z"
   },
   {
    "duration": 25,
    "start_time": "2023-10-29T14:57:27.338Z"
   },
   {
    "duration": 12,
    "start_time": "2023-10-29T14:57:30.728Z"
   },
   {
    "duration": 24,
    "start_time": "2023-10-29T14:57:34.085Z"
   },
   {
    "duration": 32,
    "start_time": "2023-10-29T14:57:36.927Z"
   },
   {
    "duration": 17,
    "start_time": "2023-10-29T14:57:42.152Z"
   },
   {
    "duration": 84,
    "start_time": "2023-10-29T14:57:52.007Z"
   },
   {
    "duration": 25,
    "start_time": "2023-10-29T14:57:54.953Z"
   },
   {
    "duration": 9,
    "start_time": "2023-10-29T14:57:58.208Z"
   },
   {
    "duration": 11,
    "start_time": "2023-10-29T14:58:00.535Z"
   },
   {
    "duration": 7,
    "start_time": "2023-10-29T14:58:02.887Z"
   },
   {
    "duration": 22,
    "start_time": "2023-10-29T14:58:04.821Z"
   },
   {
    "duration": 7,
    "start_time": "2023-10-29T14:58:07.573Z"
   },
   {
    "duration": 607,
    "start_time": "2023-10-29T14:58:10.086Z"
   },
   {
    "duration": 483,
    "start_time": "2023-10-29T14:58:16.398Z"
   },
   {
    "duration": 14,
    "start_time": "2023-10-29T14:58:19.969Z"
   },
   {
    "duration": 29,
    "start_time": "2023-10-29T14:58:24.294Z"
   },
   {
    "duration": 12,
    "start_time": "2023-10-29T14:58:27.746Z"
   },
   {
    "duration": 22,
    "start_time": "2023-10-29T14:58:34.356Z"
   },
   {
    "duration": 4,
    "start_time": "2023-10-29T14:58:39.034Z"
   },
   {
    "duration": 27,
    "start_time": "2023-10-29T14:58:41.116Z"
   },
   {
    "duration": 527,
    "start_time": "2023-10-29T14:58:44.654Z"
   },
   {
    "duration": 869,
    "start_time": "2023-10-29T14:58:48.640Z"
   },
   {
    "duration": 19,
    "start_time": "2023-10-29T14:58:57.918Z"
   },
   {
    "duration": 16,
    "start_time": "2023-10-29T14:59:06.132Z"
   },
   {
    "duration": 21,
    "start_time": "2023-10-29T14:59:19.070Z"
   },
   {
    "duration": 26,
    "start_time": "2023-10-29T14:59:42.608Z"
   },
   {
    "duration": 29,
    "start_time": "2023-10-29T15:00:03.195Z"
   },
   {
    "duration": 40,
    "start_time": "2023-10-29T15:00:11.947Z"
   },
   {
    "duration": 880,
    "start_time": "2023-10-29T15:01:07.059Z"
   },
   {
    "duration": 10,
    "start_time": "2023-10-29T15:01:22.806Z"
   },
   {
    "duration": 23,
    "start_time": "2023-10-29T15:03:10.231Z"
   },
   {
    "duration": 20,
    "start_time": "2023-10-29T15:03:20.367Z"
   },
   {
    "duration": 28,
    "start_time": "2023-10-29T15:03:30.608Z"
   },
   {
    "duration": 26,
    "start_time": "2023-10-29T15:03:34.603Z"
   },
   {
    "duration": 84,
    "start_time": "2023-10-29T15:03:59.856Z"
   },
   {
    "duration": 11,
    "start_time": "2023-10-29T15:04:04.588Z"
   },
   {
    "duration": 13,
    "start_time": "2023-10-29T15:04:07.290Z"
   },
   {
    "duration": 9,
    "start_time": "2023-10-29T15:04:10.295Z"
   },
   {
    "duration": 16,
    "start_time": "2023-10-29T15:04:12.324Z"
   },
   {
    "duration": 11,
    "start_time": "2023-10-29T15:04:14.516Z"
   },
   {
    "duration": 370,
    "start_time": "2023-10-29T15:04:17.419Z"
   },
   {
    "duration": 548,
    "start_time": "2023-10-29T15:04:24.433Z"
   },
   {
    "duration": 36,
    "start_time": "2023-10-29T15:04:28.784Z"
   },
   {
    "duration": 11,
    "start_time": "2023-10-29T15:04:32.051Z"
   },
   {
    "duration": 23,
    "start_time": "2023-10-29T15:04:43.240Z"
   },
   {
    "duration": 4,
    "start_time": "2023-10-29T15:04:57.392Z"
   },
   {
    "duration": 31,
    "start_time": "2023-10-29T15:05:00.703Z"
   },
   {
    "duration": 803,
    "start_time": "2023-10-29T15:05:04.041Z"
   },
   {
    "duration": 817,
    "start_time": "2023-10-29T15:05:10.172Z"
   },
   {
    "duration": 15,
    "start_time": "2023-10-29T15:05:22.720Z"
   },
   {
    "duration": 7,
    "start_time": "2023-10-29T15:06:39.306Z"
   },
   {
    "duration": 5,
    "start_time": "2023-10-29T15:07:05.716Z"
   },
   {
    "duration": 18,
    "start_time": "2023-10-29T15:07:33.712Z"
   },
   {
    "duration": 17,
    "start_time": "2023-10-29T15:08:12.921Z"
   },
   {
    "duration": 18,
    "start_time": "2023-10-29T15:08:20.979Z"
   },
   {
    "duration": 13,
    "start_time": "2023-10-29T15:08:35.789Z"
   },
   {
    "duration": 23,
    "start_time": "2023-10-29T15:08:41.679Z"
   },
   {
    "duration": 9,
    "start_time": "2023-10-29T15:08:49.106Z"
   },
   {
    "duration": 25,
    "start_time": "2023-10-29T15:08:51.028Z"
   },
   {
    "duration": 26,
    "start_time": "2023-10-29T15:08:53.038Z"
   },
   {
    "duration": 22,
    "start_time": "2023-10-29T15:10:04.919Z"
   },
   {
    "duration": 33,
    "start_time": "2023-10-29T15:10:22.516Z"
   },
   {
    "duration": 4,
    "start_time": "2023-10-29T15:10:31.097Z"
   },
   {
    "duration": 21,
    "start_time": "2023-10-29T15:10:40.702Z"
   },
   {
    "duration": 19,
    "start_time": "2023-10-29T15:11:01.972Z"
   },
   {
    "duration": 1630,
    "start_time": "2023-10-29T15:11:39.407Z"
   },
   {
    "duration": 18,
    "start_time": "2023-10-29T15:11:59.271Z"
   },
   {
    "duration": 1606,
    "start_time": "2023-10-29T15:12:38.634Z"
   },
   {
    "duration": 21,
    "start_time": "2023-10-29T15:13:00.096Z"
   },
   {
    "duration": 1650,
    "start_time": "2023-10-29T15:13:06.704Z"
   },
   {
    "duration": 35,
    "start_time": "2023-10-29T15:13:39.728Z"
   },
   {
    "duration": 77,
    "start_time": "2023-10-29T15:13:52.648Z"
   },
   {
    "duration": 24,
    "start_time": "2023-10-29T15:13:55.196Z"
   },
   {
    "duration": 7,
    "start_time": "2023-10-29T15:13:58.446Z"
   },
   {
    "duration": 9,
    "start_time": "2023-10-29T15:14:00.936Z"
   },
   {
    "duration": 14,
    "start_time": "2023-10-29T15:14:03.238Z"
   },
   {
    "duration": 8,
    "start_time": "2023-10-29T15:14:06.886Z"
   },
   {
    "duration": 15,
    "start_time": "2023-10-29T15:14:09.956Z"
   },
   {
    "duration": 7,
    "start_time": "2023-10-29T15:14:13.064Z"
   },
   {
    "duration": 365,
    "start_time": "2023-10-29T15:14:17.159Z"
   },
   {
    "duration": 487,
    "start_time": "2023-10-29T15:14:24.487Z"
   },
   {
    "duration": 13,
    "start_time": "2023-10-29T15:14:29.985Z"
   },
   {
    "duration": 26,
    "start_time": "2023-10-29T15:14:34.324Z"
   },
   {
    "duration": 12,
    "start_time": "2023-10-29T15:14:38.711Z"
   },
   {
    "duration": 22,
    "start_time": "2023-10-29T15:14:42.150Z"
   },
   {
    "duration": 4,
    "start_time": "2023-10-29T15:14:44.777Z"
   },
   {
    "duration": 29,
    "start_time": "2023-10-29T15:14:48.459Z"
   },
   {
    "duration": 489,
    "start_time": "2023-10-29T15:14:53.060Z"
   },
   {
    "duration": 797,
    "start_time": "2023-10-29T15:14:59.304Z"
   },
   {
    "duration": 19,
    "start_time": "2023-10-29T15:15:58.624Z"
   },
   {
    "duration": 7,
    "start_time": "2023-10-29T15:18:42.854Z"
   },
   {
    "duration": 8,
    "start_time": "2023-10-29T15:18:52.824Z"
   },
   {
    "duration": 8,
    "start_time": "2023-10-29T15:18:57.206Z"
   },
   {
    "duration": 7,
    "start_time": "2023-10-29T15:18:59.900Z"
   },
   {
    "duration": 252,
    "start_time": "2023-10-29T15:20:02.339Z"
   },
   {
    "duration": 6,
    "start_time": "2023-10-29T15:21:05.359Z"
   },
   {
    "duration": 10,
    "start_time": "2023-10-29T15:26:33.361Z"
   },
   {
    "duration": 9,
    "start_time": "2023-10-29T15:26:45.567Z"
   },
   {
    "duration": 6,
    "start_time": "2023-10-29T15:30:51.186Z"
   },
   {
    "duration": 6,
    "start_time": "2023-10-29T15:31:11.625Z"
   },
   {
    "duration": 1175,
    "start_time": "2023-10-29T17:09:54.344Z"
   },
   {
    "duration": 221,
    "start_time": "2023-10-29T17:09:55.520Z"
   },
   {
    "duration": 36,
    "start_time": "2023-10-29T17:09:55.743Z"
   },
   {
    "duration": 125,
    "start_time": "2023-10-29T17:09:55.782Z"
   },
   {
    "duration": 135,
    "start_time": "2023-10-29T17:09:55.909Z"
   },
   {
    "duration": 140,
    "start_time": "2023-10-29T17:09:56.046Z"
   },
   {
    "duration": 224,
    "start_time": "2023-10-29T17:09:56.187Z"
   },
   {
    "duration": 154,
    "start_time": "2023-10-29T17:09:56.413Z"
   },
   {
    "duration": 47,
    "start_time": "2023-10-29T17:09:56.569Z"
   },
   {
    "duration": 407,
    "start_time": "2023-10-29T17:09:56.620Z"
   },
   {
    "duration": 481,
    "start_time": "2023-10-29T17:09:57.030Z"
   },
   {
    "duration": 117,
    "start_time": "2023-10-29T17:09:57.513Z"
   },
   {
    "duration": 0,
    "start_time": "2023-10-29T17:09:57.631Z"
   },
   {
    "duration": 0,
    "start_time": "2023-10-29T17:09:57.632Z"
   },
   {
    "duration": 0,
    "start_time": "2023-10-29T17:09:57.633Z"
   },
   {
    "duration": 0,
    "start_time": "2023-10-29T17:09:57.634Z"
   },
   {
    "duration": 0,
    "start_time": "2023-10-29T17:09:57.635Z"
   },
   {
    "duration": 0,
    "start_time": "2023-10-29T17:09:57.637Z"
   },
   {
    "duration": 0,
    "start_time": "2023-10-29T17:09:57.638Z"
   },
   {
    "duration": 0,
    "start_time": "2023-10-29T17:09:57.639Z"
   },
   {
    "duration": 0,
    "start_time": "2023-10-29T17:09:57.640Z"
   },
   {
    "duration": 0,
    "start_time": "2023-10-29T17:09:57.641Z"
   },
   {
    "duration": 0,
    "start_time": "2023-10-29T17:09:57.642Z"
   },
   {
    "duration": 17,
    "start_time": "2023-10-29T17:11:21.856Z"
   },
   {
    "duration": 12,
    "start_time": "2023-10-29T17:11:42.392Z"
   },
   {
    "duration": 31,
    "start_time": "2023-10-29T17:11:52.609Z"
   },
   {
    "duration": 11,
    "start_time": "2023-10-29T17:12:01.099Z"
   },
   {
    "duration": 31,
    "start_time": "2023-10-29T17:12:04.905Z"
   },
   {
    "duration": 4,
    "start_time": "2023-10-29T17:12:10.545Z"
   },
   {
    "duration": 173,
    "start_time": "2023-10-29T17:12:34.394Z"
   },
   {
    "duration": 28,
    "start_time": "2023-10-29T17:13:03.963Z"
   },
   {
    "duration": 535,
    "start_time": "2023-10-29T17:13:06.362Z"
   },
   {
    "duration": 809,
    "start_time": "2023-10-29T17:13:13.267Z"
   },
   {
    "duration": 23,
    "start_time": "2023-10-29T17:13:20.316Z"
   },
   {
    "duration": 7,
    "start_time": "2023-10-29T17:14:03.278Z"
   },
   {
    "duration": 6,
    "start_time": "2023-10-29T17:15:35.641Z"
   },
   {
    "duration": 4,
    "start_time": "2023-10-29T17:15:55.632Z"
   },
   {
    "duration": 9,
    "start_time": "2023-10-29T17:16:11.183Z"
   },
   {
    "duration": 1221,
    "start_time": "2023-10-29T17:16:51.944Z"
   },
   {
    "duration": 93,
    "start_time": "2023-10-29T17:16:53.167Z"
   },
   {
    "duration": 26,
    "start_time": "2023-10-29T17:16:53.262Z"
   },
   {
    "duration": 22,
    "start_time": "2023-10-29T17:16:53.290Z"
   },
   {
    "duration": 56,
    "start_time": "2023-10-29T17:16:53.314Z"
   },
   {
    "duration": 31,
    "start_time": "2023-10-29T17:16:53.372Z"
   },
   {
    "duration": 25,
    "start_time": "2023-10-29T17:16:53.405Z"
   },
   {
    "duration": 44,
    "start_time": "2023-10-29T17:16:53.432Z"
   },
   {
    "duration": 42,
    "start_time": "2023-10-29T17:16:53.477Z"
   },
   {
    "duration": 419,
    "start_time": "2023-10-29T17:16:53.522Z"
   },
   {
    "duration": 485,
    "start_time": "2023-10-29T17:16:53.943Z"
   },
   {
    "duration": 12,
    "start_time": "2023-10-29T17:16:54.429Z"
   },
   {
    "duration": 40,
    "start_time": "2023-10-29T17:16:54.442Z"
   },
   {
    "duration": 19,
    "start_time": "2023-10-29T17:16:54.484Z"
   },
   {
    "duration": 38,
    "start_time": "2023-10-29T17:16:54.505Z"
   },
   {
    "duration": 3,
    "start_time": "2023-10-29T17:16:54.545Z"
   },
   {
    "duration": 54,
    "start_time": "2023-10-29T17:16:54.550Z"
   },
   {
    "duration": 557,
    "start_time": "2023-10-29T17:16:54.607Z"
   },
   {
    "duration": 1006,
    "start_time": "2023-10-29T17:16:55.166Z"
   },
   {
    "duration": 18,
    "start_time": "2023-10-29T17:16:56.173Z"
   },
   {
    "duration": 15,
    "start_time": "2023-10-29T17:16:56.193Z"
   },
   {
    "duration": 15,
    "start_time": "2023-10-29T17:16:56.210Z"
   },
   {
    "duration": 12,
    "start_time": "2023-10-29T17:16:56.227Z"
   },
   {
    "duration": 1863,
    "start_time": "2023-10-29T17:38:41.548Z"
   },
   {
    "duration": 248,
    "start_time": "2023-10-29T17:38:43.533Z"
   },
   {
    "duration": 44,
    "start_time": "2023-10-29T17:38:48.096Z"
   },
   {
    "duration": 13,
    "start_time": "2023-10-29T17:38:53.100Z"
   },
   {
    "duration": 15,
    "start_time": "2023-10-29T17:38:55.145Z"
   },
   {
    "duration": 23,
    "start_time": "2023-10-29T17:38:57.464Z"
   },
   {
    "duration": 11,
    "start_time": "2023-10-29T17:39:01.978Z"
   },
   {
    "duration": 18,
    "start_time": "2023-10-29T17:39:04.717Z"
   },
   {
    "duration": 9,
    "start_time": "2023-10-29T17:39:07.497Z"
   },
   {
    "duration": 479,
    "start_time": "2023-10-29T17:39:10.819Z"
   },
   {
    "duration": 570,
    "start_time": "2023-10-29T17:39:23.572Z"
   },
   {
    "duration": 617,
    "start_time": "2023-10-29T17:39:30.762Z"
   },
   {
    "duration": 19,
    "start_time": "2023-10-29T17:39:35.108Z"
   },
   {
    "duration": 40,
    "start_time": "2023-10-29T17:39:38.842Z"
   },
   {
    "duration": 20,
    "start_time": "2023-10-29T17:39:45.246Z"
   },
   {
    "duration": 53,
    "start_time": "2023-10-29T17:39:48.390Z"
   },
   {
    "duration": 6,
    "start_time": "2023-10-29T17:39:51.270Z"
   },
   {
    "duration": 53,
    "start_time": "2023-10-29T17:39:53.613Z"
   },
   {
    "duration": 856,
    "start_time": "2023-10-29T17:39:56.447Z"
   },
   {
    "duration": 541,
    "start_time": "2023-10-29T17:40:31.421Z"
   },
   {
    "duration": 913,
    "start_time": "2023-10-29T17:40:59.382Z"
   },
   {
    "duration": 917,
    "start_time": "2023-10-29T17:41:52.848Z"
   },
   {
    "duration": 22,
    "start_time": "2023-10-29T17:41:58.292Z"
   },
   {
    "duration": 10,
    "start_time": "2023-10-29T17:42:06.929Z"
   },
   {
    "duration": 6,
    "start_time": "2023-10-29T17:42:24.289Z"
   },
   {
    "duration": 11,
    "start_time": "2023-10-29T17:42:31.858Z"
   },
   {
    "duration": 1302,
    "start_time": "2023-10-30T10:31:18.544Z"
   },
   {
    "duration": 224,
    "start_time": "2023-10-30T10:31:19.849Z"
   },
   {
    "duration": 34,
    "start_time": "2023-10-30T10:31:20.075Z"
   },
   {
    "duration": 6,
    "start_time": "2023-10-30T10:31:20.111Z"
   },
   {
    "duration": 24,
    "start_time": "2023-10-30T10:31:20.119Z"
   },
   {
    "duration": 12,
    "start_time": "2023-10-30T10:31:20.144Z"
   },
   {
    "duration": 7,
    "start_time": "2023-10-30T10:31:20.157Z"
   },
   {
    "duration": 14,
    "start_time": "2023-10-30T10:31:20.166Z"
   },
   {
    "duration": 16,
    "start_time": "2023-10-30T10:31:20.182Z"
   },
   {
    "duration": 441,
    "start_time": "2023-10-30T10:31:20.201Z"
   },
   {
    "duration": 492,
    "start_time": "2023-10-30T10:31:20.644Z"
   },
   {
    "duration": 11,
    "start_time": "2023-10-30T10:31:21.138Z"
   },
   {
    "duration": 41,
    "start_time": "2023-10-30T10:31:21.150Z"
   },
   {
    "duration": 10,
    "start_time": "2023-10-30T10:31:21.193Z"
   },
   {
    "duration": 39,
    "start_time": "2023-10-30T10:31:21.204Z"
   },
   {
    "duration": 4,
    "start_time": "2023-10-30T10:31:21.245Z"
   },
   {
    "duration": 29,
    "start_time": "2023-10-30T10:31:21.250Z"
   },
   {
    "duration": 462,
    "start_time": "2023-10-30T10:31:21.281Z"
   },
   {
    "duration": 999,
    "start_time": "2023-10-30T10:31:21.746Z"
   },
   {
    "duration": 18,
    "start_time": "2023-10-30T10:31:22.747Z"
   },
   {
    "duration": 43,
    "start_time": "2023-10-30T10:31:22.768Z"
   },
   {
    "duration": 29,
    "start_time": "2023-10-30T10:31:22.813Z"
   },
   {
    "duration": 28,
    "start_time": "2023-10-30T10:31:22.844Z"
   },
   {
    "duration": 7,
    "start_time": "2023-10-30T10:33:08.513Z"
   },
   {
    "duration": 861,
    "start_time": "2023-10-30T10:33:33.866Z"
   },
   {
    "duration": 17,
    "start_time": "2023-10-30T10:33:38.330Z"
   },
   {
    "duration": 6,
    "start_time": "2023-10-30T10:33:54.027Z"
   }
  ],
  "kernelspec": {
   "display_name": "Python 3",
   "language": "python",
   "name": "python3"
  },
  "language_info": {
   "codemirror_mode": {
    "name": "ipython",
    "version": 3
   },
   "file_extension": ".py",
   "mimetype": "text/x-python",
   "name": "python",
   "nbconvert_exporter": "python",
   "pygments_lexer": "ipython3",
   "version": "3.8.2"
  },
  "toc": {
   "base_numbering": 1,
   "nav_menu": {},
   "number_sections": true,
   "sideBar": true,
   "skip_h1_title": true,
   "title_cell": "Table of Contents",
   "title_sidebar": "Contents",
   "toc_cell": false,
   "toc_position": {},
   "toc_section_display": true,
   "toc_window_display": false
  }
 },
 "nbformat": 4,
 "nbformat_minor": 5
}
